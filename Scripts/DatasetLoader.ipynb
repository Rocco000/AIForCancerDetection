{
  "nbformat": 4,
  "nbformat_minor": 0,
  "metadata": {
    "colab": {
      "provenance": [],
      "gpuType": "T4",
      "authorship_tag": "ABX9TyPOUxvwpWxUckJkyhkKsBaN",
      "include_colab_link": true
    },
    "kernelspec": {
      "name": "python3",
      "display_name": "Python 3"
    },
    "language_info": {
      "name": "python"
    }
  },
  "cells": [
    {
      "cell_type": "markdown",
      "metadata": {
        "id": "view-in-github",
        "colab_type": "text"
      },
      "source": [
        "<a href=\"https://colab.research.google.com/github/Rocco000/OncoVision/blob/main/Scripts/DatasetLoader.ipynb\" target=\"_parent\"><img src=\"https://colab.research.google.com/assets/colab-badge.svg\" alt=\"Open In Colab\"/></a>"
      ]
    },
    {
      "cell_type": "markdown",
      "source": [
        "**Import the libraries**"
      ],
      "metadata": {
        "id": "nDMUy6RaNcbl"
      }
    },
    {
      "cell_type": "code",
      "source": [
        "\"\"\"#Import the libraries\n",
        "import torch.nn as nn\n",
        "import torch\n",
        "import torch.nn.functional as F\n",
        "import torchvision\n",
        "import torchvision.transforms as transforms\n",
        "\n",
        "print(torch.__version__)\"\"\""
      ],
      "metadata": {
        "id": "CPINTMKuHONs"
      },
      "execution_count": null,
      "outputs": []
    },
    {
      "cell_type": "markdown",
      "source": [
        "**Import data from Google Drive**"
      ],
      "metadata": {
        "id": "KimrL72SOrla"
      }
    },
    {
      "cell_type": "code",
      "source": [
        "\"\"\"from google.colab import drive\n",
        "drive.mount('/content/drive') #connect to Google Drive\"\"\""
      ],
      "metadata": {
        "id": "EoTTWLBhNbp3"
      },
      "execution_count": null,
      "outputs": []
    },
    {
      "cell_type": "markdown",
      "source": [
        "**Try to read the dataset images**"
      ],
      "metadata": {
        "id": "R-UaWRmnXcfu"
      }
    },
    {
      "cell_type": "code",
      "source": [
        "\"\"\"from google.colab.patches import cv2_imshow #because Google Colab doesn't support cv2.imshow(), it causes Jupyter session to crash\n",
        "import cv2\n",
        "import random\n",
        "\n",
        "file_path = '/content/drive/MyDrive/SE4AI/Data/Datasets/Dataset1/benign/melanoma_0.jpg'\n",
        "image = cv2.imread(file_path)\n",
        "cv2_imshow(image)\n",
        "print(\"Width: \",image.shape[1])\n",
        "print(image)\n",
        "\n",
        "def resize_image(input_image_path):\n",
        "  resized_image = cv2.resize(input_image_path, (600, 450))\n",
        "  cv2_imshow(resized_image)\n",
        "  return resized_image\n",
        "\n",
        "resized = resize_image(image)\n",
        "#Transform the image into a tensor\n",
        "transform = transforms.ToTensor()\n",
        "tensor_image = transform(resized)\n",
        "print(tensor_image)\"\"\""
      ],
      "metadata": {
        "id": "dx494PyFXhnw"
      },
      "execution_count": null,
      "outputs": []
    },
    {
      "cell_type": "markdown",
      "source": [
        "**Load dataset**"
      ],
      "metadata": {
        "id": "L7pvfAv70dZB"
      }
    },
    {
      "cell_type": "code",
      "source": [
        "import torchvision.transforms as transforms\n",
        "from torchvision.datasets import ImageFolder\n",
        "from torch.utils.data import DataLoader, random_split\n",
        "import matplotlib.pyplot as plt\n",
        "\n",
        "def get_dataset(data_path, percent_train, percent_valid, batch_size):\n",
        "  # Define the transformation to apply to the images\n",
        "  transform = transforms.Compose([\n",
        "      transforms.Resize((600, 450)),  # Resize the images to 600x450\n",
        "      transforms.ToTensor()  # Convert the images to tensors\n",
        "  ])\n",
        "\n",
        "  # Create the ImageFolder dataset and apply the transformation\n",
        "  dataset = ImageFolder(root=data_path, transform=transform)\n",
        "  print(\"Labels:\")\n",
        "  print(dataset.class_to_idx)\n",
        "\n",
        "  #Compute the number of sample for each set\n",
        "  train_size = int(percent_train * len(dataset))\n",
        "  valid_size = int(percent_valid * len(dataset))\n",
        "  test_size = len(dataset) - train_size - valid_size\n",
        "\n",
        "  #Split the dataset into train, validation, and test sets in a random manner\n",
        "  train_set, valid_set, test_set = random_split(dataset, [train_size, valid_size, test_size])\n",
        "\n",
        "  #Define a DatLoder for each set\n",
        "  #num_workers parallelize data loading. Each subprocess loads a batch of data independently and in parallel\n",
        "  train_loader = DataLoader(train_set, batch_size=batch_size, shuffle=True, num_workers=2, drop_last=True) #in this case it shuffle the date for each epoch\n",
        "  valid_loader = DataLoader(valid_set, batch_size=batch_size, shuffle=False, num_workers=2, drop_last=True)\n",
        "  test_loader = DataLoader(test_set, batch_size=batch_size, shuffle=False, num_workers=2, drop_last=True)\n",
        "\n",
        "  return train_loader, valid_loader, test_loader\n",
        "\n",
        "def plot_samples(data_loader, to_print, folder, flag):\n",
        "  num_class_instances = dict({\"0\":0,\"1\":0})\n",
        "  for imgs, labels in data_loader:\n",
        "    for l in labels:\n",
        "      #l.item() to convert the tensor in a scalar value\n",
        "      str_label = str(l.item())\n",
        "      num_class_instances[str_label] += 1\n",
        "\n",
        "  class_labels = list(num_class_instances.keys())\n",
        "  class_counts = list(num_class_instances.values())\n",
        "\n",
        "  # Create a bar plot\n",
        "  plt.bar(class_labels, class_counts)\n",
        "\n",
        "  title = 'Number of samples per Class ('+to_print+\")\"\n",
        "  plt.xlabel('Class Label')\n",
        "  plt.ylabel('Num instances')\n",
        "  plt.title(title)\n",
        "  if flag:\n",
        "    plt.savefig('/content/drive/MyDrive/SE4AI/Model/'+folder+'/plot'+to_print+'.png')\n",
        "  else:\n",
        "    plt.savefig('/content/drive/MyDrive/LinkToOncoVision/SE4AI/Model/'+folder+'/plot'+to_print+'.png')\n",
        "  plt.show()\n",
        "  print(\"Number of samples per class (\",to_print,\"): \",num_class_instances)\n",
        "\n",
        "#train_loader, valid_loader, test_loader = get_dataset(\"/content/drive/MyDrive/SE4AI/Data/Datasets/Dataset2/\", 0.7,0.2,64)\n",
        "#\n",
        "#i = 0\n",
        "#for images, labels in train_loader:\n",
        "#  count = 0\n",
        "#  i = i+1\n",
        "#  for image in images:\n",
        "#    count = count +1\n",
        "#  print(\"Batch [\",i,\"] has \",count,\" samples\")\n",
        "#\n",
        "#nuovo_train = DataLoader(train_loader.dataset, batch_size=32, shuffle=True, num_workers=2, drop_last=True)\n",
        "#i = 0\n",
        "#for images, labels in nuovo_train:\n",
        "#  count = 0\n",
        "#  i = i+1\n",
        "#  for image in images:\n",
        "#    count = count +1\n",
        "#  print(\"Batch [\",i,\"] has \",count,\" samples\")\n",
        "#\n",
        "#plot_samples(train_loader, \"TRAIN SET\")"
      ],
      "metadata": {
        "id": "PiamtW4Wv_eK"
      },
      "execution_count": null,
      "outputs": []
    }
  ]
}