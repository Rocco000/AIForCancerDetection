{
  "nbformat": 4,
  "nbformat_minor": 0,
  "metadata": {
    "colab": {
      "provenance": [],
      "gpuType": "T4",
      "include_colab_link": true
    },
    "kernelspec": {
      "name": "python3",
      "display_name": "Python 3"
    },
    "language_info": {
      "name": "python"
    },
    "accelerator": "GPU"
  },
  "cells": [
    {
      "cell_type": "markdown",
      "metadata": {
        "id": "view-in-github",
        "colab_type": "text"
      },
      "source": [
        "<a href=\"https://colab.research.google.com/github/Rocco000/OncoVision/blob/main/Scripts/ModelArchitecture1.ipynb\" target=\"_parent\"><img src=\"https://colab.research.google.com/assets/colab-badge.svg\" alt=\"Open In Colab\"/></a>"
      ]
    },
    {
      "cell_type": "markdown",
      "source": [
        "**Define our model**"
      ],
      "metadata": {
        "id": "QDYdkxCzDkFZ"
      }
    },
    {
      "cell_type": "code",
      "execution_count": null,
      "metadata": {
        "id": "YVYGKkYojsOp"
      },
      "outputs": [],
      "source": [
        "import torch\n",
        "from torch.nn.modules.pooling import MaxPool2d\n",
        "import torch.nn as nn\n",
        "import torch.nn.functional as F\n",
        "import torchvision\n",
        "\n",
        "class ConvModel1(nn.Module):\n",
        "  def __init__(self):\n",
        "    super(ConvModel1, self).__init__()\n",
        "\n",
        "    self.layer1 = nn.Sequential(\n",
        "        nn.Conv2d(in_channels=3, out_channels=8, kernel_size=3, stride=1, padding=1, bias=True),\n",
        "        nn.BatchNorm2d(8),\n",
        "        nn.LeakyReLU()\n",
        "    )\n",
        "\n",
        "    self.layer2 = nn.Sequential(\n",
        "        nn.Conv2d(in_channels=8, out_channels=16, kernel_size=3, stride=1, padding=1, bias=True),\n",
        "        nn.BatchNorm2d(16),\n",
        "        nn.LeakyReLU(),\n",
        "        nn.MaxPool2d(kernel_size=3, stride=3)\n",
        "    )\n",
        "\n",
        "    self.layer3 = nn.Sequential(\n",
        "        nn.Conv2d(in_channels=16, out_channels=32, kernel_size=3, stride=1, padding=1, bias=True),\n",
        "        nn.BatchNorm2d(32),\n",
        "        nn.LeakyReLU(),\n",
        "        nn.MaxPool2d(kernel_size=3, stride=3)\n",
        "    )\n",
        "\n",
        "    self.layer4 = nn.Sequential(\n",
        "        nn.Conv2d(in_channels=32, out_channels=64, kernel_size=3, stride=1, padding=1, bias=True),\n",
        "        nn.BatchNorm2d(64),\n",
        "        nn.LeakyReLU(),\n",
        "        nn.MaxPool2d(kernel_size=3, stride=3)\n",
        "    )\n",
        "\n",
        "    self.layer5 = nn.Sequential(\n",
        "        nn.Conv2d(in_channels=64, out_channels=128, kernel_size=3, stride=1, padding=1, bias=True),\n",
        "        nn.BatchNorm2d(128),\n",
        "        nn.LeakyReLU(),\n",
        "        nn.MaxPool2d(kernel_size=3, stride=3)\n",
        "    )\n",
        "\n",
        "    self.flatter = nn.Flatten()\n",
        "\n",
        "    #in_features=128*5*7 because corresponds to the output size of the last MaxPool layer\n",
        "    self.layer6 = nn.Sequential(\n",
        "        nn.Dropout(p=0.2),\n",
        "        nn.Linear(in_features=128*5*7, out_features=1120),\n",
        "        nn.Linear(in_features=1120, out_features=280),\n",
        "        nn.Linear(in_features=280, out_features=2)\n",
        "    )\n",
        "\n",
        "  def forward(self, image):\n",
        "    x = self.layer1(image)\n",
        "    #print(\"Shape dopo 1 CONV e MAXPOOL\", x.size())\n",
        "    x = self.layer2(x)\n",
        "    #print(\"Shape dopo 2 CONV e MAXPOOL\", x.size())\n",
        "    x = self.layer3(x)\n",
        "    #print(\"Shape dopo 3 CONV e MAXPOOL\", x.size())\n",
        "    x = self.layer4(x)\n",
        "    #print(\"Shape dopo 4 CONV e MAXPOOL\", x.size())\n",
        "    x = self.layer5(x)\n",
        "\n",
        "    #Flat the tensor in order to obtain 1D\n",
        "    x = self.flatter(x)\n",
        "    #print(\"Shape dopo flatten\", x.shape)\n",
        "    x = self.layer6(x)\n",
        "    #print(\"Shape dopo DENSE LAYER\", x.shape)\n",
        "    return x"
      ]
    },
    {
      "cell_type": "markdown",
      "source": [
        "Try our layers"
      ],
      "metadata": {
        "id": "23NS3Gm5E7xZ"
      }
    },
    {
      "cell_type": "code",
      "source": [
        "\"\"\"import cv2\n",
        "import torchvision.transforms as transforms\n",
        "file_path = '/content/drive/MyDrive/SE4AI/Data/Datasets/ISIC_0024545.jpg'\n",
        "image = cv2.imread(file_path)\n",
        "#Transform the image in tensor\n",
        "transform = transforms.ToTensor()\n",
        "img_tensor = transform(image)\n",
        "\n",
        "conv1 = nn.Sequential(nn.Conv2d(in_channels=3, out_channels=32, kernel_size=3, stride=1, padding=1, bias=True), nn.LeakyReLU())\n",
        "max_pool = nn.MaxPool2d(kernel_size=3, stride=3)\n",
        "conv2 = nn.Sequential(nn.Conv2d(in_channels=32, out_channels=16, kernel_size=3, stride=1, padding=1, bias=True), nn.LeakyReLU())\n",
        "conv3 = nn.Sequential(nn.Conv2d(in_channels=16, out_channels=8, kernel_size=3, stride=1, padding=1, bias=True), nn.LeakyReLU())\n",
        "conv4 = nn.Sequential(nn.Conv2d(in_channels=8, out_channels=4, kernel_size=3, stride=1, padding=1, bias=True), nn.LeakyReLU())\n",
        "\n",
        "print(\"Image shape: \",image.shape)\n",
        "print(\"Tensor shape: \",img_tensor.shape)\n",
        "x = conv1(img_tensor)\n",
        "print(\"Shape after 1 CONV: \", x.shape)\n",
        "x = max_pool(x)\n",
        "print(\"Shape after 1 POOL: \", x.shape)\n",
        "\n",
        "x = conv2(x)\n",
        "print(\"Shape after 2 CONV: \", x.shape)\n",
        "x = max_pool(x)\n",
        "print(\"Shape after 2 POOL: \", x.shape)\n",
        "\n",
        "x = conv3(x)\n",
        "print(\"Shape after 3 CONV: \", x.shape)\n",
        "x = max_pool(x)\n",
        "print(\"Shape after 3 POOL: \", x.shape)\n",
        "\n",
        "x = conv4(x)\n",
        "print(\"Shape after 4 CONV: \", x.shape)\n",
        "x = max_pool(x)\n",
        "print(\"Shape after 4 POOL: \", x.shape)\"\"\""
      ],
      "metadata": {
        "id": "LrYZUZQdtypm"
      },
      "execution_count": null,
      "outputs": []
    }
  ]
}