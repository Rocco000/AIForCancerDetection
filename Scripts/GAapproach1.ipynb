{
  "nbformat": 4,
  "nbformat_minor": 0,
  "metadata": {
    "colab": {
      "provenance": [],
      "gpuType": "T4",
      "include_colab_link": true
    },
    "kernelspec": {
      "name": "python3",
      "display_name": "Python 3"
    },
    "language_info": {
      "name": "python"
    },
    "accelerator": "GPU"
  },
  "cells": [
    {
      "cell_type": "markdown",
      "metadata": {
        "id": "view-in-github",
        "colab_type": "text"
      },
      "source": [
        "<a href=\"https://colab.research.google.com/github/Rocco000/OncoVision/blob/main/Scripts/GAapproach1.ipynb\" target=\"_parent\"><img src=\"https://colab.research.google.com/assets/colab-badge.svg\" alt=\"Open In Colab\"/></a>"
      ]
    },
    {
      "cell_type": "markdown",
      "source": [
        "Link to Google Drive"
      ],
      "metadata": {
        "id": "utSQBFhb_kI0"
      }
    },
    {
      "cell_type": "code",
      "source": [
        "from google.colab import drive\n",
        "drive.mount('/content/drive') #Connect to Google Drive"
      ],
      "metadata": {
        "id": "49LQG4ba_jGB",
        "colab": {
          "base_uri": "https://localhost:8080/"
        },
        "outputId": "3d5f6197-a856-4a2b-f9cf-d2169a60753d"
      },
      "execution_count": 1,
      "outputs": [
        {
          "output_type": "stream",
          "name": "stdout",
          "text": [
            "Mounted at /content/drive\n"
          ]
        }
      ]
    },
    {
      "cell_type": "markdown",
      "source": [
        "Run the required scripts"
      ],
      "metadata": {
        "id": "_1QLq2ok_2XN"
      }
    },
    {
      "cell_type": "code",
      "source": [
        "from google.colab import auth\n",
        "from googleapiclient.discovery import build\n",
        "\n",
        "#To authenticate the user that run the script in order to use the correct path\n",
        "auth.authenticate_user()\n",
        "drive_service = build('drive', 'v3')\n",
        "\n",
        "#Get user information\n",
        "about = drive_service.about().get(fields='user').execute()\n",
        "user_email = about['user']['emailAddress']\n",
        "script_owner = False\n",
        "\n",
        "if user_email ==\"rocco.iul2000@gmail.com\":\n",
        "  script_owner = True\n",
        "  #Run the .ipynb file\n",
        "  %run '/content/drive/MyDrive/Colab Notebooks/DatasetLoader.ipynb'\n",
        "  %run '/content/drive/MyDrive/Colab Notebooks/ModelArchitecture1.ipynb'\n",
        "  %run '/content/drive/MyDrive/Colab Notebooks/TrainModel.ipynb'\n",
        "else:\n",
        "  %run '/content/drive/MyDrive/LinkToOncoVision/DatasetLoader.ipynb'\n",
        "  %run '/content/drive/MyDrive/LinkToOncoVision/ModelArchitecture1.ipynb'\n",
        "  %run '/content/drive/MyDrive/LinkToOncoVision/TrainModel.ipynb'"
      ],
      "metadata": {
        "id": "qLavubHlAB49"
      },
      "execution_count": null,
      "outputs": []
    },
    {
      "cell_type": "markdown",
      "source": [
        "# Genetic Algorithm (1° approach)\n",
        "Our solutions has the following configuration (more detail in code below):\n",
        "> [ learning_rate, batch_size, num_epoch, optimizer_type ]\n",
        "\n",
        "Our **objective function**:\n",
        "> max w * accuracy+(1-w) * recall where w=0.4\n",
        "\n",
        "We convert our problem in minimization problem, therefore:\n",
        "> min -w * accuracy-(1-w) * recall\n",
        "\n",
        "Our **valuation function** is equal to objective funtion."
      ],
      "metadata": {
        "id": "MZTx136CvqDQ"
      }
    },
    {
      "cell_type": "markdown",
      "source": [
        "# Fitness function\n",
        "Our **fitness function** is:\n",
        "> fitness(x) = f(x)/∑ f(j) where j ∈ P-{x} and P represents the population\n",
        "\n",
        "We get the fitness value from a csv file"
      ],
      "metadata": {
        "id": "kSYuAD7tiUMZ"
      }
    },
    {
      "cell_type": "code",
      "source": [
        "!pip install pygad\n",
        "import pygad\n",
        "import csv\n",
        "import random\n",
        "import numpy as np\n",
        "import math\n",
        "import pandas as pd\n",
        "\n",
        "#This parameters are required by PyGAD\n",
        "def fitness_function_calculator(ga_instance, solution, solution_idx):\n",
        "  file_path = \"\"\n",
        "  if script_owner:\n",
        "    file_path = \"/content/drive/MyDrive/SE4AI/ActualPopulation.csv\"\n",
        "  else:\n",
        "    file_path = \"/content/drive/MyDrive/LinkToOncoVision/SE4AI/ActualPopulation.csv\"\n",
        "\n",
        "  flag = False\n",
        "  fitness_value = 0\n",
        "  with open(file_path, \"r\", newline=\"\") as csvfile:\n",
        "    reader = csv.reader(csvfile)\n",
        "    next(reader) #Jump the first row (contains the file header)\n",
        "    for row in reader:\n",
        "      row_app = [float(row[0]),int(row[1]),int(row[2]),int(row[3]),float(row[4])] #Convert the values in the correct format\n",
        "\n",
        "      if row_app[0]==solution[0] and row_app[1]==solution[1] and row_app[2]==solution[2] and row_app[3]==solution[3]:\n",
        "        flag = True\n",
        "        fitness_value = row_app[4]\n",
        "        break\n",
        "\n",
        "  if flag:\n",
        "    return fitness_value\n",
        "  else:\n",
        "    print(\"Row not found!\")\n",
        "    return 0"
      ],
      "metadata": {
        "id": "cQsj6Xc9irlm"
      },
      "execution_count": null,
      "outputs": []
    },
    {
      "cell_type": "markdown",
      "source": [
        "# Initial population\n",
        "We evaluate the initial population and store their fitness value in a csv file"
      ],
      "metadata": {
        "id": "Ye1mBaYYkDni"
      }
    },
    {
      "cell_type": "code",
      "source": [
        "def fun_on_start(ga_instance):\n",
        "  population = ga_instance.population\n",
        "  population_list = population.tolist()\n",
        "\n",
        "  to_write = []\n",
        "  for solution in population_list:\n",
        "    #batch_size\n",
        "    size = 0\n",
        "    match solution[1]:\n",
        "      case 1:\n",
        "        size = 32\n",
        "      case 2:\n",
        "        size = 64\n",
        "      case 3:\n",
        "        size = 128\n",
        "      case _:\n",
        "        size = 32\n",
        "\n",
        "    #num_epoch\n",
        "    epoch = 0\n",
        "    match solution[2]:\n",
        "      case 1:\n",
        "        epoch = 64\n",
        "      case 2:\n",
        "        epoch = 96\n",
        "      case 3:\n",
        "        epoch = 128\n",
        "      case _:\n",
        "        epoch = 64\n",
        "\n",
        "    #Train the model\n",
        "    acc, pre, rec, f1 = start_process(bool_mlflow=False, learning_rate=solution[0], batch_size=size, num_epoch=epoch, opt=solution[3])\n",
        "    fitness_value = (0.4*acc)+(0.6*rec)\n",
        "    app = [solution[0],solution[1],solution[2],solution[3],fitness_value,acc,pre,rec,f1]\n",
        "    to_write.append(app)\n",
        "\n",
        "  #Store the solutions evaluations\n",
        "  if script_owner:\n",
        "    file_path1 = \"/content/drive/MyDrive/SE4AI/ActualPopulation.csv\"\n",
        "    file_path2 = \"/content/drive/MyDrive/SE4AI/AllSolutions.csv\"\n",
        "  else:\n",
        "    file_path1 = \"/content/drive/MyDrive/LinkToOncoVision/SE4AI/ActualPopulation.csv\"\n",
        "    file_path2 = \"/content/drive/MyDrive/LinkToOncoVision/SE4AI/AllSolutions.csv\"\n",
        "\n",
        "  with open(file_path1, \"w\", newline=\"\") as csvfile:\n",
        "    writer = csv.writer(csvfile)\n",
        "    writer.writerow([\"learning_rate\",\"batch_size\",\"num_epoch\",\"optimizer\",\"fitness_value\",\"accuracy\",\"precision\",\"recall\",\"f1\"])\n",
        "    writer.writerows(to_write)\n",
        "\n",
        "  with open(file_path2, \"w\", newline=\"\") as csvfile:\n",
        "    writer = csv.writer(csvfile)\n",
        "    writer.writerow([\"learning_rate\",\"batch_size\",\"num_epoch\",\"optimizer\",\"fitness_value\",\"accuracy\",\"precision\",\"recall\",\"f1\"])\n",
        "    writer.writerows(to_write)"
      ],
      "metadata": {
        "id": "pMhN15VblW_l"
      },
      "execution_count": 4,
      "outputs": []
    },
    {
      "cell_type": "markdown",
      "source": [
        "# Tournament selection\n",
        "At each tournament, we will select K=30 solutions\n",
        "\n",
        "We will apply the tournament 20 times to obtain M=20 parents who will attend the crossover step."
      ],
      "metadata": {
        "id": "N9Oh9Hx4jAXT"
      }
    },
    {
      "cell_type": "code",
      "source": [
        "def my_tournament_selection(fitness_values,required_number,ga_instance):\n",
        "  population = ga_instance.population\n",
        "  population_list = population.tolist()\n",
        "\n",
        "  winners = []\n",
        "  winners_index = []\n",
        "  for i in range(required_number):\n",
        "\n",
        "    selected_indices = np.random.choice(np.arange(len(population_list)), size=3, replace=False) #replace=False -> in this way we don't select the same individual more then one time\n",
        "\n",
        "    selected_individuals = [] #to store the selected individuals\n",
        "    selected_individuals_fitness = [] #to store the relative fitness value\n",
        "\n",
        "    for index in selected_indices:\n",
        "      selected_individuals.append(population_list[index])\n",
        "      selected_individuals_fitness.append(fitness_values[index])\n",
        "\n",
        "    #Select the tournement winner\n",
        "    winner_value = np.amax(selected_individuals_fitness)\n",
        "\n",
        "    #Find its position\n",
        "    winner_position = selected_individuals_fitness.index(winner_value)\n",
        "\n",
        "    winner = selected_individuals[winner_position]\n",
        "\n",
        "    #Record the winner\n",
        "    winners.append(winner)\n",
        "\n",
        "    #Record its index in the population (required by PyGAD)\n",
        "    winner_position_in_population = population_list.index(winner)\n",
        "    winners_index.append(winner_position_in_population)\n",
        "\n",
        "    #To delete the winner from the population we'll set its fitness value to -inf. In this way it can't win the next tournements\n",
        "    fitness_values[winner_position_in_population] = -math.inf\n",
        "\n",
        "  #Transform them in numpy array because it is required by PyGAD\n",
        "  winners_numpy = np.array(winners)\n",
        "  winners_index_numpy = np.array(winners_index)\n",
        "\n",
        "  return winners_numpy, winners_index_numpy"
      ],
      "metadata": {
        "id": "NlIjDMhvj4ok"
      },
      "execution_count": 5,
      "outputs": []
    },
    {
      "cell_type": "markdown",
      "source": [
        "# Assessment of solutions\n",
        "**After the mutation step** we will evalutate the solutions and store their fitness value in a csv file.\n",
        "\n",
        "If we obtain a solution that has the same configuration of another solution stored in \"AllSolutions.csv\", we do not retrain the model as there is a high probability that the solutions have the same performance (in this way we reduce the time consumption)"
      ],
      "metadata": {
        "id": "KFIsg9nrmXuT"
      }
    },
    {
      "cell_type": "code",
      "source": [
        "def fun_on_generation(ga_instance):\n",
        "  population = ga_instance.population\n",
        "  population_list = population.tolist()\n",
        "\n",
        "  to_write = [] #To store the solutions of the actual population\n",
        "  to_add = [] #To store the new solutions in AllSolutions.csv\n",
        "\n",
        "  #Check if this solution already exists. In this way we don't train this model (less time consumption)\n",
        "  file_path = \"\"\n",
        "  if script_owner:\n",
        "    file_path = \"/content/drive/MyDrive/SE4AI/AllSolutions.csv\"\n",
        "  else:\n",
        "    file_path = \"/content/drive/MyDrive/LinkToOncoVision/SE4AI/AllSolutions.csv\"\n",
        "\n",
        "  for solution in population_list:\n",
        "\n",
        "    flag = False\n",
        "    to_store = None\n",
        "    with open(file_path, \"r\", newline=\"\") as csvfile:\n",
        "      reader = csv.reader(csvfile)\n",
        "      next(reader) #Jump the first row (contains the file header)\n",
        "      for row in reader:\n",
        "        row_app = [float(row[0]),int(row[1]),int(row[2]),int(row[3]),float(row[4])] #Convert the values in the correct format\n",
        "\n",
        "        if row_app[0]==solution[0] and row_app[1]==solution[1] and row_app[2]==solution[2] and row_app[3]==solution[3]:\n",
        "          flag = True\n",
        "          to_store = row_app\n",
        "          break\n",
        "\n",
        "    if flag:\n",
        "      #We have already a same solution, therefore we store the configuration in ActualPopulation.csv\n",
        "      to_write.append(to_store)\n",
        "    else:\n",
        "      #It's a new solution, therefore we must define and train a model\n",
        "\n",
        "      #batch_size\n",
        "      size = 0\n",
        "      match solution[1]:\n",
        "        case 1:\n",
        "          size = 32\n",
        "        case 2:\n",
        "          size = 64\n",
        "        case 3:\n",
        "          size = 128\n",
        "        case _:\n",
        "          size = 32\n",
        "\n",
        "      #num_epoch\n",
        "      epoch = 0\n",
        "      match solution[2]:\n",
        "        case 1:\n",
        "          epoch = 64\n",
        "        case 2:\n",
        "          epoch = 96\n",
        "        case 3:\n",
        "          epoch = 128\n",
        "        case _:\n",
        "          epoch = 64\n",
        "\n",
        "      acc, pre, rec, f1 = start_process(bool_mlflow=False, learning_rate=solution[0], batch_size=size, num_epoch=epoch, opt=solution[3])\n",
        "      fitness_value = (0.4*acc)+(0.6*rec)\n",
        "      app = [solution[0],solution[1],solution[2],solution[3],fitness_value,acc,pre,rec,f1]\n",
        "\n",
        "      #In this case we store the solution both in the AllSolutions and in the ActualPopulation (it's a new solution)\n",
        "      to_write.append(app)\n",
        "      to_add.append(app)\n",
        "\n",
        "  file_path2 = \"\"\n",
        "  if script_owner:\n",
        "    file_path2 = \"/content/drive/MyDrive/SE4AI/ActualPopulation.csv\"\n",
        "  else:\n",
        "    file_path2 = \"/content/drive/MyDrive/LinkToOncoVision/SE4AI/ActualPopulation.csv\"\n",
        "\n",
        "  with open(file_path, \"a\", newline=\"\") as csvfile:\n",
        "    writer = csv.writer(csvfile)\n",
        "    writer.writerows(to_add)\n",
        "\n",
        "  with open(file_path2, \"w\", newline=\"\") as csvfile:\n",
        "    writer = csv.writer(csvfile)\n",
        "    writer.writerow([\"learning_rate\",\"batch_size\",\"num_epoch\",\"optimizer\",\"fitness_value\",\"accuracy\",\"precision\",\"recall\",\"f1\"])\n",
        "    writer.writerows(to_write)\n",
        ""
      ],
      "metadata": {
        "id": "W-plEjl3o4bQ"
      },
      "execution_count": 6,
      "outputs": []
    },
    {
      "cell_type": "markdown",
      "source": [
        "# Genetich Algorithm"
      ],
      "metadata": {
        "id": "DR20NlRuo8dY"
      }
    },
    {
      "cell_type": "code",
      "source": [
        "#Define and train out model\n",
        "print(\"Train our model without the GA (to check its performance)\")\n",
        "start_process(bool_mlflow=True, learning_rate=0.001, batch_size=64, num_epoch=64, opt=1)\n",
        "\n",
        "\n",
        "max_num_generation = 3\n",
        "fitness = fitness_function_calculator\n",
        "M = 2 #20 #number of parents to selection step\n",
        "fitness_func = fitness_function_calculator\n",
        "population_size = 3 #100\n",
        "chromosomes_size = 4 #learning rate, batch size, num epoch, optimizer\n",
        "# batch size: 1=32, 2=64, 3=128 ;\n",
        "# num epoch: 1=64, 2=96, 3=128\n",
        "# optimizer: 1=Adam, 2=Adadelta, 3=Nadam\n",
        "\n",
        "genes_range = [{'low': 0.001, 'high': 0.1}, {'low': 1, 'high': 3}, {'low': 1, 'high': 3}, {'low': 1, 'high': 3}]\n",
        "\n",
        "k = 3 #30 #number of individuals that partecipate to the tournement\n",
        "\n",
        "\n",
        "ga_instance = pygad.GA(num_generations = max_num_generation,\n",
        "                       num_parents_mating = M,\n",
        "                       fitness_func = fitness,\n",
        "                       sol_per_pop = population_size,\n",
        "                       num_genes = chromosomes_size,\n",
        "                       gene_type =[float, int, int, int],\n",
        "                       gene_space = genes_range,\n",
        "                       parent_selection_type = my_tournament_selection,\n",
        "                       crossover_type = \"single_point\", #One-Point Crossover\n",
        "                       mutation_type = \"random\", #Random Resetting -> set a random value within the range\n",
        "                       mutation_by_replacement = True, #replace the gene by the new randomly generated value\n",
        "                       mutation_probability = 0.5, #The probability that a gene must exceed in order to be modified\n",
        "                       stop_criteria= \"saturate_40\", #Stop criteria: stop the GA if there isn't an improvement after 40 consecutive steps\n",
        "                       on_start = fun_on_start,\n",
        "                       on_generation = fun_on_generation\n",
        "                       )\n",
        "ga_instance.run()\n",
        "\n",
        "solution, solution_fitness, solution_idx = ga_instance.best_solution()\n",
        "print(\"Parameters of the best solution: \", solution)\n",
        "print(\"Fitness value of the best solution = \", solution_fitness)\n",
        "\n",
        "file_path = \"\"\n",
        "if script_owner:\n",
        "  file_path = \"/content/drive/MyDrive/SE4AI/Model/EvaluationGAFirstApproach/BestSolutionGA1.csv\"\n",
        "else:\n",
        "  file_path = \"/content/drive/MyDrive/LinkToOncoVision/SE4AI/EvaluationGAFirstApproach/BestSolutionGA1.csv\"\n",
        "\n",
        "to_write = []\n",
        "to_write.extend(solution)\n",
        "to_write.append(solution_fitness)\n",
        "with open(file_path, \"w\", newline=\"\") as csvfile:\n",
        "  writer = csv.writer(csvfile)\n",
        "  writer.writerow([\"learning_rate\",\"batch_size\",\"num_epoch\",\"optimizer\",\"fitness_value\"])\n",
        "  writer.writerow(to_write)"
      ],
      "metadata": {
        "id": "VRwlLxO4dFH8"
      },
      "execution_count": null,
      "outputs": []
    }
  ]
}