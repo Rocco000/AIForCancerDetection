{
  "nbformat": 4,
  "nbformat_minor": 0,
  "metadata": {
    "colab": {
      "provenance": [],
      "gpuType": "T4",
      "include_colab_link": true
    },
    "kernelspec": {
      "name": "python3",
      "display_name": "Python 3"
    },
    "language_info": {
      "name": "python"
    },
    "accelerator": "GPU"
  },
  "cells": [
    {
      "cell_type": "markdown",
      "metadata": {
        "id": "view-in-github",
        "colab_type": "text"
      },
      "source": [
        "<a href=\"https://colab.research.google.com/github/Rocco000/OncoVision/blob/main/Scripts/GAapproach1.ipynb\" target=\"_parent\"><img src=\"https://colab.research.google.com/assets/colab-badge.svg\" alt=\"Open In Colab\"/></a>"
      ]
    },
    {
      "cell_type": "markdown",
      "source": [
        "Link to Google Drive"
      ],
      "metadata": {
        "id": "utSQBFhb_kI0"
      }
    },
    {
      "cell_type": "code",
      "source": [
        "from google.colab import drive\n",
        "drive.mount('/content/drive') #Connect to Google Drive"
      ],
      "metadata": {
        "id": "49LQG4ba_jGB",
        "colab": {
          "base_uri": "https://localhost:8080/"
        },
        "outputId": "82dc5eed-ba36-4143-8f86-c9495eec9b26"
      },
      "execution_count": null,
      "outputs": [
        {
          "output_type": "stream",
          "name": "stdout",
          "text": [
            "Mounted at /content/drive\n"
          ]
        }
      ]
    },
    {
      "cell_type": "markdown",
      "source": [
        "Run the required scripts"
      ],
      "metadata": {
        "id": "_1QLq2ok_2XN"
      }
    },
    {
      "cell_type": "code",
      "source": [
        "from google.colab import auth\n",
        "from googleapiclient.discovery import build\n",
        "\n",
        "#To authenticate the user that run the script in order to use the correct path\n",
        "auth.authenticate_user()\n",
        "drive_service = build('drive', 'v3')\n",
        "\n",
        "#Get user information\n",
        "about = drive_service.about().get(fields='user').execute()\n",
        "user_email = about['user']['emailAddress']\n",
        "script_owner = False\n",
        "\n",
        "if user_email ==\"rocco.iul2000@gmail.com\":\n",
        "  script_owner = True\n",
        "  #Run the .ipynb file\n",
        "  %run '/content/drive/MyDrive/Colab Notebooks/DatasetLoader.ipynb'\n",
        "  %run '/content/drive/MyDrive/Colab Notebooks/ModelArchitecture1.ipynb'\n",
        "  %run '/content/drive/MyDrive/Colab Notebooks/TrainModel.ipynb'\n",
        "else:\n",
        "  %run '/content/drive/MyDrive/LinkToOncoVision/DatasetLoader.ipynb'\n",
        "  %run '/content/drive/MyDrive/LinkToOncoVision/ModelArchitecture1.ipynb'\n",
        "  %run '/content/drive/MyDrive/LinkToOncoVision/TrainModel.ipynb'"
      ],
      "metadata": {
        "id": "qLavubHlAB49",
        "colab": {
          "base_uri": "https://localhost:8080/",
          "height": 1000
        },
        "outputId": "112c580b-c06c-4a77-c5b8-4ff2726aff16"
      },
      "execution_count": null,
      "outputs": [
        {
          "output_type": "stream",
          "name": "stdout",
          "text": [
            "Device:  cuda\n",
            "\u001b[2K     \u001b[90m━━━━━━━━━━━━━━━━━━━━━━━━━━━━━━━━━━━━━━━━\u001b[0m \u001b[32m59.7/59.7 kB\u001b[0m \u001b[31m3.3 MB/s\u001b[0m eta \u001b[36m0:00:00\u001b[0m\n",
            "\u001b[?25h  Preparing metadata (setup.py) ... \u001b[?25l\u001b[?25hdone\n",
            "\u001b[2K     \u001b[90m━━━━━━━━━━━━━━━━━━━━━━━━━━━━━━━━━━━━━━━━\u001b[0m \u001b[32m84.2/84.2 kB\u001b[0m \u001b[31m10.5 MB/s\u001b[0m eta \u001b[36m0:00:00\u001b[0m\n",
            "\u001b[2K     \u001b[90m━━━━━━━━━━━━━━━━━━━━━━━━━━━━━━━━━━━━━━\u001b[0m \u001b[32m184.3/184.3 kB\u001b[0m \u001b[31m14.4 MB/s\u001b[0m eta \u001b[36m0:00:00\u001b[0m\n",
            "\u001b[2K     \u001b[90m━━━━━━━━━━━━━━━━━━━━━━━━━━━━━━━━━━━━━━\u001b[0m \u001b[32m238.4/238.4 kB\u001b[0m \u001b[31m27.5 MB/s\u001b[0m eta \u001b[36m0:00:00\u001b[0m\n",
            "\u001b[2K     \u001b[90m━━━━━━━━━━━━━━━━━━━━━━━━━━━━━━━━━━━━━━━━\u001b[0m \u001b[32m68.3/68.3 kB\u001b[0m \u001b[31m9.6 MB/s\u001b[0m eta \u001b[36m0:00:00\u001b[0m\n",
            "\u001b[2K     \u001b[90m━━━━━━━━━━━━━━━━━━━━━━━━━━━━━━━━━━━━━━━━\u001b[0m \u001b[32m62.7/62.7 kB\u001b[0m \u001b[31m8.1 MB/s\u001b[0m eta \u001b[36m0:00:00\u001b[0m\n",
            "\u001b[2K     \u001b[90m━━━━━━━━━━━━━━━━━━━━━━━━━━━━━━━━━━━━━━━━\u001b[0m \u001b[32m51.1/51.1 kB\u001b[0m \u001b[31m6.9 MB/s\u001b[0m eta \u001b[36m0:00:00\u001b[0m\n",
            "\u001b[2K     \u001b[90m━━━━━━━━━━━━━━━━━━━━━━━━━━━━━━━━━━━━━━━━\u001b[0m \u001b[32m54.9/54.9 kB\u001b[0m \u001b[31m7.6 MB/s\u001b[0m eta \u001b[36m0:00:00\u001b[0m\n",
            "\u001b[2K     \u001b[90m━━━━━━━━━━━━━━━━━━━━━━━━━━━━━━━━━━━━━━━━\u001b[0m \u001b[32m1.6/1.6 MB\u001b[0m \u001b[31m54.9 MB/s\u001b[0m eta \u001b[36m0:00:00\u001b[0m\n",
            "\u001b[?25h  Building wheel for fusepy (setup.py) ... \u001b[?25l\u001b[?25hdone\n",
            "                      \u001b[1m❗❗❗ AUTHORIZATION REQUIRED ❗❗❗\u001b[0m                      \n",
            "\n",
            "\n",
            "Open the following link in your browser to authorize the client:\n",
            "https://dagshub.com/login/oauth/authorize?state=dd2ca95a-e81e-4be4-8121-2359eccacb9c&client_id=32b60ba385aa7cecf24046d8195a71c07dd345d9657977863b52e7748e0f0f28&middleman_request_id=0ecf2e3eedafa9707cab4ce32eeb09d62dc32ab49cdbb02b5a6c1ff51ece8c3e\n",
            "\n",
            "\n",
            "\u001b[2K\u001b[32m⠴\u001b[0m Waiting for authorization\n",
            "\u001b[1A\u001b[2K✅ OAuth token added\n",
            "/content\n",
            "Cloning into 'OncoVision'...\n",
            "remote: Enumerating objects: 373, done.\u001b[K\n",
            "remote: Counting objects: 100% (373/373), done.\u001b[K\n",
            "remote: Compressing objects: 100% (310/310), done.\u001b[K\n",
            "remote: Total 373 (delta 147), reused 106 (delta 20), pack-reused 0\u001b[K\n",
            "Receiving objects: 100% (373/373), 5.83 MiB | 9.11 MiB/s, done.\n",
            "Resolving deltas: 100% (147/147), done.\n",
            "/content/OncoVision\n",
            "\u001b[2K     \u001b[90m━━━━━━━━━━━━━━━━━━━━━━━━━━━━━━━━━━━━━━━━\u001b[0m \u001b[32m18.1/18.1 MB\u001b[0m \u001b[31m97.7 MB/s\u001b[0m eta \u001b[36m0:00:00\u001b[0m\n",
            "\u001b[2K     \u001b[90m━━━━━━━━━━━━━━━━━━━━━━━━━━━━━━━━━━━━━━━━\u001b[0m \u001b[32m83.5/83.5 kB\u001b[0m \u001b[31m10.8 MB/s\u001b[0m eta \u001b[36m0:00:00\u001b[0m\n",
            "\u001b[?25h  Preparing metadata (setup.py) ... \u001b[?25l\u001b[?25hdone\n",
            "\u001b[2K     \u001b[90m━━━━━━━━━━━━━━━━━━━━━━━━━━━━━━━━━━━━━━\u001b[0m \u001b[32m224.5/224.5 kB\u001b[0m \u001b[31m27.1 MB/s\u001b[0m eta \u001b[36m0:00:00\u001b[0m\n",
            "\u001b[2K     \u001b[90m━━━━━━━━━━━━━━━━━━━━━━━━━━━━━━━━━━━━━━\u001b[0m \u001b[32m148.1/148.1 kB\u001b[0m \u001b[31m19.5 MB/s\u001b[0m eta \u001b[36m0:00:00\u001b[0m\n",
            "\u001b[2K     \u001b[90m━━━━━━━━━━━━━━━━━━━━━━━━━━━━━━━━━━━━━━━━\u001b[0m \u001b[32m79.5/79.5 kB\u001b[0m \u001b[31m10.1 MB/s\u001b[0m eta \u001b[36m0:00:00\u001b[0m\n",
            "\u001b[2K     \u001b[90m━━━━━━━━━━━━━━━━━━━━━━━━━━━━━━━━━━━━━━━━\u001b[0m \u001b[32m78.7/78.7 kB\u001b[0m \u001b[31m10.8 MB/s\u001b[0m eta \u001b[36m0:00:00\u001b[0m\n",
            "\u001b[?25h  Building wheel for databricks-cli (setup.py) ... \u001b[?25l\u001b[?25hdone\n",
            "[main 1804d24] Initialize DVC\n",
            " 3 files changed, 6 insertions(+)\n",
            " create mode 100644 .dvc/.gitignore\n",
            " create mode 100644 .dvc/config\n",
            " create mode 100644 .dvcignore\n",
            "Labels:\n",
            "{'benign': 0, 'malignant': 1}\n"
          ]
        },
        {
          "output_type": "display_data",
          "data": {
            "text/plain": [
              "<Figure size 640x480 with 1 Axes>"
            ],
            "image/png": "[encoded data removed]"
          },
          "metadata": {}
        },
        {
          "output_type": "stream",
          "name": "stdout",
          "text": [
            "Number of samples per class ( TRAIN_SET ):  {'0': 1573, '1': 347}\n"
          ]
        },
        {
          "output_type": "display_data",
          "data": {
            "text/plain": [
              "<Figure size 640x480 with 1 Axes>"
            ],
            "image/png": "[encoded data removed]"
          },
          "metadata": {}
        },
        {
          "output_type": "stream",
          "name": "stdout",
          "text": [
            "Number of samples per class ( TEST_SET ):  {'0': 209, '1': 47}\n"
          ]
        },
        {
          "output_type": "display_data",
          "data": {
            "text/plain": [
              "<Figure size 640x480 with 1 Axes>"
            ],
            "image/png": "[encoded data removed]"
          },
          "metadata": {}
        },
        {
          "output_type": "stream",
          "name": "stdout",
          "text": [
            "Number of samples per class ( VALID_SET ):  {'0': 392, '1': 120}\n"
          ]
        }
      ]
    },
    {
      "cell_type": "markdown",
      "source": [
        "# Genetic Algorithm (1° approach)\n",
        "Our solutions has the following configuration (more detail in code below):\n",
        "> [ learning_rate, batch_size, num_epoch, optimizer_type ]\n",
        "\n",
        "Our **objective function**:\n",
        "> max w * accuracy+(1-w) * recall where w=0.4\n",
        "\n",
        "We convert our problem in minimization problem, therefore:\n",
        "> min -w * accuracy-(1-w) * recall\n",
        "\n",
        "Our **valuation function** is equal to objective funtion."
      ],
      "metadata": {
        "id": "MZTx136CvqDQ"
      }
    },
    {
      "cell_type": "markdown",
      "source": [
        "# Fitness function\n",
        "Our **fitness function** is:\n",
        "> fitness(x) = f(x)/∑ f(j) where j ∈ P-{x} and P represents the population\n",
        "\n",
        "We get the fitness value from a csv file"
      ],
      "metadata": {
        "id": "kSYuAD7tiUMZ"
      }
    },
    {
      "cell_type": "code",
      "source": [
        "!pip install pygad\n",
        "import pygad\n",
        "import csv\n",
        "import random\n",
        "import numpy as np\n",
        "import math\n",
        "import pandas as pd\n",
        "\n",
        "#This parameters are required by PyGAD\n",
        "def fitness_function_calculator(ga_instance, solution, solution_idx):\n",
        "  file_path = \"\"\n",
        "  if script_owner:\n",
        "    file_path = \"/content/drive/MyDrive/SE4AI/ActualPopulation.csv\"\n",
        "  else:\n",
        "    file_path = \"/content/drive/MyDrive/LinkToOncoVision/SE4AI/ActualPopulation.csv\"\n",
        "\n",
        "  flag = False\n",
        "  fitness_value = 0\n",
        "  with open(file_path, \"r\", newline=\"\") as csvfile:\n",
        "    reader = csv.reader(csvfile)\n",
        "    next(reader) #Jump the first row (contains the file header)\n",
        "    for row in reader:\n",
        "      #Convert the values in the correct format\n",
        "      learning_rate = float(row[0])\n",
        "      batch_size = int(float(row[1]))\n",
        "      num_epoch = int(float(row[2]))\n",
        "      optimizer = int(float(row[3]))\n",
        "      value = float(row[4])\n",
        "\n",
        "      if learning_rate==solution[0] and batch_size==solution[1] and num_epoch==solution[2] and optimizer==solution[3]:\n",
        "        flag = True\n",
        "        fitness_value = value\n",
        "        break\n",
        "\n",
        "  if flag:\n",
        "    return fitness_value\n",
        "  else:\n",
        "    print(\"Row not found!\")\n",
        "    return 0"
      ],
      "metadata": {
        "id": "cQsj6Xc9irlm",
        "colab": {
          "base_uri": "https://localhost:8080/"
        },
        "outputId": "fcb47b5d-77de-4c1f-ff1f-5d31479af04e"
      },
      "execution_count": null,
      "outputs": [
        {
          "output_type": "stream",
          "name": "stdout",
          "text": [
            "Collecting pygad\n",
            "  Downloading pygad-3.1.0-py3-none-any.whl (73 kB)\n",
            "     ━━━━━━━━━━━━━━━━━━━━━━━━━━━━━━━━━━━━━━━━ 73.0/73.0 kB 4.7 MB/s eta 0:00:00\n",
            "\u001b[?25hRequirement already satisfied: cloudpickle in /usr/local/lib/python3.10/dist-packages (from pygad) (2.2.1)\n",
            "Requirement already satisfied: matplotlib in /usr/local/lib/python3.10/dist-packages (from pygad) (3.7.1)\n",
            "Requirement already satisfied: numpy in /usr/local/lib/python3.10/dist-packages (from pygad) (1.22.4)\n",
            "Requirement already satisfied: contourpy>=1.0.1 in /usr/local/lib/python3.10/dist-packages (from matplotlib->pygad) (1.1.0)\n",
            "Requirement already satisfied: cycler>=0.10 in /usr/local/lib/python3.10/dist-packages (from matplotlib->pygad) (0.11.0)\n",
            "Requirement already satisfied: fonttools>=4.22.0 in /usr/local/lib/python3.10/dist-packages (from matplotlib->pygad) (4.40.0)\n",
            "Requirement already satisfied: kiwisolver>=1.0.1 in /usr/local/lib/python3.10/dist-packages (from matplotlib->pygad) (1.4.4)\n",
            "Requirement already satisfied: packaging>=20.0 in /usr/local/lib/python3.10/dist-packages (from matplotlib->pygad) (23.1)\n",
            "Requirement already satisfied: pillow>=6.2.0 in /usr/local/lib/python3.10/dist-packages (from matplotlib->pygad) (8.4.0)\n",
            "Requirement already satisfied: pyparsing>=2.3.1 in /usr/local/lib/python3.10/dist-packages (from matplotlib->pygad) (3.1.0)\n",
            "Requirement already satisfied: python-dateutil>=2.7 in /usr/local/lib/python3.10/dist-packages (from matplotlib->pygad) (2.8.2)\n",
            "Requirement already satisfied: six>=1.5 in /usr/local/lib/python3.10/dist-packages (from python-dateutil>=2.7->matplotlib->pygad) (1.16.0)\n",
            "Installing collected packages: pygad\n",
            "Successfully installed pygad-3.1.0\n"
          ]
        }
      ]
    },
    {
      "cell_type": "markdown",
      "source": [
        "# Initial population\n",
        "We evaluate the initial population and store their fitness value in a csv file"
      ],
      "metadata": {
        "id": "Ye1mBaYYkDni"
      }
    },
    {
      "cell_type": "code",
      "source": [
        "def fun_on_start(ga_instance):\n",
        "  population = ga_instance.population\n",
        "  population_list = population.tolist()\n",
        "\n",
        "  to_write = []\n",
        "  for solution in population_list:\n",
        "    #batch_size\n",
        "    size = 0\n",
        "    match solution[1]:\n",
        "      case 1:\n",
        "        size = 32\n",
        "      case 2:\n",
        "        size = 64\n",
        "      case 3:\n",
        "        size = 128\n",
        "      case _:\n",
        "        size = 32\n",
        "\n",
        "    #num_epoch\n",
        "    epoch = 0\n",
        "    match solution[2]:\n",
        "      case 1:\n",
        "        epoch = 64\n",
        "      case 2:\n",
        "        epoch = 96\n",
        "      case 3:\n",
        "        epoch = 128\n",
        "      case _:\n",
        "        epoch = 64\n",
        "\n",
        "    #Train the model\n",
        "    acc, pre, rec, f1 = start_process(bool_mlflow=False, learning_rate=solution[0], batch_size=size, num_epoch=epoch, opt=solution[3])\n",
        "    fitness_value = (0.4*acc)+(0.6*rec)\n",
        "    app = []\n",
        "    app.extend(solution)\n",
        "    app.append(fitness_value)\n",
        "    app.append(acc)\n",
        "    app.append(pre)\n",
        "    app.append(rec)\n",
        "    app.append(f1)\n",
        "\n",
        "    to_write.append(app)\n",
        "\n",
        "  #Store the solutions evaluations\n",
        "  if script_owner:\n",
        "    file_path1 = \"/content/drive/MyDrive/SE4AI/ActualPopulation.csv\"\n",
        "    file_path2 = \"/content/drive/MyDrive/SE4AI/AllSolutions.csv\"\n",
        "  else:\n",
        "    file_path1 = \"/content/drive/MyDrive/LinkToOncoVision/SE4AI/ActualPopulation.csv\"\n",
        "    file_path2 = \"/content/drive/MyDrive/LinkToOncoVision/SE4AI/AllSolutions.csv\"\n",
        "\n",
        "  with open(file_path1, \"w\", newline=\"\") as csvfile:\n",
        "    writer = csv.writer(csvfile)\n",
        "    writer.writerow([\"learning_rate\",\"batch_size\",\"num_epoch\",\"optimizer\",\"fitness_value\",\"accuracy\",\"precision\",\"recall\",\"f1\"])\n",
        "    writer.writerows(to_write)\n",
        "\n",
        "  with open(file_path2, \"w\", newline=\"\") as csvfile:\n",
        "    writer = csv.writer(csvfile)\n",
        "    writer.writerow([\"learning_rate\",\"batch_size\",\"num_epoch\",\"optimizer\",\"fitness_value\",\"accuracy\",\"precision\",\"recall\",\"f1\"])\n",
        "    writer.writerows(to_write)"
      ],
      "metadata": {
        "id": "pMhN15VblW_l"
      },
      "execution_count": null,
      "outputs": []
    },
    {
      "cell_type": "markdown",
      "source": [
        "# Tournament selection\n",
        "At each tournament, we will select K=30 solutions\n",
        "\n",
        "We will apply the tournament 20 times to obtain M=20 parents who will attend the crossover step."
      ],
      "metadata": {
        "id": "N9Oh9Hx4jAXT"
      }
    },
    {
      "cell_type": "code",
      "source": [
        "def my_tournament_selection(fitness_values,required_number,ga_instance):\n",
        "  population = ga_instance.population\n",
        "  population_list = population.tolist()\n",
        "\n",
        "  winners = []\n",
        "  winners_index = []\n",
        "  for i in range(required_number):\n",
        "\n",
        "    selected_indices = np.random.choice(np.arange(len(population_list)), size=3, replace=False) #replace=False -> in this way we don't select the same individual more then one time\n",
        "\n",
        "    selected_individuals = [] #to store the selected individuals\n",
        "    selected_individuals_fitness = [] #to store the relative fitness value\n",
        "\n",
        "    for index in selected_indices:\n",
        "      selected_individuals.append(population_list[index])\n",
        "      selected_individuals_fitness.append(fitness_values[index])\n",
        "\n",
        "    #Select the tournement winner\n",
        "    winner_value = np.amax(selected_individuals_fitness)\n",
        "\n",
        "    #Find its position\n",
        "    winner_position = selected_individuals_fitness.index(winner_value)\n",
        "\n",
        "    winner = selected_individuals[winner_position]\n",
        "\n",
        "    #Record the winner\n",
        "    winners.append(winner)\n",
        "\n",
        "    #Record its index in the population (required by PyGAD)\n",
        "    winner_position_in_population = population_list.index(winner)\n",
        "    winners_index.append(winner_position_in_population)\n",
        "\n",
        "    #To delete the winner from the population we'll set its fitness value to -inf. In this way it can't win the next tournements\n",
        "    fitness_values[winner_position_in_population] = -math.inf\n",
        "\n",
        "  #Transform them in numpy array because it is required by PyGAD\n",
        "  winners_numpy = np.array(winners)\n",
        "  winners_index_numpy = np.array(winners_index)\n",
        "\n",
        "  return winners_numpy, winners_index_numpy"
      ],
      "metadata": {
        "id": "NlIjDMhvj4ok"
      },
      "execution_count": null,
      "outputs": []
    },
    {
      "cell_type": "markdown",
      "source": [
        "# Assessment of solutions\n",
        "**After the mutation step** we will evalutate the solutions and store their fitness value in a csv file.\n",
        "\n",
        "If we obtain a solution that has the same configuration of another solution stored in \"AllSolutions.csv\", we do not retrain the model as there is a high probability that the solutions have the same performance (in this way we reduce the time consumption)"
      ],
      "metadata": {
        "id": "KFIsg9nrmXuT"
      }
    },
    {
      "cell_type": "code",
      "source": [
        "def fun_on_generation(ga_instance):\n",
        "  population = ga_instance.population\n",
        "  population_list = population.tolist()\n",
        "\n",
        "  to_write = [] #To store the solutions of the actual population\n",
        "  to_add = [] #To store the new solutions in AllSolutions.csv\n",
        "\n",
        "  #Check if this solution already exists. In this way we don't train this model (less time consumption)\n",
        "  file_path = \"\"\n",
        "  if script_owner:\n",
        "    file_path = \"/content/drive/MyDrive/SE4AI/AllSolutions.csv\"\n",
        "  else:\n",
        "    file_path = \"/content/drive/MyDrive/LinkToOncoVision/SE4AI/AllSolutions.csv\"\n",
        "\n",
        "  for solution in population_list:\n",
        "\n",
        "    flag = False\n",
        "    to_store = None\n",
        "    with open(file_path, \"r\", newline=\"\") as csvfile:\n",
        "      reader = csv.reader(csvfile)\n",
        "      next(reader) #Jump the first row (contains the file header)\n",
        "      for row in reader:\n",
        "        #Convert the values in the correct format\n",
        "        learning_rate = float(row[0])\n",
        "        batch_size = int(float(row[1]))\n",
        "        num_epoch = int(float(row[2]))\n",
        "        optimizer = int(float(row[3]))\n",
        "        value = float(row[4])\n",
        "        acc = float(row[5])\n",
        "        pre = float(row[6])\n",
        "        rec = float(row[7])\n",
        "        f1 = float(row[8])\n",
        "\n",
        "        if learning_rate==solution[0] and batch_size==solution[1] and num_epoch==solution[2] and optimizer==solution[3]:\n",
        "          flag = True\n",
        "          to_store = [learning_rate, batch_size, num_epoch, optimizer, value, acc, pre, rec, f1]\n",
        "          break\n",
        "\n",
        "    if flag:\n",
        "      #We have already a same solution, therefore we store the configuration in ActualPopulation.csv\n",
        "      to_write.append(to_store)\n",
        "    else:\n",
        "      #It's a new solution, therefore we must define and train a model\n",
        "\n",
        "      #batch_size\n",
        "      size = 0\n",
        "      match solution[1]:\n",
        "        case 1:\n",
        "          size = 32\n",
        "        case 2:\n",
        "          size = 64\n",
        "        case 3:\n",
        "          size = 128\n",
        "        case _:\n",
        "          size = 32\n",
        "\n",
        "      #num_epoch\n",
        "      epoch = 0\n",
        "      match solution[2]:\n",
        "        case 1:\n",
        "          epoch = 64\n",
        "        case 2:\n",
        "          epoch = 96\n",
        "        case 3:\n",
        "          epoch = 128\n",
        "        case _:\n",
        "          epoch = 64\n",
        "\n",
        "      acc, pre, rec, f1 = start_process(bool_mlflow=False, learning_rate=solution[0], batch_size=size, num_epoch=epoch, opt=solution[3])\n",
        "      fitness_value = (0.4*acc)+(0.6*rec)\n",
        "      app = []\n",
        "      app.extend(solution)\n",
        "      app.append(fitness_value)\n",
        "      app.append(acc)\n",
        "      app.append(pre)\n",
        "      app.append(rec)\n",
        "      app.append(f1)\n",
        "\n",
        "      #In this case we store the solution both in the AllSolutions and in the ActualPopulation (it's a new solution)\n",
        "      to_write.append(app)\n",
        "      to_add.append(app)\n",
        "\n",
        "  file_path2 = \"\"\n",
        "  if script_owner:\n",
        "    file_path2 = \"/content/drive/MyDrive/SE4AI/ActualPopulation.csv\"\n",
        "  else:\n",
        "    file_path2 = \"/content/drive/MyDrive/LinkToOncoVision/SE4AI/ActualPopulation.csv\"\n",
        "\n",
        "  with open(file_path, \"a\", newline=\"\") as csvfile:\n",
        "    writer = csv.writer(csvfile)\n",
        "    writer.writerows(to_add)\n",
        "\n",
        "  with open(file_path2, \"w\", newline=\"\") as csvfile:\n",
        "    writer = csv.writer(csvfile)\n",
        "    writer.writerow([\"learning_rate\",\"batch_size\",\"num_epoch\",\"optimizer\",\"fitness_value\",\"accuracy\",\"precision\",\"recall\",\"f1\"])\n",
        "    writer.writerows(to_write)\n"
      ],
      "metadata": {
        "id": "W-plEjl3o4bQ"
      },
      "execution_count": null,
      "outputs": []
    },
    {
      "cell_type": "markdown",
      "source": [
        "# Genetich Algorithm"
      ],
      "metadata": {
        "id": "DR20NlRuo8dY"
      }
    },
    {
      "cell_type": "code",
      "source": [
        "#Define and train out model\n",
        "print(\"Train our model without the GA (to check its performance)\")\n",
        "start_process(bool_mlflow=True, learning_rate=0.001, batch_size=64, num_epoch=64, opt=1)\n",
        "\n",
        "print(\"Start Genetich Algorithm!\")\n",
        "max_num_generation = 3\n",
        "fitness = fitness_function_calculator\n",
        "M = 2 #20 #number of parents to selection step\n",
        "fitness_func = fitness_function_calculator\n",
        "population_size = 3 #100\n",
        "chromosomes_size = 4 #learning rate, batch size, num epoch, optimizer\n",
        "# batch size: 1=32, 2=64, 3=128 ;\n",
        "# num epoch: 1=64, 2=96, 3=128\n",
        "# optimizer: 1=Adam, 2=Adadelta, 3=Nadam\n",
        "\n",
        "genes_range = [{'low': 0.001, 'high': 0.1}, {'low': 1, 'high': 3}, {'low': 1, 'high': 3}, {'low': 1, 'high': 3}]\n",
        "\n",
        "k = 3 #30 #number of individuals that partecipate to the tournement\n",
        "\n",
        "\n",
        "ga_instance = pygad.GA(num_generations = max_num_generation,\n",
        "                       num_parents_mating = M,\n",
        "                       fitness_func = fitness,\n",
        "                       sol_per_pop = population_size,\n",
        "                       num_genes = chromosomes_size,\n",
        "                       gene_type =[float, int, int, int],\n",
        "                       gene_space = genes_range,\n",
        "                       parent_selection_type = my_tournament_selection,\n",
        "                       crossover_type = \"single_point\", #One-Point Crossover\n",
        "                       mutation_type = \"random\", #Random Resetting -> set a random value within the range\n",
        "                       mutation_by_replacement = True, #replace the gene by the new randomly generated value\n",
        "                       mutation_probability = 0.5, #The probability that a gene must exceed in order to be modified\n",
        "                       stop_criteria= \"saturate_40\", #Stop criteria: stop the GA if there isn't an improvement after 40 consecutive steps\n",
        "                       on_start = fun_on_start,\n",
        "                       on_generation = fun_on_generation\n",
        "                       )\n",
        "ga_instance.run()\n",
        "\n",
        "solution, solution_fitness, solution_idx = ga_instance.best_solution()\n",
        "print(\"Parameters of the best solution: \", solution)\n",
        "print(\"Fitness value of the best solution = \", solution_fitness)\n",
        "\n",
        "file_path = \"\"\n",
        "if script_owner:\n",
        "  file_path = \"/content/drive/MyDrive/SE4AI/Model/EvaluationGAFirstApproach/BestSolutionGA1.csv\"\n",
        "else:\n",
        "  file_path = \"/content/drive/MyDrive/LinkToOncoVision/SE4AI/EvaluationGAFirstApproach/BestSolutionGA1.csv\"\n",
        "\n",
        "to_write = []\n",
        "to_write.extend(solution)\n",
        "to_write.append(solution_fitness)\n",
        "with open(file_path, \"w\", newline=\"\") as csvfile:\n",
        "  writer = csv.writer(csvfile)\n",
        "  writer.writerow([\"learning_rate\",\"batch_size\",\"num_epoch\",\"optimizer\",\"fitness_value\"])\n",
        "  writer.writerow(to_write)"
      ],
      "metadata": {
        "id": "VRwlLxO4dFH8",
        "colab": {
          "base_uri": "https://localhost:8080/",
          "height": 1000
        },
        "outputId": "4ba02641-214c-4e27-a8e8-84683174fc2f"
      },
      "execution_count": null,
      "outputs": [
        {
          "output_type": "stream",
          "name": "stdout",
          "text": [
            "Train our model without the GA (to check its performance)\n",
            "Insert the experiment name:firstDraftFirstApproach\n",
            "START TRAINING STEP\n",
            "Start VALIDATION STEP\n"
          ]
        },
        {
          "output_type": "stream",
          "name": "stderr",
          "text": [
            "/usr/local/lib/python3.10/dist-packages/sklearn/metrics/_classification.py:1344: UndefinedMetricWarning: Precision is ill-defined and being set to 0.0 due to no predicted samples. Use `zero_division` parameter to control this behavior.\n",
            "  _warn_prf(average, modifier, msg_start, len(result))\n"
          ]
        },
        {
          "output_type": "stream",
          "name": "stdout",
          "text": [
            "Accuracy:  0.765625 ; Precision:  0.0 ; Recall:  0.0 ; F1:  0.0\n",
            "Epoch [1] Loss: 0.5542\n",
            "Start VALIDATION STEP\n"
          ]
        },
        {
          "output_type": "stream",
          "name": "stderr",
          "text": [
            "/usr/local/lib/python3.10/dist-packages/sklearn/metrics/_classification.py:1344: UndefinedMetricWarning: Precision is ill-defined and being set to 0.0 due to no predicted samples. Use `zero_division` parameter to control this behavior.\n",
            "  _warn_prf(average, modifier, msg_start, len(result))\n"
          ]
        },
        {
          "output_type": "stream",
          "name": "stdout",
          "text": [
            "Accuracy:  0.765625 ; Precision:  0.0 ; Recall:  0.0 ; F1:  0.0\n",
            "Epoch [2] Loss: 0.4907\n",
            "Start VALIDATION STEP\n"
          ]
        },
        {
          "output_type": "stream",
          "name": "stderr",
          "text": [
            "/usr/local/lib/python3.10/dist-packages/sklearn/metrics/_classification.py:1344: UndefinedMetricWarning: Precision is ill-defined and being set to 0.0 due to no predicted samples. Use `zero_division` parameter to control this behavior.\n",
            "  _warn_prf(average, modifier, msg_start, len(result))\n"
          ]
        },
        {
          "output_type": "stream",
          "name": "stdout",
          "text": [
            "Accuracy:  0.765625 ; Precision:  0.0 ; Recall:  0.0 ; F1:  0.0\n",
            "Epoch [3] Loss: 0.6718\n",
            "Start VALIDATION STEP\n"
          ]
        },
        {
          "output_type": "stream",
          "name": "stderr",
          "text": [
            "/usr/local/lib/python3.10/dist-packages/sklearn/metrics/_classification.py:1344: UndefinedMetricWarning: Precision is ill-defined and being set to 0.0 due to no predicted samples. Use `zero_division` parameter to control this behavior.\n",
            "  _warn_prf(average, modifier, msg_start, len(result))\n"
          ]
        },
        {
          "output_type": "stream",
          "name": "stdout",
          "text": [
            "Accuracy:  0.765625 ; Precision:  0.0 ; Recall:  0.0 ; F1:  0.0\n",
            "Epoch [4] Loss: 0.5483\n",
            "Start VALIDATION STEP\n"
          ]
        },
        {
          "output_type": "stream",
          "name": "stderr",
          "text": [
            "/usr/local/lib/python3.10/dist-packages/sklearn/metrics/_classification.py:1344: UndefinedMetricWarning: Precision is ill-defined and being set to 0.0 due to no predicted samples. Use `zero_division` parameter to control this behavior.\n",
            "  _warn_prf(average, modifier, msg_start, len(result))\n"
          ]
        },
        {
          "output_type": "stream",
          "name": "stdout",
          "text": [
            "Accuracy:  0.765625 ; Precision:  0.0 ; Recall:  0.0 ; F1:  0.0\n",
            "Epoch [5] Loss: 0.4086\n",
            "Start VALIDATION STEP\n",
            "Accuracy:  0.759765625 ; Precision:  0.0 ; Recall:  0.0 ; F1:  0.0\n",
            "Epoch [6] Loss: 0.6290\n",
            "Start VALIDATION STEP\n"
          ]
        },
        {
          "output_type": "stream",
          "name": "stderr",
          "text": [
            "/usr/local/lib/python3.10/dist-packages/sklearn/metrics/_classification.py:1344: UndefinedMetricWarning: Precision is ill-defined and being set to 0.0 due to no predicted samples. Use `zero_division` parameter to control this behavior.\n",
            "  _warn_prf(average, modifier, msg_start, len(result))\n"
          ]
        },
        {
          "output_type": "stream",
          "name": "stdout",
          "text": [
            "Accuracy:  0.765625 ; Precision:  0.0 ; Recall:  0.0 ; F1:  0.0\n",
            "Epoch [7] Loss: 0.6161\n",
            "Start VALIDATION STEP\n"
          ]
        },
        {
          "output_type": "stream",
          "name": "stderr",
          "text": [
            "/usr/local/lib/python3.10/dist-packages/sklearn/metrics/_classification.py:1344: UndefinedMetricWarning: Precision is ill-defined and being set to 0.0 due to no predicted samples. Use `zero_division` parameter to control this behavior.\n",
            "  _warn_prf(average, modifier, msg_start, len(result))\n"
          ]
        },
        {
          "output_type": "stream",
          "name": "stdout",
          "text": [
            "Accuracy:  0.765625 ; Precision:  0.0 ; Recall:  0.0 ; F1:  0.0\n",
            "Epoch [8] Loss: 0.5050\n",
            "Start VALIDATION STEP\n",
            "Accuracy:  0.75390625 ; Precision:  0.2 ; Recall:  0.016666666666666666 ; F1:  0.03076923076923077\n",
            "Epoch [9] Loss: 0.6187\n",
            "Start VALIDATION STEP\n",
            "Accuracy:  0.767578125 ; Precision:  0.5714285714285714 ; Recall:  0.03333333333333333 ; F1:  0.06299212598425197\n",
            "Epoch [10] Loss: 0.4950\n",
            "Start VALIDATION STEP\n",
            "Accuracy:  0.7734375 ; Precision:  0.75 ; Recall:  0.05 ; F1:  0.09375000000000001\n",
            "Epoch [11] Loss: 0.6224\n",
            "Start VALIDATION STEP\n",
            "Accuracy:  0.7734375 ; Precision:  0.6111111111111112 ; Recall:  0.09166666666666666 ; F1:  0.15942028985507245\n",
            "Epoch [12] Loss: 0.5445\n",
            "Start VALIDATION STEP\n",
            "Accuracy:  0.779296875 ; Precision:  0.6842105263157895 ; Recall:  0.10833333333333334 ; F1:  0.18705035971223025\n",
            "Epoch [13] Loss: 0.4863\n",
            "Start VALIDATION STEP\n",
            "Accuracy:  0.77734375 ; Precision:  0.8 ; Recall:  0.06666666666666667 ; F1:  0.12307692307692308\n",
            "Epoch [14] Loss: 0.4558\n",
            "Start VALIDATION STEP\n",
            "Accuracy:  0.779296875 ; Precision:  0.7692307692307693 ; Recall:  0.08333333333333333 ; F1:  0.15037593984962402\n",
            "Epoch [15] Loss: 0.4977\n",
            "Start VALIDATION STEP\n",
            "Accuracy:  0.7578125 ; Precision:  0.4583333333333333 ; Recall:  0.18333333333333332 ; F1:  0.2619047619047619\n",
            "Epoch [16] Loss: 0.5138\n",
            "Start VALIDATION STEP\n",
            "Accuracy:  0.779296875 ; Precision:  0.7058823529411765 ; Recall:  0.1 ; F1:  0.17518248175182485\n",
            "Epoch [17] Loss: 0.4155\n",
            "Start VALIDATION STEP\n",
            "Accuracy:  0.7734375 ; Precision:  0.5833333333333334 ; Recall:  0.11666666666666667 ; F1:  0.19444444444444445\n",
            "Epoch [18] Loss: 0.4623\n",
            "Start VALIDATION STEP\n",
            "Accuracy:  0.763671875 ; Precision:  0.48717948717948717 ; Recall:  0.15833333333333333 ; F1:  0.2389937106918239\n",
            "Epoch [19] Loss: 0.5753\n",
            "Start VALIDATION STEP\n",
            "Accuracy:  0.767578125 ; Precision:  0.5151515151515151 ; Recall:  0.14166666666666666 ; F1:  0.22222222222222224\n",
            "Epoch [20] Loss: 0.5317\n",
            "Start VALIDATION STEP\n",
            "Accuracy:  0.783203125 ; Precision:  0.68 ; Recall:  0.14166666666666666 ; F1:  0.23448275862068965\n",
            "Epoch [21] Loss: 0.4993\n",
            "Start VALIDATION STEP\n",
            "Accuracy:  0.7734375 ; Precision:  0.6666666666666666 ; Recall:  0.06666666666666667 ; F1:  0.1212121212121212\n",
            "Epoch [22] Loss: 0.4851\n",
            "Start VALIDATION STEP\n",
            "Accuracy:  0.767578125 ; Precision:  0.5128205128205128 ; Recall:  0.16666666666666666 ; F1:  0.25157232704402516\n",
            "Epoch [23] Loss: 0.5960\n",
            "Start VALIDATION STEP\n",
            "Accuracy:  0.76171875 ; Precision:  0.48 ; Recall:  0.2 ; F1:  0.28235294117647064\n",
            "Epoch [24] Loss: 0.5100\n",
            "Start VALIDATION STEP\n",
            "Accuracy:  0.775390625 ; Precision:  0.5757575757575758 ; Recall:  0.15833333333333333 ; F1:  0.24836601307189543\n",
            "Epoch [25] Loss: 0.4751\n",
            "Start VALIDATION STEP\n",
            "Accuracy:  0.763671875 ; Precision:  0.4864864864864865 ; Recall:  0.15 ; F1:  0.22929936305732485\n",
            "Epoch [26] Loss: 0.4543\n",
            "Start VALIDATION STEP\n",
            "Accuracy:  0.7734375 ; Precision:  0.6666666666666666 ; Recall:  0.06666666666666667 ; F1:  0.1212121212121212\n",
            "Epoch [27] Loss: 0.7371\n",
            "Start VALIDATION STEP\n",
            "Accuracy:  0.7734375 ; Precision:  0.625 ; Recall:  0.08333333333333333 ; F1:  0.14705882352941174\n",
            "Epoch [28] Loss: 0.5582\n",
            "Start VALIDATION STEP\n",
            "Accuracy:  0.775390625 ; Precision:  0.631578947368421 ; Recall:  0.1 ; F1:  0.17266187050359713\n",
            "Epoch [29] Loss: 0.4664\n",
            "Start VALIDATION STEP\n",
            "Accuracy:  0.759765625 ; Precision:  0.4594594594594595 ; Recall:  0.14166666666666666 ; F1:  0.21656050955414013\n",
            "Epoch [30] Loss: 0.4418\n",
            "Start VALIDATION STEP\n",
            "Accuracy:  0.76953125 ; Precision:  0.5625 ; Recall:  0.075 ; F1:  0.1323529411764706\n",
            "Epoch [31] Loss: 0.4356\n",
            "Start VALIDATION STEP\n",
            "Accuracy:  0.76171875 ; Precision:  0.4722222222222222 ; Recall:  0.14166666666666666 ; F1:  0.21794871794871795\n",
            "Epoch [32] Loss: 0.4713\n",
            "Start VALIDATION STEP\n",
            "Accuracy:  0.767578125 ; Precision:  0.5121951219512195 ; Recall:  0.175 ; F1:  0.2608695652173913\n",
            "Epoch [33] Loss: 0.4680\n",
            "Start VALIDATION STEP\n",
            "Accuracy:  0.771484375 ; Precision:  0.5454545454545454 ; Recall:  0.15 ; F1:  0.2352941176470588\n",
            "Epoch [34] Loss: 0.4922\n",
            "Start VALIDATION STEP\n",
            "Accuracy:  0.76953125 ; Precision:  0.525 ; Recall:  0.175 ; F1:  0.2625\n",
            "Epoch [35] Loss: 0.4816\n",
            "Start VALIDATION STEP\n",
            "Accuracy:  0.76953125 ; Precision:  0.525 ; Recall:  0.175 ; F1:  0.2625\n",
            "Epoch [36] Loss: 0.3812\n",
            "Start VALIDATION STEP\n",
            "Accuracy:  0.7734375 ; Precision:  0.5909090909090909 ; Recall:  0.10833333333333334 ; F1:  0.1830985915492958\n",
            "Epoch [37] Loss: 0.5654\n",
            "Start VALIDATION STEP\n",
            "Accuracy:  0.771484375 ; Precision:  0.56 ; Recall:  0.11666666666666667 ; F1:  0.19310344827586207\n",
            "Epoch [38] Loss: 0.4832\n",
            "Start VALIDATION STEP\n",
            "Accuracy:  0.75390625 ; Precision:  0.44 ; Recall:  0.18333333333333332 ; F1:  0.25882352941176473\n",
            "Epoch [39] Loss: 0.5636\n",
            "Start VALIDATION STEP\n",
            "Accuracy:  0.76953125 ; Precision:  0.5294117647058824 ; Recall:  0.15 ; F1:  0.23376623376623373\n",
            "Epoch [40] Loss: 0.4904\n",
            "Start VALIDATION STEP\n",
            "Accuracy:  0.751953125 ; Precision:  0.4406779661016949 ; Recall:  0.21666666666666667 ; F1:  0.29050279329608936\n",
            "Epoch [41] Loss: 0.5776\n",
            "Start VALIDATION STEP\n",
            "Accuracy:  0.771484375 ; Precision:  0.5652173913043478 ; Recall:  0.10833333333333334 ; F1:  0.18181818181818182\n",
            "Epoch [42] Loss: 0.4562\n",
            "Start VALIDATION STEP\n",
            "Accuracy:  0.76171875 ; Precision:  0.48148148148148145 ; Recall:  0.21666666666666667 ; F1:  0.29885057471264365\n",
            "Epoch [43] Loss: 0.4553\n",
            "Start VALIDATION STEP\n",
            "Accuracy:  0.763671875 ; Precision:  0.4888888888888889 ; Recall:  0.18333333333333332 ; F1:  0.26666666666666666\n",
            "Epoch [44] Loss: 0.5687\n",
            "Start VALIDATION STEP\n",
            "Accuracy:  0.771484375 ; Precision:  0.6153846153846154 ; Recall:  0.06666666666666667 ; F1:  0.12030075187969924\n",
            "Epoch [45] Loss: 0.4725\n",
            "Start VALIDATION STEP\n",
            "Accuracy:  0.763671875 ; Precision:  0.4857142857142857 ; Recall:  0.14166666666666666 ; F1:  0.21935483870967742\n",
            "Epoch [46] Loss: 0.4619\n",
            "Start VALIDATION STEP\n",
            "Accuracy:  0.76171875 ; Precision:  0.4722222222222222 ; Recall:  0.14166666666666666 ; F1:  0.21794871794871795\n",
            "Epoch [47] Loss: 0.5393\n",
            "Start VALIDATION STEP\n",
            "Accuracy:  0.755859375 ; Precision:  0.44680851063829785 ; Recall:  0.175 ; F1:  0.25149700598802394\n",
            "Epoch [48] Loss: 0.5013\n",
            "Start VALIDATION STEP\n",
            "Accuracy:  0.7578125 ; Precision:  0.4375 ; Recall:  0.11666666666666667 ; F1:  0.18421052631578946\n",
            "Epoch [49] Loss: 0.3219\n",
            "Start VALIDATION STEP\n",
            "Accuracy:  0.7578125 ; Precision:  0.4473684210526316 ; Recall:  0.14166666666666666 ; F1:  0.21518987341772153\n",
            "Epoch [50] Loss: 0.4664\n",
            "Start VALIDATION STEP\n",
            "Accuracy:  0.759765625 ; Precision:  0.46808510638297873 ; Recall:  0.18333333333333332 ; F1:  0.26347305389221554\n",
            "Epoch [51] Loss: 0.3443\n",
            "Start VALIDATION STEP\n",
            "Accuracy:  0.75390625 ; Precision:  0.44642857142857145 ; Recall:  0.20833333333333334 ; F1:  0.2840909090909091\n",
            "Epoch [52] Loss: 0.4503\n",
            "Start VALIDATION STEP\n",
            "Accuracy:  0.763671875 ; Precision:  0.4918032786885246 ; Recall:  0.25 ; F1:  0.3314917127071823\n",
            "Epoch [53] Loss: 0.3251\n",
            "Start VALIDATION STEP\n",
            "Accuracy:  0.771484375 ; Precision:  0.5306122448979592 ; Recall:  0.21666666666666667 ; F1:  0.3076923076923077\n",
            "Train step stopped at epoch  54  because the model doesn't improve!\n",
            "The best model and optimizer configuration was achieved at the  21  epoch\n",
            "The best accuracy:  0.783203125  best recall:  0.14166666666666666 best loss:  0.4992973804473877\n",
            "Finished Training!\n",
            "Evaluation metrics in TEST set:\n",
            "Accuracy:  0.79296875 ; Precision:  0.38461538461538464 ; Recall:  0.2127659574468085 ; F1:  0.273972602739726\n",
            "[main 658dba3] added mlflow logging\n",
            " 1 file changed, 3 insertions(+)\n",
            "Enumerating objects: 11, done.\n",
            "Counting objects: 100% (11/11), done.\n",
            "Delta compression using up to 2 threads\n",
            "Compressing objects: 100% (8/8), done.\n",
            "Writing objects: 100% (10/10), 928 bytes | 928.00 KiB/s, done.\n",
            "Total 10 (delta 2), reused 4 (delta 0)\n",
            "fatal: could not read Username for 'https://dagshub.com': No such device or address\n",
            "fatal: the remote end hung up unexpectedly\n",
            "error: failed to push some refs to 'https://dagshub.com/Rocco000/OncoVision.git'\n",
            "fatal: the remote end hung up unexpectedly\n"
          ]
        },
        {
          "output_type": "display_data",
          "data": {
            "text/plain": [
              "<Figure size 800x600 with 1 Axes>"
            ],
            "image/png": "[encoded data removed]"
          },
          "metadata": {}
        },
        {
          "output_type": "stream",
          "name": "stdout",
          "text": [
            "TP:  10  TN:  193  FP:  16  FN: 37\n",
            "Device prima addestrare il modello:  cuda\n",
            "Il modello si trova sulla GPU.\n",
            "Ottimizzatore NO in GPU\n",
            "START TRAINING STEP\n",
            "Start VALIDATION STEP\n",
            "Accuracy:  0.234375 ; Precision:  0.234375 ; Recall:  1.0 ; F1:  0.379746835443038\n",
            "Epoch [1] Loss: 0.7142\n",
            "Start VALIDATION STEP\n",
            "Accuracy:  0.234375 ; Precision:  0.234375 ; Recall:  1.0 ; F1:  0.379746835443038\n",
            "Epoch [2] Loss: 0.7115\n",
            "Start VALIDATION STEP\n",
            "Accuracy:  0.234375 ; Precision:  0.234375 ; Recall:  1.0 ; F1:  0.379746835443038\n",
            "Epoch [3] Loss: 0.7083\n",
            "Start VALIDATION STEP\n",
            "Accuracy:  0.234375 ; Precision:  0.234375 ; Recall:  1.0 ; F1:  0.379746835443038\n",
            "Epoch [4] Loss: 0.6977\n",
            "Start VALIDATION STEP\n",
            "Accuracy:  0.763671875 ; Precision:  0.0 ; Recall:  0.0 ; F1:  0.0\n",
            "Epoch [5] Loss: 0.6902\n",
            "Start VALIDATION STEP\n"
          ]
        },
        {
          "output_type": "stream",
          "name": "stderr",
          "text": [
            "/usr/local/lib/python3.10/dist-packages/sklearn/metrics/_classification.py:1344: UndefinedMetricWarning: Precision is ill-defined and being set to 0.0 due to no predicted samples. Use `zero_division` parameter to control this behavior.\n",
            "  _warn_prf(average, modifier, msg_start, len(result))\n"
          ]
        },
        {
          "output_type": "stream",
          "name": "stdout",
          "text": [
            "Accuracy:  0.765625 ; Precision:  0.0 ; Recall:  0.0 ; F1:  0.0\n",
            "Epoch [6] Loss: 0.6783\n",
            "Start VALIDATION STEP\n"
          ]
        },
        {
          "output_type": "stream",
          "name": "stderr",
          "text": [
            "/usr/local/lib/python3.10/dist-packages/sklearn/metrics/_classification.py:1344: UndefinedMetricWarning: Precision is ill-defined and being set to 0.0 due to no predicted samples. Use `zero_division` parameter to control this behavior.\n",
            "  _warn_prf(average, modifier, msg_start, len(result))\n"
          ]
        },
        {
          "output_type": "stream",
          "name": "stdout",
          "text": [
            "Accuracy:  0.765625 ; Precision:  0.0 ; Recall:  0.0 ; F1:  0.0\n",
            "Epoch [7] Loss: 0.6664\n",
            "Start VALIDATION STEP\n"
          ]
        },
        {
          "output_type": "stream",
          "name": "stderr",
          "text": [
            "/usr/local/lib/python3.10/dist-packages/sklearn/metrics/_classification.py:1344: UndefinedMetricWarning: Precision is ill-defined and being set to 0.0 due to no predicted samples. Use `zero_division` parameter to control this behavior.\n",
            "  _warn_prf(average, modifier, msg_start, len(result))\n"
          ]
        },
        {
          "output_type": "stream",
          "name": "stdout",
          "text": [
            "Accuracy:  0.765625 ; Precision:  0.0 ; Recall:  0.0 ; F1:  0.0\n",
            "Epoch [8] Loss: 0.6536\n",
            "Start VALIDATION STEP\n"
          ]
        },
        {
          "output_type": "stream",
          "name": "stderr",
          "text": [
            "/usr/local/lib/python3.10/dist-packages/sklearn/metrics/_classification.py:1344: UndefinedMetricWarning: Precision is ill-defined and being set to 0.0 due to no predicted samples. Use `zero_division` parameter to control this behavior.\n",
            "  _warn_prf(average, modifier, msg_start, len(result))\n"
          ]
        },
        {
          "output_type": "stream",
          "name": "stdout",
          "text": [
            "Accuracy:  0.765625 ; Precision:  0.0 ; Recall:  0.0 ; F1:  0.0\n",
            "Epoch [9] Loss: 0.6269\n",
            "Start VALIDATION STEP\n"
          ]
        },
        {
          "output_type": "stream",
          "name": "stderr",
          "text": [
            "/usr/local/lib/python3.10/dist-packages/sklearn/metrics/_classification.py:1344: UndefinedMetricWarning: Precision is ill-defined and being set to 0.0 due to no predicted samples. Use `zero_division` parameter to control this behavior.\n",
            "  _warn_prf(average, modifier, msg_start, len(result))\n"
          ]
        },
        {
          "output_type": "stream",
          "name": "stdout",
          "text": [
            "Accuracy:  0.765625 ; Precision:  0.0 ; Recall:  0.0 ; F1:  0.0\n",
            "Epoch [10] Loss: 0.5797\n",
            "Start VALIDATION STEP\n"
          ]
        },
        {
          "output_type": "stream",
          "name": "stderr",
          "text": [
            "/usr/local/lib/python3.10/dist-packages/sklearn/metrics/_classification.py:1344: UndefinedMetricWarning: Precision is ill-defined and being set to 0.0 due to no predicted samples. Use `zero_division` parameter to control this behavior.\n",
            "  _warn_prf(average, modifier, msg_start, len(result))\n"
          ]
        },
        {
          "output_type": "stream",
          "name": "stdout",
          "text": [
            "Accuracy:  0.765625 ; Precision:  0.0 ; Recall:  0.0 ; F1:  0.0\n",
            "Epoch [11] Loss: 0.5803\n",
            "Start VALIDATION STEP\n"
          ]
        },
        {
          "output_type": "stream",
          "name": "stderr",
          "text": [
            "/usr/local/lib/python3.10/dist-packages/sklearn/metrics/_classification.py:1344: UndefinedMetricWarning: Precision is ill-defined and being set to 0.0 due to no predicted samples. Use `zero_division` parameter to control this behavior.\n",
            "  _warn_prf(average, modifier, msg_start, len(result))\n"
          ]
        },
        {
          "output_type": "stream",
          "name": "stdout",
          "text": [
            "Accuracy:  0.765625 ; Precision:  0.0 ; Recall:  0.0 ; F1:  0.0\n",
            "Epoch [12] Loss: 0.5563\n",
            "Start VALIDATION STEP\n"
          ]
        },
        {
          "output_type": "stream",
          "name": "stderr",
          "text": [
            "/usr/local/lib/python3.10/dist-packages/sklearn/metrics/_classification.py:1344: UndefinedMetricWarning: Precision is ill-defined and being set to 0.0 due to no predicted samples. Use `zero_division` parameter to control this behavior.\n",
            "  _warn_prf(average, modifier, msg_start, len(result))\n"
          ]
        },
        {
          "output_type": "stream",
          "name": "stdout",
          "text": [
            "Accuracy:  0.765625 ; Precision:  0.0 ; Recall:  0.0 ; F1:  0.0\n",
            "Epoch [13] Loss: 0.5360\n",
            "Start VALIDATION STEP\n"
          ]
        },
        {
          "output_type": "stream",
          "name": "stderr",
          "text": [
            "/usr/local/lib/python3.10/dist-packages/sklearn/metrics/_classification.py:1344: UndefinedMetricWarning: Precision is ill-defined and being set to 0.0 due to no predicted samples. Use `zero_division` parameter to control this behavior.\n",
            "  _warn_prf(average, modifier, msg_start, len(result))\n"
          ]
        },
        {
          "output_type": "stream",
          "name": "stdout",
          "text": [
            "Accuracy:  0.765625 ; Precision:  0.0 ; Recall:  0.0 ; F1:  0.0\n",
            "Epoch [14] Loss: 0.5976\n",
            "Start VALIDATION STEP\n"
          ]
        },
        {
          "output_type": "stream",
          "name": "stderr",
          "text": [
            "/usr/local/lib/python3.10/dist-packages/sklearn/metrics/_classification.py:1344: UndefinedMetricWarning: Precision is ill-defined and being set to 0.0 due to no predicted samples. Use `zero_division` parameter to control this behavior.\n",
            "  _warn_prf(average, modifier, msg_start, len(result))\n"
          ]
        },
        {
          "output_type": "stream",
          "name": "stdout",
          "text": [
            "Accuracy:  0.765625 ; Precision:  0.0 ; Recall:  0.0 ; F1:  0.0\n",
            "Epoch [15] Loss: 0.4435\n",
            "Start VALIDATION STEP\n"
          ]
        },
        {
          "output_type": "stream",
          "name": "stderr",
          "text": [
            "/usr/local/lib/python3.10/dist-packages/sklearn/metrics/_classification.py:1344: UndefinedMetricWarning: Precision is ill-defined and being set to 0.0 due to no predicted samples. Use `zero_division` parameter to control this behavior.\n",
            "  _warn_prf(average, modifier, msg_start, len(result))\n"
          ]
        },
        {
          "output_type": "stream",
          "name": "stdout",
          "text": [
            "Accuracy:  0.765625 ; Precision:  0.0 ; Recall:  0.0 ; F1:  0.0\n",
            "Epoch [16] Loss: 0.4601\n",
            "Start VALIDATION STEP\n"
          ]
        },
        {
          "output_type": "stream",
          "name": "stderr",
          "text": [
            "/usr/local/lib/python3.10/dist-packages/sklearn/metrics/_classification.py:1344: UndefinedMetricWarning: Precision is ill-defined and being set to 0.0 due to no predicted samples. Use `zero_division` parameter to control this behavior.\n",
            "  _warn_prf(average, modifier, msg_start, len(result))\n"
          ]
        },
        {
          "output_type": "stream",
          "name": "stdout",
          "text": [
            "Accuracy:  0.765625 ; Precision:  0.0 ; Recall:  0.0 ; F1:  0.0\n",
            "Epoch [17] Loss: 0.5202\n",
            "Start VALIDATION STEP\n"
          ]
        },
        {
          "output_type": "stream",
          "name": "stderr",
          "text": [
            "/usr/local/lib/python3.10/dist-packages/sklearn/metrics/_classification.py:1344: UndefinedMetricWarning: Precision is ill-defined and being set to 0.0 due to no predicted samples. Use `zero_division` parameter to control this behavior.\n",
            "  _warn_prf(average, modifier, msg_start, len(result))\n"
          ]
        },
        {
          "output_type": "stream",
          "name": "stdout",
          "text": [
            "Accuracy:  0.765625 ; Precision:  0.0 ; Recall:  0.0 ; F1:  0.0\n",
            "Epoch [18] Loss: 0.6777\n",
            "Start VALIDATION STEP\n"
          ]
        },
        {
          "output_type": "stream",
          "name": "stderr",
          "text": [
            "/usr/local/lib/python3.10/dist-packages/sklearn/metrics/_classification.py:1344: UndefinedMetricWarning: Precision is ill-defined and being set to 0.0 due to no predicted samples. Use `zero_division` parameter to control this behavior.\n",
            "  _warn_prf(average, modifier, msg_start, len(result))\n"
          ]
        },
        {
          "output_type": "stream",
          "name": "stdout",
          "text": [
            "Accuracy:  0.765625 ; Precision:  0.0 ; Recall:  0.0 ; F1:  0.0\n",
            "Epoch [19] Loss: 0.6966\n",
            "Start VALIDATION STEP\n"
          ]
        },
        {
          "output_type": "stream",
          "name": "stderr",
          "text": [
            "/usr/local/lib/python3.10/dist-packages/sklearn/metrics/_classification.py:1344: UndefinedMetricWarning: Precision is ill-defined and being set to 0.0 due to no predicted samples. Use `zero_division` parameter to control this behavior.\n",
            "  _warn_prf(average, modifier, msg_start, len(result))\n"
          ]
        },
        {
          "output_type": "stream",
          "name": "stdout",
          "text": [
            "Accuracy:  0.765625 ; Precision:  0.0 ; Recall:  0.0 ; F1:  0.0\n",
            "Epoch [20] Loss: 0.5811\n",
            "Start VALIDATION STEP\n"
          ]
        },
        {
          "output_type": "stream",
          "name": "stderr",
          "text": [
            "/usr/local/lib/python3.10/dist-packages/sklearn/metrics/_classification.py:1344: UndefinedMetricWarning: Precision is ill-defined and being set to 0.0 due to no predicted samples. Use `zero_division` parameter to control this behavior.\n",
            "  _warn_prf(average, modifier, msg_start, len(result))\n"
          ]
        },
        {
          "output_type": "stream",
          "name": "stdout",
          "text": [
            "Accuracy:  0.765625 ; Precision:  0.0 ; Recall:  0.0 ; F1:  0.0\n",
            "Epoch [21] Loss: 0.5862\n",
            "Start VALIDATION STEP\n"
          ]
        },
        {
          "output_type": "stream",
          "name": "stderr",
          "text": [
            "/usr/local/lib/python3.10/dist-packages/sklearn/metrics/_classification.py:1344: UndefinedMetricWarning: Precision is ill-defined and being set to 0.0 due to no predicted samples. Use `zero_division` parameter to control this behavior.\n",
            "  _warn_prf(average, modifier, msg_start, len(result))\n"
          ]
        },
        {
          "output_type": "stream",
          "name": "stdout",
          "text": [
            "Accuracy:  0.765625 ; Precision:  0.0 ; Recall:  0.0 ; F1:  0.0\n",
            "Epoch [22] Loss: 0.6999\n",
            "Start VALIDATION STEP\n"
          ]
        },
        {
          "output_type": "stream",
          "name": "stderr",
          "text": [
            "/usr/local/lib/python3.10/dist-packages/sklearn/metrics/_classification.py:1344: UndefinedMetricWarning: Precision is ill-defined and being set to 0.0 due to no predicted samples. Use `zero_division` parameter to control this behavior.\n",
            "  _warn_prf(average, modifier, msg_start, len(result))\n"
          ]
        },
        {
          "output_type": "stream",
          "name": "stdout",
          "text": [
            "Accuracy:  0.765625 ; Precision:  0.0 ; Recall:  0.0 ; F1:  0.0\n",
            "Epoch [23] Loss: 0.6049\n",
            "Start VALIDATION STEP\n"
          ]
        },
        {
          "output_type": "stream",
          "name": "stderr",
          "text": [
            "/usr/local/lib/python3.10/dist-packages/sklearn/metrics/_classification.py:1344: UndefinedMetricWarning: Precision is ill-defined and being set to 0.0 due to no predicted samples. Use `zero_division` parameter to control this behavior.\n",
            "  _warn_prf(average, modifier, msg_start, len(result))\n"
          ]
        },
        {
          "output_type": "stream",
          "name": "stdout",
          "text": [
            "Accuracy:  0.765625 ; Precision:  0.0 ; Recall:  0.0 ; F1:  0.0\n",
            "Epoch [24] Loss: 0.5750\n",
            "Start VALIDATION STEP\n"
          ]
        },
        {
          "output_type": "stream",
          "name": "stderr",
          "text": [
            "/usr/local/lib/python3.10/dist-packages/sklearn/metrics/_classification.py:1344: UndefinedMetricWarning: Precision is ill-defined and being set to 0.0 due to no predicted samples. Use `zero_division` parameter to control this behavior.\n",
            "  _warn_prf(average, modifier, msg_start, len(result))\n"
          ]
        },
        {
          "output_type": "stream",
          "name": "stdout",
          "text": [
            "Accuracy:  0.765625 ; Precision:  0.0 ; Recall:  0.0 ; F1:  0.0\n",
            "Epoch [25] Loss: 0.5718\n",
            "Start VALIDATION STEP\n"
          ]
        },
        {
          "output_type": "stream",
          "name": "stderr",
          "text": [
            "/usr/local/lib/python3.10/dist-packages/sklearn/metrics/_classification.py:1344: UndefinedMetricWarning: Precision is ill-defined and being set to 0.0 due to no predicted samples. Use `zero_division` parameter to control this behavior.\n",
            "  _warn_prf(average, modifier, msg_start, len(result))\n"
          ]
        },
        {
          "output_type": "stream",
          "name": "stdout",
          "text": [
            "Accuracy:  0.765625 ; Precision:  0.0 ; Recall:  0.0 ; F1:  0.0\n",
            "Epoch [26] Loss: 0.5706\n",
            "Start VALIDATION STEP\n"
          ]
        },
        {
          "output_type": "stream",
          "name": "stderr",
          "text": [
            "/usr/local/lib/python3.10/dist-packages/sklearn/metrics/_classification.py:1344: UndefinedMetricWarning: Precision is ill-defined and being set to 0.0 due to no predicted samples. Use `zero_division` parameter to control this behavior.\n",
            "  _warn_prf(average, modifier, msg_start, len(result))\n"
          ]
        },
        {
          "output_type": "stream",
          "name": "stdout",
          "text": [
            "Accuracy:  0.765625 ; Precision:  0.0 ; Recall:  0.0 ; F1:  0.0\n",
            "Epoch [27] Loss: 0.6016\n",
            "Start VALIDATION STEP\n"
          ]
        },
        {
          "output_type": "stream",
          "name": "stderr",
          "text": [
            "/usr/local/lib/python3.10/dist-packages/sklearn/metrics/_classification.py:1344: UndefinedMetricWarning: Precision is ill-defined and being set to 0.0 due to no predicted samples. Use `zero_division` parameter to control this behavior.\n",
            "  _warn_prf(average, modifier, msg_start, len(result))\n"
          ]
        },
        {
          "output_type": "stream",
          "name": "stdout",
          "text": [
            "Accuracy:  0.765625 ; Precision:  0.0 ; Recall:  0.0 ; F1:  0.0\n",
            "Epoch [28] Loss: 0.6325\n",
            "Start VALIDATION STEP\n"
          ]
        },
        {
          "output_type": "stream",
          "name": "stderr",
          "text": [
            "/usr/local/lib/python3.10/dist-packages/sklearn/metrics/_classification.py:1344: UndefinedMetricWarning: Precision is ill-defined and being set to 0.0 due to no predicted samples. Use `zero_division` parameter to control this behavior.\n",
            "  _warn_prf(average, modifier, msg_start, len(result))\n"
          ]
        },
        {
          "output_type": "stream",
          "name": "stdout",
          "text": [
            "Accuracy:  0.765625 ; Precision:  0.0 ; Recall:  0.0 ; F1:  0.0\n",
            "Epoch [29] Loss: 0.6974\n",
            "Start VALIDATION STEP\n"
          ]
        },
        {
          "output_type": "stream",
          "name": "stderr",
          "text": [
            "/usr/local/lib/python3.10/dist-packages/sklearn/metrics/_classification.py:1344: UndefinedMetricWarning: Precision is ill-defined and being set to 0.0 due to no predicted samples. Use `zero_division` parameter to control this behavior.\n",
            "  _warn_prf(average, modifier, msg_start, len(result))\n"
          ]
        },
        {
          "output_type": "stream",
          "name": "stdout",
          "text": [
            "Accuracy:  0.765625 ; Precision:  0.0 ; Recall:  0.0 ; F1:  0.0\n",
            "Epoch [30] Loss: 0.6045\n",
            "Start VALIDATION STEP\n"
          ]
        },
        {
          "output_type": "stream",
          "name": "stderr",
          "text": [
            "/usr/local/lib/python3.10/dist-packages/sklearn/metrics/_classification.py:1344: UndefinedMetricWarning: Precision is ill-defined and being set to 0.0 due to no predicted samples. Use `zero_division` parameter to control this behavior.\n",
            "  _warn_prf(average, modifier, msg_start, len(result))\n"
          ]
        },
        {
          "output_type": "stream",
          "name": "stdout",
          "text": [
            "Accuracy:  0.765625 ; Precision:  0.0 ; Recall:  0.0 ; F1:  0.0\n",
            "Epoch [31] Loss: 0.4750\n",
            "Start VALIDATION STEP\n"
          ]
        },
        {
          "output_type": "stream",
          "name": "stderr",
          "text": [
            "/usr/local/lib/python3.10/dist-packages/sklearn/metrics/_classification.py:1344: UndefinedMetricWarning: Precision is ill-defined and being set to 0.0 due to no predicted samples. Use `zero_division` parameter to control this behavior.\n",
            "  _warn_prf(average, modifier, msg_start, len(result))\n"
          ]
        },
        {
          "output_type": "stream",
          "name": "stdout",
          "text": [
            "Accuracy:  0.765625 ; Precision:  0.0 ; Recall:  0.0 ; F1:  0.0\n",
            "Epoch [32] Loss: 0.6040\n",
            "Start VALIDATION STEP\n"
          ]
        },
        {
          "output_type": "stream",
          "name": "stderr",
          "text": [
            "/usr/local/lib/python3.10/dist-packages/sklearn/metrics/_classification.py:1344: UndefinedMetricWarning: Precision is ill-defined and being set to 0.0 due to no predicted samples. Use `zero_division` parameter to control this behavior.\n",
            "  _warn_prf(average, modifier, msg_start, len(result))\n"
          ]
        },
        {
          "output_type": "stream",
          "name": "stdout",
          "text": [
            "Accuracy:  0.765625 ; Precision:  0.0 ; Recall:  0.0 ; F1:  0.0\n",
            "Epoch [33] Loss: 0.6184\n",
            "Start VALIDATION STEP\n"
          ]
        },
        {
          "output_type": "stream",
          "name": "stderr",
          "text": [
            "/usr/local/lib/python3.10/dist-packages/sklearn/metrics/_classification.py:1344: UndefinedMetricWarning: Precision is ill-defined and being set to 0.0 due to no predicted samples. Use `zero_division` parameter to control this behavior.\n",
            "  _warn_prf(average, modifier, msg_start, len(result))\n"
          ]
        },
        {
          "output_type": "stream",
          "name": "stdout",
          "text": [
            "Accuracy:  0.765625 ; Precision:  0.0 ; Recall:  0.0 ; F1:  0.0\n",
            "Train step stopped at epoch  34  because the model doesn't improve!\n",
            "The best model and optimizer configuration was achieved at the  1  epoch\n",
            "The best accuracy:  0.234375  best recall:  1.0 best loss:  0.7141551375389099\n",
            "Finished Training!\n"
          ]
        },
        {
          "output_type": "stream",
          "name": "stderr",
          "text": [
            "/usr/local/lib/python3.10/dist-packages/sklearn/metrics/_classification.py:1344: UndefinedMetricWarning: Precision is ill-defined and being set to 0.0 due to no predicted samples. Use `zero_division` parameter to control this behavior.\n",
            "  _warn_prf(average, modifier, msg_start, len(result))\n"
          ]
        },
        {
          "output_type": "stream",
          "name": "stdout",
          "text": [
            "Evaluation metrics in TEST set:\n",
            "Accuracy:  0.81640625 ; Precision:  0.0 ; Recall:  0.0 ; F1:  0.0\n",
            "Device prima addestrare il modello:  cuda\n",
            "Il modello si trova sulla GPU.\n",
            "Ottimizzatore NO in GPU\n",
            "START TRAINING STEP\n",
            "Start VALIDATION STEP\n",
            "Accuracy:  0.234375 ; Precision:  0.234375 ; Recall:  1.0 ; F1:  0.379746835443038\n",
            "Epoch [1] Loss: 941.0748\n",
            "Start VALIDATION STEP\n",
            "Accuracy:  0.759765625 ; Precision:  0.0 ; Recall:  0.0 ; F1:  0.0\n",
            "Epoch [2] Loss: 1.9126\n",
            "Start VALIDATION STEP\n",
            "Accuracy:  0.640625 ; Precision:  0.19811320754716982 ; Recall:  0.175 ; F1:  0.18584070796460175\n",
            "Epoch [3] Loss: 0.9288\n",
            "Start VALIDATION STEP\n",
            "Accuracy:  0.751953125 ; Precision:  0.26666666666666666 ; Recall:  0.03333333333333333 ; F1:  0.05925925925925926\n",
            "Epoch [4] Loss: 0.7349\n",
            "Start VALIDATION STEP\n",
            "Accuracy:  0.7421875 ; Precision:  0.3 ; Recall:  0.075 ; F1:  0.12\n",
            "Epoch [5] Loss: 0.6140\n",
            "Start VALIDATION STEP\n",
            "Accuracy:  0.755859375 ; Precision:  0.2727272727272727 ; Recall:  0.025 ; F1:  0.04580152671755725\n",
            "Epoch [6] Loss: 0.5818\n",
            "Start VALIDATION STEP\n",
            "Accuracy:  0.736328125 ; Precision:  0.2857142857142857 ; Recall:  0.08333333333333333 ; F1:  0.12903225806451613\n",
            "Epoch [7] Loss: 0.5292\n",
            "Start VALIDATION STEP\n",
            "Accuracy:  0.7421875 ; Precision:  0.2857142857142857 ; Recall:  0.06666666666666667 ; F1:  0.10810810810810811\n",
            "Epoch [8] Loss: 0.6446\n",
            "Start VALIDATION STEP\n",
            "Accuracy:  0.740234375 ; Precision:  0.21739130434782608 ; Recall:  0.041666666666666664 ; F1:  0.06993006993006992\n",
            "Epoch [9] Loss: 0.5591\n",
            "Start VALIDATION STEP\n",
            "Accuracy:  0.7578125 ; Precision:  0.3333333333333333 ; Recall:  0.03333333333333333 ; F1:  0.0606060606060606\n",
            "Epoch [10] Loss: 0.4857\n",
            "Start VALIDATION STEP\n",
            "Accuracy:  0.76171875 ; Precision:  0.3333333333333333 ; Recall:  0.016666666666666666 ; F1:  0.031746031746031744\n",
            "Epoch [11] Loss: 0.5164\n",
            "Start VALIDATION STEP\n",
            "Accuracy:  0.736328125 ; Precision:  0.2 ; Recall:  0.041666666666666664 ; F1:  0.06896551724137931\n",
            "Epoch [12] Loss: 0.6103\n",
            "Start VALIDATION STEP\n",
            "Accuracy:  0.75390625 ; Precision:  0.25 ; Recall:  0.025 ; F1:  0.045454545454545456\n",
            "Epoch [13] Loss: 0.6585\n",
            "Start VALIDATION STEP\n"
          ]
        },
        {
          "output_type": "stream",
          "name": "stderr",
          "text": [
            "/usr/local/lib/python3.10/dist-packages/sklearn/metrics/_classification.py:1344: UndefinedMetricWarning: Precision is ill-defined and being set to 0.0 due to no predicted samples. Use `zero_division` parameter to control this behavior.\n",
            "  _warn_prf(average, modifier, msg_start, len(result))\n"
          ]
        },
        {
          "output_type": "stream",
          "name": "stdout",
          "text": [
            "Accuracy:  0.765625 ; Precision:  0.0 ; Recall:  0.0 ; F1:  0.0\n",
            "Epoch [14] Loss: 0.5249\n",
            "Start VALIDATION STEP\n"
          ]
        },
        {
          "output_type": "stream",
          "name": "stderr",
          "text": [
            "/usr/local/lib/python3.10/dist-packages/sklearn/metrics/_classification.py:1344: UndefinedMetricWarning: Precision is ill-defined and being set to 0.0 due to no predicted samples. Use `zero_division` parameter to control this behavior.\n",
            "  _warn_prf(average, modifier, msg_start, len(result))\n"
          ]
        },
        {
          "output_type": "stream",
          "name": "stdout",
          "text": [
            "Accuracy:  0.765625 ; Precision:  0.0 ; Recall:  0.0 ; F1:  0.0\n",
            "Epoch [15] Loss: 0.5766\n",
            "Start VALIDATION STEP\n",
            "Accuracy:  0.751953125 ; Precision:  0.29411764705882354 ; Recall:  0.041666666666666664 ; F1:  0.072992700729927\n",
            "Epoch [16] Loss: 0.6199\n",
            "Start VALIDATION STEP\n",
            "Accuracy:  0.763671875 ; Precision:  0.0 ; Recall:  0.0 ; F1:  0.0\n",
            "Epoch [17] Loss: 0.5097\n",
            "Start VALIDATION STEP\n"
          ]
        },
        {
          "output_type": "stream",
          "name": "stderr",
          "text": [
            "/usr/local/lib/python3.10/dist-packages/sklearn/metrics/_classification.py:1344: UndefinedMetricWarning: Precision is ill-defined and being set to 0.0 due to no predicted samples. Use `zero_division` parameter to control this behavior.\n",
            "  _warn_prf(average, modifier, msg_start, len(result))\n"
          ]
        },
        {
          "output_type": "stream",
          "name": "stdout",
          "text": [
            "Accuracy:  0.765625 ; Precision:  0.0 ; Recall:  0.0 ; F1:  0.0\n",
            "Epoch [18] Loss: 0.5981\n",
            "Start VALIDATION STEP\n",
            "Accuracy:  0.763671875 ; Precision:  0.0 ; Recall:  0.0 ; F1:  0.0\n",
            "Epoch [19] Loss: 0.5349\n",
            "Start VALIDATION STEP\n"
          ]
        },
        {
          "output_type": "stream",
          "name": "stderr",
          "text": [
            "/usr/local/lib/python3.10/dist-packages/sklearn/metrics/_classification.py:1344: UndefinedMetricWarning: Precision is ill-defined and being set to 0.0 due to no predicted samples. Use `zero_division` parameter to control this behavior.\n",
            "  _warn_prf(average, modifier, msg_start, len(result))\n"
          ]
        },
        {
          "output_type": "stream",
          "name": "stdout",
          "text": [
            "Accuracy:  0.765625 ; Precision:  0.0 ; Recall:  0.0 ; F1:  0.0\n",
            "Epoch [20] Loss: 0.5110\n",
            "Start VALIDATION STEP\n",
            "Accuracy:  0.76171875 ; Precision:  0.3333333333333333 ; Recall:  0.016666666666666666 ; F1:  0.031746031746031744\n",
            "Epoch [21] Loss: 0.6034\n",
            "Start VALIDATION STEP\n"
          ]
        },
        {
          "output_type": "stream",
          "name": "stderr",
          "text": [
            "/usr/local/lib/python3.10/dist-packages/sklearn/metrics/_classification.py:1344: UndefinedMetricWarning: Precision is ill-defined and being set to 0.0 due to no predicted samples. Use `zero_division` parameter to control this behavior.\n",
            "  _warn_prf(average, modifier, msg_start, len(result))\n"
          ]
        },
        {
          "output_type": "stream",
          "name": "stdout",
          "text": [
            "Accuracy:  0.765625 ; Precision:  0.0 ; Recall:  0.0 ; F1:  0.0\n",
            "Epoch [22] Loss: 0.5932\n",
            "Start VALIDATION STEP\n"
          ]
        },
        {
          "output_type": "stream",
          "name": "stderr",
          "text": [
            "/usr/local/lib/python3.10/dist-packages/sklearn/metrics/_classification.py:1344: UndefinedMetricWarning: Precision is ill-defined and being set to 0.0 due to no predicted samples. Use `zero_division` parameter to control this behavior.\n",
            "  _warn_prf(average, modifier, msg_start, len(result))\n"
          ]
        },
        {
          "output_type": "stream",
          "name": "stdout",
          "text": [
            "Accuracy:  0.765625 ; Precision:  0.0 ; Recall:  0.0 ; F1:  0.0\n",
            "Epoch [23] Loss: 0.5262\n",
            "Start VALIDATION STEP\n"
          ]
        },
        {
          "output_type": "stream",
          "name": "stderr",
          "text": [
            "/usr/local/lib/python3.10/dist-packages/sklearn/metrics/_classification.py:1344: UndefinedMetricWarning: Precision is ill-defined and being set to 0.0 due to no predicted samples. Use `zero_division` parameter to control this behavior.\n",
            "  _warn_prf(average, modifier, msg_start, len(result))\n"
          ]
        },
        {
          "output_type": "stream",
          "name": "stdout",
          "text": [
            "Accuracy:  0.765625 ; Precision:  0.0 ; Recall:  0.0 ; F1:  0.0\n",
            "Epoch [24] Loss: 0.6134\n",
            "Start VALIDATION STEP\n"
          ]
        },
        {
          "output_type": "stream",
          "name": "stderr",
          "text": [
            "/usr/local/lib/python3.10/dist-packages/sklearn/metrics/_classification.py:1344: UndefinedMetricWarning: Precision is ill-defined and being set to 0.0 due to no predicted samples. Use `zero_division` parameter to control this behavior.\n",
            "  _warn_prf(average, modifier, msg_start, len(result))\n"
          ]
        },
        {
          "output_type": "stream",
          "name": "stdout",
          "text": [
            "Accuracy:  0.765625 ; Precision:  0.0 ; Recall:  0.0 ; F1:  0.0\n",
            "Epoch [25] Loss: 0.4862\n",
            "Start VALIDATION STEP\n",
            "Accuracy:  0.763671875 ; Precision:  0.0 ; Recall:  0.0 ; F1:  0.0\n",
            "Epoch [26] Loss: 0.6205\n",
            "Start VALIDATION STEP\n"
          ]
        },
        {
          "output_type": "stream",
          "name": "stderr",
          "text": [
            "/usr/local/lib/python3.10/dist-packages/sklearn/metrics/_classification.py:1344: UndefinedMetricWarning: Precision is ill-defined and being set to 0.0 due to no predicted samples. Use `zero_division` parameter to control this behavior.\n",
            "  _warn_prf(average, modifier, msg_start, len(result))\n"
          ]
        },
        {
          "output_type": "stream",
          "name": "stdout",
          "text": [
            "Accuracy:  0.765625 ; Precision:  0.0 ; Recall:  0.0 ; F1:  0.0\n",
            "Epoch [27] Loss: 0.6969\n",
            "Start VALIDATION STEP\n",
            "Accuracy:  0.744140625 ; Precision:  0.17647058823529413 ; Recall:  0.025 ; F1:  0.04379562043795621\n",
            "Epoch [28] Loss: 0.7147\n",
            "Start VALIDATION STEP\n"
          ]
        },
        {
          "output_type": "stream",
          "name": "stderr",
          "text": [
            "/usr/local/lib/python3.10/dist-packages/sklearn/metrics/_classification.py:1344: UndefinedMetricWarning: Precision is ill-defined and being set to 0.0 due to no predicted samples. Use `zero_division` parameter to control this behavior.\n",
            "  _warn_prf(average, modifier, msg_start, len(result))\n"
          ]
        },
        {
          "output_type": "stream",
          "name": "stdout",
          "text": [
            "Accuracy:  0.765625 ; Precision:  0.0 ; Recall:  0.0 ; F1:  0.0\n",
            "Epoch [29] Loss: 0.5858\n",
            "Start VALIDATION STEP\n"
          ]
        },
        {
          "output_type": "stream",
          "name": "stderr",
          "text": [
            "/usr/local/lib/python3.10/dist-packages/sklearn/metrics/_classification.py:1344: UndefinedMetricWarning: Precision is ill-defined and being set to 0.0 due to no predicted samples. Use `zero_division` parameter to control this behavior.\n",
            "  _warn_prf(average, modifier, msg_start, len(result))\n"
          ]
        },
        {
          "output_type": "stream",
          "name": "stdout",
          "text": [
            "Accuracy:  0.765625 ; Precision:  0.0 ; Recall:  0.0 ; F1:  0.0\n",
            "Epoch [30] Loss: 0.7145\n",
            "Start VALIDATION STEP\n",
            "Accuracy:  0.763671875 ; Precision:  0.0 ; Recall:  0.0 ; F1:  0.0\n",
            "Epoch [31] Loss: 0.5690\n",
            "Start VALIDATION STEP\n",
            "Accuracy:  0.763671875 ; Precision:  0.0 ; Recall:  0.0 ; F1:  0.0\n",
            "Epoch [32] Loss: 0.5615\n",
            "Start VALIDATION STEP\n",
            "Accuracy:  0.763671875 ; Precision:  0.0 ; Recall:  0.0 ; F1:  0.0\n",
            "Epoch [33] Loss: 0.4478\n",
            "Start VALIDATION STEP\n",
            "Accuracy:  0.763671875 ; Precision:  0.0 ; Recall:  0.0 ; F1:  0.0\n",
            "Train step stopped at epoch  34  because the model doesn't improve!\n",
            "The best model and optimizer configuration was achieved at the  1  epoch\n",
            "The best accuracy:  0.234375  best recall:  1.0 best loss:  941.0748291015625\n",
            "Finished Training!\n"
          ]
        },
        {
          "output_type": "stream",
          "name": "stderr",
          "text": [
            "/usr/local/lib/python3.10/dist-packages/sklearn/metrics/_classification.py:1344: UndefinedMetricWarning: Precision is ill-defined and being set to 0.0 due to no predicted samples. Use `zero_division` parameter to control this behavior.\n",
            "  _warn_prf(average, modifier, msg_start, len(result))\n"
          ]
        },
        {
          "output_type": "stream",
          "name": "stdout",
          "text": [
            "Evaluation metrics in TEST set:\n",
            "Accuracy:  0.81640625 ; Precision:  0.0 ; Recall:  0.0 ; F1:  0.0\n",
            "Device prima addestrare il modello:  cuda\n",
            "Il modello si trova sulla GPU.\n",
            "Ottimizzatore NO in GPU\n",
            "START TRAINING STEP\n",
            "Start VALIDATION STEP\n"
          ]
        },
        {
          "output_type": "stream",
          "name": "stderr",
          "text": [
            "/usr/local/lib/python3.10/dist-packages/sklearn/metrics/_classification.py:1344: UndefinedMetricWarning: Precision is ill-defined and being set to 0.0 due to no predicted samples. Use `zero_division` parameter to control this behavior.\n",
            "  _warn_prf(average, modifier, msg_start, len(result))\n"
          ]
        },
        {
          "output_type": "stream",
          "name": "stdout",
          "text": [
            "Accuracy:  0.765625 ; Precision:  0.0 ; Recall:  0.0 ; F1:  0.0\n",
            "Epoch [1] Loss: 4.0199\n",
            "Start VALIDATION STEP\n",
            "Accuracy:  0.76953125 ; Precision:  1.0 ; Recall:  0.016666666666666666 ; F1:  0.03278688524590164\n",
            "Epoch [2] Loss: 93.2686\n",
            "Start VALIDATION STEP\n"
          ]
        },
        {
          "output_type": "stream",
          "name": "stderr",
          "text": [
            "/usr/local/lib/python3.10/dist-packages/sklearn/metrics/_classification.py:1344: UndefinedMetricWarning: Precision is ill-defined and being set to 0.0 due to no predicted samples. Use `zero_division` parameter to control this behavior.\n",
            "  _warn_prf(average, modifier, msg_start, len(result))\n"
          ]
        },
        {
          "output_type": "stream",
          "name": "stdout",
          "text": [
            "Accuracy:  0.765625 ; Precision:  0.0 ; Recall:  0.0 ; F1:  0.0\n",
            "Epoch [3] Loss: 2048.1228\n",
            "Start VALIDATION STEP\n",
            "Accuracy:  0.763671875 ; Precision:  0.0 ; Recall:  0.0 ; F1:  0.0\n",
            "Epoch [4] Loss: 4.3639\n",
            "Start VALIDATION STEP\n",
            "Accuracy:  0.236328125 ; Precision:  0.23483365949119372 ; Recall:  1.0 ; F1:  0.38034865293185416\n",
            "Epoch [5] Loss: 21.0855\n",
            "Start VALIDATION STEP\n",
            "Accuracy:  0.443359375 ; Precision:  0.2727272727272727 ; Recall:  0.825 ; F1:  0.40993788819875776\n",
            "Epoch [6] Loss: 17.7729\n",
            "Start VALIDATION STEP\n",
            "Accuracy:  0.630859375 ; Precision:  0.30726256983240224 ; Recall:  0.4583333333333333 ; F1:  0.3678929765886288\n",
            "Epoch [7] Loss: 10.4165\n",
            "Start VALIDATION STEP\n"
          ]
        },
        {
          "output_type": "stream",
          "name": "stderr",
          "text": [
            "/usr/local/lib/python3.10/dist-packages/sklearn/metrics/_classification.py:1344: UndefinedMetricWarning: Precision is ill-defined and being set to 0.0 due to no predicted samples. Use `zero_division` parameter to control this behavior.\n",
            "  _warn_prf(average, modifier, msg_start, len(result))\n"
          ]
        },
        {
          "output_type": "stream",
          "name": "stdout",
          "text": [
            "Accuracy:  0.765625 ; Precision:  0.0 ; Recall:  0.0 ; F1:  0.0\n",
            "Epoch [8] Loss: 36.6887\n",
            "Start VALIDATION STEP\n",
            "Accuracy:  0.236328125 ; Precision:  0.23483365949119372 ; Recall:  1.0 ; F1:  0.38034865293185416\n",
            "Epoch [9] Loss: 8.5387\n",
            "Start VALIDATION STEP\n",
            "Accuracy:  0.666015625 ; Precision:  0.33112582781456956 ; Recall:  0.4166666666666667 ; F1:  0.3690036900369004\n",
            "Epoch [10] Loss: 6.9981\n",
            "Start VALIDATION STEP\n",
            "Accuracy:  0.23828125 ; Precision:  0.23529411764705882 ; Recall:  1.0 ; F1:  0.38095238095238093\n",
            "Epoch [11] Loss: 21.2304\n",
            "Start VALIDATION STEP\n",
            "Accuracy:  0.76171875 ; Precision:  0.375 ; Recall:  0.025 ; F1:  0.04687500000000001\n",
            "Epoch [12] Loss: 11.4515\n",
            "Start VALIDATION STEP\n",
            "Accuracy:  0.75390625 ; Precision:  0.4166666666666667 ; Recall:  0.125 ; F1:  0.1923076923076923\n",
            "Epoch [13] Loss: 12.3239\n",
            "Start VALIDATION STEP\n",
            "Accuracy:  0.759765625 ; Precision:  0.36363636363636365 ; Recall:  0.03333333333333333 ; F1:  0.061068702290076333\n",
            "Epoch [14] Loss: 6.4266\n",
            "Start VALIDATION STEP\n",
            "Accuracy:  0.677734375 ; Precision:  0.3228346456692913 ; Recall:  0.3416666666666667 ; F1:  0.3319838056680162\n",
            "Epoch [15] Loss: 4.2897\n",
            "Start VALIDATION STEP\n",
            "Accuracy:  0.744140625 ; Precision:  0.4067796610169492 ; Recall:  0.2 ; F1:  0.26815642458100564\n",
            "Epoch [16] Loss: 6.9588\n",
            "Start VALIDATION STEP\n",
            "Accuracy:  0.25 ; Precision:  0.236 ; Recall:  0.9833333333333333 ; F1:  0.3806451612903226\n",
            "Epoch [17] Loss: 4.7308\n",
            "Start VALIDATION STEP\n"
          ]
        },
        {
          "output_type": "stream",
          "name": "stderr",
          "text": [
            "/usr/local/lib/python3.10/dist-packages/sklearn/metrics/_classification.py:1344: UndefinedMetricWarning: Precision is ill-defined and being set to 0.0 due to no predicted samples. Use `zero_division` parameter to control this behavior.\n",
            "  _warn_prf(average, modifier, msg_start, len(result))\n"
          ]
        },
        {
          "output_type": "stream",
          "name": "stdout",
          "text": [
            "Accuracy:  0.765625 ; Precision:  0.0 ; Recall:  0.0 ; F1:  0.0\n",
            "Epoch [18] Loss: 26.9731\n",
            "Start VALIDATION STEP\n",
            "Accuracy:  0.63671875 ; Precision:  0.2708333333333333 ; Recall:  0.325 ; F1:  0.2954545454545454\n",
            "Epoch [19] Loss: 3.3033\n",
            "Start VALIDATION STEP\n",
            "Accuracy:  0.625 ; Precision:  0.2777777777777778 ; Recall:  0.375 ; F1:  0.3191489361702128\n",
            "Epoch [20] Loss: 5.2046\n",
            "Start VALIDATION STEP\n",
            "Accuracy:  0.232421875 ; Precision:  0.2328767123287671 ; Recall:  0.9916666666666667 ; F1:  0.37717908082408874\n",
            "Epoch [21] Loss: 33.8876\n",
            "Start VALIDATION STEP\n",
            "Accuracy:  0.513671875 ; Precision:  0.26199261992619927 ; Recall:  0.5916666666666667 ; F1:  0.36317135549872126\n",
            "Epoch [22] Loss: 5.3323\n",
            "Start VALIDATION STEP\n"
          ]
        },
        {
          "output_type": "stream",
          "name": "stderr",
          "text": [
            "/usr/local/lib/python3.10/dist-packages/sklearn/metrics/_classification.py:1344: UndefinedMetricWarning: Precision is ill-defined and being set to 0.0 due to no predicted samples. Use `zero_division` parameter to control this behavior.\n",
            "  _warn_prf(average, modifier, msg_start, len(result))\n"
          ]
        },
        {
          "output_type": "stream",
          "name": "stdout",
          "text": [
            "Accuracy:  0.765625 ; Precision:  0.0 ; Recall:  0.0 ; F1:  0.0\n",
            "Epoch [23] Loss: 12.7323\n",
            "Start VALIDATION STEP\n"
          ]
        },
        {
          "output_type": "stream",
          "name": "stderr",
          "text": [
            "/usr/local/lib/python3.10/dist-packages/sklearn/metrics/_classification.py:1344: UndefinedMetricWarning: Precision is ill-defined and being set to 0.0 due to no predicted samples. Use `zero_division` parameter to control this behavior.\n",
            "  _warn_prf(average, modifier, msg_start, len(result))\n"
          ]
        },
        {
          "output_type": "stream",
          "name": "stdout",
          "text": [
            "Accuracy:  0.765625 ; Precision:  0.0 ; Recall:  0.0 ; F1:  0.0\n",
            "Epoch [24] Loss: 18.9436\n",
            "Start VALIDATION STEP\n",
            "Accuracy:  0.76171875 ; Precision:  0.375 ; Recall:  0.025 ; F1:  0.04687500000000001\n",
            "Epoch [25] Loss: 5.2305\n",
            "Start VALIDATION STEP\n",
            "Accuracy:  0.728515625 ; Precision:  0.1935483870967742 ; Recall:  0.05 ; F1:  0.07947019867549669\n",
            "Epoch [26] Loss: 1.8507\n",
            "Start VALIDATION STEP\n"
          ]
        },
        {
          "output_type": "stream",
          "name": "stderr",
          "text": [
            "/usr/local/lib/python3.10/dist-packages/sklearn/metrics/_classification.py:1344: UndefinedMetricWarning: Precision is ill-defined and being set to 0.0 due to no predicted samples. Use `zero_division` parameter to control this behavior.\n",
            "  _warn_prf(average, modifier, msg_start, len(result))\n"
          ]
        },
        {
          "output_type": "stream",
          "name": "stdout",
          "text": [
            "Accuracy:  0.765625 ; Precision:  0.0 ; Recall:  0.0 ; F1:  0.0\n",
            "Epoch [27] Loss: 3.8063\n",
            "Start VALIDATION STEP\n",
            "Accuracy:  0.234375 ; Precision:  0.234375 ; Recall:  1.0 ; F1:  0.379746835443038\n",
            "Epoch [28] Loss: 17.9738\n",
            "Start VALIDATION STEP\n"
          ]
        },
        {
          "output_type": "stream",
          "name": "stderr",
          "text": [
            "/usr/local/lib/python3.10/dist-packages/sklearn/metrics/_classification.py:1344: UndefinedMetricWarning: Precision is ill-defined and being set to 0.0 due to no predicted samples. Use `zero_division` parameter to control this behavior.\n",
            "  _warn_prf(average, modifier, msg_start, len(result))\n"
          ]
        },
        {
          "output_type": "stream",
          "name": "stdout",
          "text": [
            "Accuracy:  0.765625 ; Precision:  0.0 ; Recall:  0.0 ; F1:  0.0\n",
            "Epoch [29] Loss: 13.9872\n",
            "Start VALIDATION STEP\n"
          ]
        },
        {
          "output_type": "stream",
          "name": "stderr",
          "text": [
            "/usr/local/lib/python3.10/dist-packages/sklearn/metrics/_classification.py:1344: UndefinedMetricWarning: Precision is ill-defined and being set to 0.0 due to no predicted samples. Use `zero_division` parameter to control this behavior.\n",
            "  _warn_prf(average, modifier, msg_start, len(result))\n"
          ]
        },
        {
          "output_type": "stream",
          "name": "stdout",
          "text": [
            "Accuracy:  0.765625 ; Precision:  0.0 ; Recall:  0.0 ; F1:  0.0\n",
            "Epoch [30] Loss: 7.4407\n",
            "Start VALIDATION STEP\n"
          ]
        },
        {
          "output_type": "stream",
          "name": "stderr",
          "text": [
            "/usr/local/lib/python3.10/dist-packages/sklearn/metrics/_classification.py:1344: UndefinedMetricWarning: Precision is ill-defined and being set to 0.0 due to no predicted samples. Use `zero_division` parameter to control this behavior.\n",
            "  _warn_prf(average, modifier, msg_start, len(result))\n"
          ]
        },
        {
          "output_type": "stream",
          "name": "stdout",
          "text": [
            "Accuracy:  0.765625 ; Precision:  0.0 ; Recall:  0.0 ; F1:  0.0\n",
            "Epoch [31] Loss: 4.7484\n",
            "Start VALIDATION STEP\n"
          ]
        },
        {
          "output_type": "stream",
          "name": "stderr",
          "text": [
            "/usr/local/lib/python3.10/dist-packages/sklearn/metrics/_classification.py:1344: UndefinedMetricWarning: Precision is ill-defined and being set to 0.0 due to no predicted samples. Use `zero_division` parameter to control this behavior.\n",
            "  _warn_prf(average, modifier, msg_start, len(result))\n"
          ]
        },
        {
          "output_type": "stream",
          "name": "stdout",
          "text": [
            "Accuracy:  0.765625 ; Precision:  0.0 ; Recall:  0.0 ; F1:  0.0\n",
            "Epoch [32] Loss: 2.6507\n",
            "Start VALIDATION STEP\n"
          ]
        },
        {
          "output_type": "stream",
          "name": "stderr",
          "text": [
            "/usr/local/lib/python3.10/dist-packages/sklearn/metrics/_classification.py:1344: UndefinedMetricWarning: Precision is ill-defined and being set to 0.0 due to no predicted samples. Use `zero_division` parameter to control this behavior.\n",
            "  _warn_prf(average, modifier, msg_start, len(result))\n"
          ]
        },
        {
          "output_type": "stream",
          "name": "stdout",
          "text": [
            "Accuracy:  0.765625 ; Precision:  0.0 ; Recall:  0.0 ; F1:  0.0\n",
            "Epoch [33] Loss: 1.2220\n",
            "Start VALIDATION STEP\n",
            "Accuracy:  0.751953125 ; Precision:  0.34782608695652173 ; Recall:  0.06666666666666667 ; F1:  0.1118881118881119\n",
            "Epoch [34] Loss: 0.6508\n",
            "Start VALIDATION STEP\n",
            "Accuracy:  0.765625 ; Precision:  0.5 ; Recall:  0.008333333333333333 ; F1:  0.01639344262295082\n",
            "Train step stopped at epoch  35  because the model doesn't improve!\n",
            "The best model and optimizer configuration was achieved at the  2  epoch\n",
            "The best accuracy:  0.76953125  best recall:  0.016666666666666666 best loss:  93.26860046386719\n",
            "Finished Training!\n"
          ]
        },
        {
          "output_type": "stream",
          "name": "stderr",
          "text": [
            "/usr/local/lib/python3.10/dist-packages/sklearn/metrics/_classification.py:1344: UndefinedMetricWarning: Precision is ill-defined and being set to 0.0 due to no predicted samples. Use `zero_division` parameter to control this behavior.\n",
            "  _warn_prf(average, modifier, msg_start, len(result))\n"
          ]
        },
        {
          "output_type": "stream",
          "name": "stdout",
          "text": [
            "Evaluation metrics in TEST set:\n",
            "Accuracy:  0.81640625 ; Precision:  0.0 ; Recall:  0.0 ; F1:  0.0\n",
            "Row not found!\n",
            "Row not found!\n",
            "Device prima addestrare il modello:  cuda\n",
            "Il modello si trova sulla GPU.\n",
            "Ottimizzatore NO in GPU\n",
            "START TRAINING STEP\n",
            "Start VALIDATION STEP\n"
          ]
        },
        {
          "output_type": "stream",
          "name": "stderr",
          "text": [
            "/usr/local/lib/python3.10/dist-packages/sklearn/metrics/_classification.py:1344: UndefinedMetricWarning: Precision is ill-defined and being set to 0.0 due to no predicted samples. Use `zero_division` parameter to control this behavior.\n",
            "  _warn_prf(average, modifier, msg_start, len(result))\n"
          ]
        },
        {
          "output_type": "stream",
          "name": "stdout",
          "text": [
            "Accuracy:  0.765625 ; Precision:  0.0 ; Recall:  0.0 ; F1:  0.0\n",
            "Epoch [1] Loss: 0.6581\n",
            "Start VALIDATION STEP\n"
          ]
        },
        {
          "output_type": "stream",
          "name": "stderr",
          "text": [
            "/usr/local/lib/python3.10/dist-packages/sklearn/metrics/_classification.py:1344: UndefinedMetricWarning: Precision is ill-defined and being set to 0.0 due to no predicted samples. Use `zero_division` parameter to control this behavior.\n",
            "  _warn_prf(average, modifier, msg_start, len(result))\n"
          ]
        },
        {
          "output_type": "stream",
          "name": "stdout",
          "text": [
            "Accuracy:  0.765625 ; Precision:  0.0 ; Recall:  0.0 ; F1:  0.0\n",
            "Epoch [2] Loss: 0.6584\n",
            "Start VALIDATION STEP\n"
          ]
        },
        {
          "output_type": "stream",
          "name": "stderr",
          "text": [
            "/usr/local/lib/python3.10/dist-packages/sklearn/metrics/_classification.py:1344: UndefinedMetricWarning: Precision is ill-defined and being set to 0.0 due to no predicted samples. Use `zero_division` parameter to control this behavior.\n",
            "  _warn_prf(average, modifier, msg_start, len(result))\n"
          ]
        },
        {
          "output_type": "stream",
          "name": "stdout",
          "text": [
            "Accuracy:  0.765625 ; Precision:  0.0 ; Recall:  0.0 ; F1:  0.0\n",
            "Epoch [3] Loss: 0.6551\n",
            "Start VALIDATION STEP\n"
          ]
        },
        {
          "output_type": "stream",
          "name": "stderr",
          "text": [
            "/usr/local/lib/python3.10/dist-packages/sklearn/metrics/_classification.py:1344: UndefinedMetricWarning: Precision is ill-defined and being set to 0.0 due to no predicted samples. Use `zero_division` parameter to control this behavior.\n",
            "  _warn_prf(average, modifier, msg_start, len(result))\n"
          ]
        },
        {
          "output_type": "stream",
          "name": "stdout",
          "text": [
            "Accuracy:  0.765625 ; Precision:  0.0 ; Recall:  0.0 ; F1:  0.0\n",
            "Epoch [4] Loss: 0.5722\n",
            "Start VALIDATION STEP\n"
          ]
        },
        {
          "output_type": "stream",
          "name": "stderr",
          "text": [
            "/usr/local/lib/python3.10/dist-packages/sklearn/metrics/_classification.py:1344: UndefinedMetricWarning: Precision is ill-defined and being set to 0.0 due to no predicted samples. Use `zero_division` parameter to control this behavior.\n",
            "  _warn_prf(average, modifier, msg_start, len(result))\n"
          ]
        },
        {
          "output_type": "stream",
          "name": "stdout",
          "text": [
            "Accuracy:  0.765625 ; Precision:  0.0 ; Recall:  0.0 ; F1:  0.0\n",
            "Epoch [5] Loss: 0.5519\n",
            "Start VALIDATION STEP\n"
          ]
        },
        {
          "output_type": "stream",
          "name": "stderr",
          "text": [
            "/usr/local/lib/python3.10/dist-packages/sklearn/metrics/_classification.py:1344: UndefinedMetricWarning: Precision is ill-defined and being set to 0.0 due to no predicted samples. Use `zero_division` parameter to control this behavior.\n",
            "  _warn_prf(average, modifier, msg_start, len(result))\n"
          ]
        },
        {
          "output_type": "stream",
          "name": "stdout",
          "text": [
            "Accuracy:  0.765625 ; Precision:  0.0 ; Recall:  0.0 ; F1:  0.0\n",
            "Epoch [6] Loss: 0.5592\n",
            "Start VALIDATION STEP\n"
          ]
        },
        {
          "output_type": "stream",
          "name": "stderr",
          "text": [
            "/usr/local/lib/python3.10/dist-packages/sklearn/metrics/_classification.py:1344: UndefinedMetricWarning: Precision is ill-defined and being set to 0.0 due to no predicted samples. Use `zero_division` parameter to control this behavior.\n",
            "  _warn_prf(average, modifier, msg_start, len(result))\n"
          ]
        },
        {
          "output_type": "stream",
          "name": "stdout",
          "text": [
            "Accuracy:  0.765625 ; Precision:  0.0 ; Recall:  0.0 ; F1:  0.0\n",
            "Epoch [7] Loss: 0.6488\n",
            "Start VALIDATION STEP\n"
          ]
        },
        {
          "output_type": "stream",
          "name": "stderr",
          "text": [
            "/usr/local/lib/python3.10/dist-packages/sklearn/metrics/_classification.py:1344: UndefinedMetricWarning: Precision is ill-defined and being set to 0.0 due to no predicted samples. Use `zero_division` parameter to control this behavior.\n",
            "  _warn_prf(average, modifier, msg_start, len(result))\n"
          ]
        },
        {
          "output_type": "stream",
          "name": "stdout",
          "text": [
            "Accuracy:  0.765625 ; Precision:  0.0 ; Recall:  0.0 ; F1:  0.0\n",
            "Epoch [8] Loss: 0.6952\n",
            "Start VALIDATION STEP\n"
          ]
        },
        {
          "output_type": "stream",
          "name": "stderr",
          "text": [
            "/usr/local/lib/python3.10/dist-packages/sklearn/metrics/_classification.py:1344: UndefinedMetricWarning: Precision is ill-defined and being set to 0.0 due to no predicted samples. Use `zero_division` parameter to control this behavior.\n",
            "  _warn_prf(average, modifier, msg_start, len(result))\n"
          ]
        },
        {
          "output_type": "stream",
          "name": "stdout",
          "text": [
            "Accuracy:  0.765625 ; Precision:  0.0 ; Recall:  0.0 ; F1:  0.0\n",
            "Epoch [9] Loss: 0.5916\n",
            "Start VALIDATION STEP\n"
          ]
        },
        {
          "output_type": "stream",
          "name": "stderr",
          "text": [
            "/usr/local/lib/python3.10/dist-packages/sklearn/metrics/_classification.py:1344: UndefinedMetricWarning: Precision is ill-defined and being set to 0.0 due to no predicted samples. Use `zero_division` parameter to control this behavior.\n",
            "  _warn_prf(average, modifier, msg_start, len(result))\n"
          ]
        },
        {
          "output_type": "stream",
          "name": "stdout",
          "text": [
            "Accuracy:  0.765625 ; Precision:  0.0 ; Recall:  0.0 ; F1:  0.0\n",
            "Epoch [10] Loss: 0.6126\n",
            "Start VALIDATION STEP\n"
          ]
        },
        {
          "output_type": "stream",
          "name": "stderr",
          "text": [
            "/usr/local/lib/python3.10/dist-packages/sklearn/metrics/_classification.py:1344: UndefinedMetricWarning: Precision is ill-defined and being set to 0.0 due to no predicted samples. Use `zero_division` parameter to control this behavior.\n",
            "  _warn_prf(average, modifier, msg_start, len(result))\n"
          ]
        },
        {
          "output_type": "stream",
          "name": "stdout",
          "text": [
            "Accuracy:  0.765625 ; Precision:  0.0 ; Recall:  0.0 ; F1:  0.0\n",
            "Epoch [11] Loss: 0.5007\n",
            "Start VALIDATION STEP\n"
          ]
        },
        {
          "output_type": "stream",
          "name": "stderr",
          "text": [
            "/usr/local/lib/python3.10/dist-packages/sklearn/metrics/_classification.py:1344: UndefinedMetricWarning: Precision is ill-defined and being set to 0.0 due to no predicted samples. Use `zero_division` parameter to control this behavior.\n",
            "  _warn_prf(average, modifier, msg_start, len(result))\n"
          ]
        },
        {
          "output_type": "stream",
          "name": "stdout",
          "text": [
            "Accuracy:  0.765625 ; Precision:  0.0 ; Recall:  0.0 ; F1:  0.0\n",
            "Epoch [12] Loss: 0.6137\n",
            "Start VALIDATION STEP\n"
          ]
        },
        {
          "output_type": "stream",
          "name": "stderr",
          "text": [
            "/usr/local/lib/python3.10/dist-packages/sklearn/metrics/_classification.py:1344: UndefinedMetricWarning: Precision is ill-defined and being set to 0.0 due to no predicted samples. Use `zero_division` parameter to control this behavior.\n",
            "  _warn_prf(average, modifier, msg_start, len(result))\n"
          ]
        },
        {
          "output_type": "stream",
          "name": "stdout",
          "text": [
            "Accuracy:  0.765625 ; Precision:  0.0 ; Recall:  0.0 ; F1:  0.0\n",
            "Epoch [13] Loss: 0.5021\n",
            "Start VALIDATION STEP\n"
          ]
        },
        {
          "output_type": "stream",
          "name": "stderr",
          "text": [
            "/usr/local/lib/python3.10/dist-packages/sklearn/metrics/_classification.py:1344: UndefinedMetricWarning: Precision is ill-defined and being set to 0.0 due to no predicted samples. Use `zero_division` parameter to control this behavior.\n",
            "  _warn_prf(average, modifier, msg_start, len(result))\n"
          ]
        },
        {
          "output_type": "stream",
          "name": "stdout",
          "text": [
            "Accuracy:  0.765625 ; Precision:  0.0 ; Recall:  0.0 ; F1:  0.0\n",
            "Epoch [14] Loss: 0.6213\n",
            "Start VALIDATION STEP\n"
          ]
        },
        {
          "output_type": "stream",
          "name": "stderr",
          "text": [
            "/usr/local/lib/python3.10/dist-packages/sklearn/metrics/_classification.py:1344: UndefinedMetricWarning: Precision is ill-defined and being set to 0.0 due to no predicted samples. Use `zero_division` parameter to control this behavior.\n",
            "  _warn_prf(average, modifier, msg_start, len(result))\n"
          ]
        },
        {
          "output_type": "stream",
          "name": "stdout",
          "text": [
            "Accuracy:  0.765625 ; Precision:  0.0 ; Recall:  0.0 ; F1:  0.0\n",
            "Epoch [15] Loss: 0.5118\n",
            "Start VALIDATION STEP\n"
          ]
        },
        {
          "output_type": "stream",
          "name": "stderr",
          "text": [
            "/usr/local/lib/python3.10/dist-packages/sklearn/metrics/_classification.py:1344: UndefinedMetricWarning: Precision is ill-defined and being set to 0.0 due to no predicted samples. Use `zero_division` parameter to control this behavior.\n",
            "  _warn_prf(average, modifier, msg_start, len(result))\n"
          ]
        },
        {
          "output_type": "stream",
          "name": "stdout",
          "text": [
            "Accuracy:  0.765625 ; Precision:  0.0 ; Recall:  0.0 ; F1:  0.0\n",
            "Epoch [16] Loss: 0.5273\n",
            "Start VALIDATION STEP\n"
          ]
        },
        {
          "output_type": "stream",
          "name": "stderr",
          "text": [
            "/usr/local/lib/python3.10/dist-packages/sklearn/metrics/_classification.py:1344: UndefinedMetricWarning: Precision is ill-defined and being set to 0.0 due to no predicted samples. Use `zero_division` parameter to control this behavior.\n",
            "  _warn_prf(average, modifier, msg_start, len(result))\n"
          ]
        },
        {
          "output_type": "stream",
          "name": "stdout",
          "text": [
            "Accuracy:  0.765625 ; Precision:  0.0 ; Recall:  0.0 ; F1:  0.0\n",
            "Epoch [17] Loss: 0.5439\n",
            "Start VALIDATION STEP\n"
          ]
        },
        {
          "output_type": "stream",
          "name": "stderr",
          "text": [
            "/usr/local/lib/python3.10/dist-packages/sklearn/metrics/_classification.py:1344: UndefinedMetricWarning: Precision is ill-defined and being set to 0.0 due to no predicted samples. Use `zero_division` parameter to control this behavior.\n",
            "  _warn_prf(average, modifier, msg_start, len(result))\n"
          ]
        },
        {
          "output_type": "stream",
          "name": "stdout",
          "text": [
            "Accuracy:  0.765625 ; Precision:  0.0 ; Recall:  0.0 ; F1:  0.0\n",
            "Epoch [18] Loss: 0.6354\n",
            "Start VALIDATION STEP\n"
          ]
        },
        {
          "output_type": "stream",
          "name": "stderr",
          "text": [
            "/usr/local/lib/python3.10/dist-packages/sklearn/metrics/_classification.py:1344: UndefinedMetricWarning: Precision is ill-defined and being set to 0.0 due to no predicted samples. Use `zero_division` parameter to control this behavior.\n",
            "  _warn_prf(average, modifier, msg_start, len(result))\n"
          ]
        },
        {
          "output_type": "stream",
          "name": "stdout",
          "text": [
            "Accuracy:  0.765625 ; Precision:  0.0 ; Recall:  0.0 ; F1:  0.0\n",
            "Epoch [19] Loss: 0.5515\n",
            "Start VALIDATION STEP\n"
          ]
        },
        {
          "output_type": "stream",
          "name": "stderr",
          "text": [
            "/usr/local/lib/python3.10/dist-packages/sklearn/metrics/_classification.py:1344: UndefinedMetricWarning: Precision is ill-defined and being set to 0.0 due to no predicted samples. Use `zero_division` parameter to control this behavior.\n",
            "  _warn_prf(average, modifier, msg_start, len(result))\n"
          ]
        },
        {
          "output_type": "stream",
          "name": "stdout",
          "text": [
            "Accuracy:  0.765625 ; Precision:  0.0 ; Recall:  0.0 ; F1:  0.0\n",
            "Epoch [20] Loss: 0.4828\n",
            "Start VALIDATION STEP\n"
          ]
        },
        {
          "output_type": "stream",
          "name": "stderr",
          "text": [
            "/usr/local/lib/python3.10/dist-packages/sklearn/metrics/_classification.py:1344: UndefinedMetricWarning: Precision is ill-defined and being set to 0.0 due to no predicted samples. Use `zero_division` parameter to control this behavior.\n",
            "  _warn_prf(average, modifier, msg_start, len(result))\n"
          ]
        },
        {
          "output_type": "stream",
          "name": "stdout",
          "text": [
            "Accuracy:  0.765625 ; Precision:  0.0 ; Recall:  0.0 ; F1:  0.0\n",
            "Epoch [21] Loss: 0.5708\n",
            "Start VALIDATION STEP\n"
          ]
        },
        {
          "output_type": "stream",
          "name": "stderr",
          "text": [
            "/usr/local/lib/python3.10/dist-packages/sklearn/metrics/_classification.py:1344: UndefinedMetricWarning: Precision is ill-defined and being set to 0.0 due to no predicted samples. Use `zero_division` parameter to control this behavior.\n",
            "  _warn_prf(average, modifier, msg_start, len(result))\n"
          ]
        },
        {
          "output_type": "stream",
          "name": "stdout",
          "text": [
            "Accuracy:  0.765625 ; Precision:  0.0 ; Recall:  0.0 ; F1:  0.0\n",
            "Epoch [22] Loss: 0.5064\n",
            "Start VALIDATION STEP\n"
          ]
        },
        {
          "output_type": "stream",
          "name": "stderr",
          "text": [
            "/usr/local/lib/python3.10/dist-packages/sklearn/metrics/_classification.py:1344: UndefinedMetricWarning: Precision is ill-defined and being set to 0.0 due to no predicted samples. Use `zero_division` parameter to control this behavior.\n",
            "  _warn_prf(average, modifier, msg_start, len(result))\n"
          ]
        },
        {
          "output_type": "stream",
          "name": "stdout",
          "text": [
            "Accuracy:  0.765625 ; Precision:  0.0 ; Recall:  0.0 ; F1:  0.0\n",
            "Epoch [23] Loss: 0.5647\n",
            "Start VALIDATION STEP\n"
          ]
        },
        {
          "output_type": "stream",
          "name": "stderr",
          "text": [
            "/usr/local/lib/python3.10/dist-packages/sklearn/metrics/_classification.py:1344: UndefinedMetricWarning: Precision is ill-defined and being set to 0.0 due to no predicted samples. Use `zero_division` parameter to control this behavior.\n",
            "  _warn_prf(average, modifier, msg_start, len(result))\n"
          ]
        },
        {
          "output_type": "stream",
          "name": "stdout",
          "text": [
            "Accuracy:  0.765625 ; Precision:  0.0 ; Recall:  0.0 ; F1:  0.0\n",
            "Epoch [24] Loss: 0.5788\n",
            "Start VALIDATION STEP\n"
          ]
        },
        {
          "output_type": "stream",
          "name": "stderr",
          "text": [
            "/usr/local/lib/python3.10/dist-packages/sklearn/metrics/_classification.py:1344: UndefinedMetricWarning: Precision is ill-defined and being set to 0.0 due to no predicted samples. Use `zero_division` parameter to control this behavior.\n",
            "  _warn_prf(average, modifier, msg_start, len(result))\n"
          ]
        },
        {
          "output_type": "stream",
          "name": "stdout",
          "text": [
            "Accuracy:  0.765625 ; Precision:  0.0 ; Recall:  0.0 ; F1:  0.0\n",
            "Epoch [25] Loss: 0.6530\n",
            "Start VALIDATION STEP\n"
          ]
        },
        {
          "output_type": "stream",
          "name": "stderr",
          "text": [
            "/usr/local/lib/python3.10/dist-packages/sklearn/metrics/_classification.py:1344: UndefinedMetricWarning: Precision is ill-defined and being set to 0.0 due to no predicted samples. Use `zero_division` parameter to control this behavior.\n",
            "  _warn_prf(average, modifier, msg_start, len(result))\n"
          ]
        },
        {
          "output_type": "stream",
          "name": "stdout",
          "text": [
            "Accuracy:  0.765625 ; Precision:  0.0 ; Recall:  0.0 ; F1:  0.0\n",
            "Epoch [26] Loss: 0.4312\n",
            "Start VALIDATION STEP\n"
          ]
        },
        {
          "output_type": "stream",
          "name": "stderr",
          "text": [
            "/usr/local/lib/python3.10/dist-packages/sklearn/metrics/_classification.py:1344: UndefinedMetricWarning: Precision is ill-defined and being set to 0.0 due to no predicted samples. Use `zero_division` parameter to control this behavior.\n",
            "  _warn_prf(average, modifier, msg_start, len(result))\n"
          ]
        },
        {
          "output_type": "stream",
          "name": "stdout",
          "text": [
            "Accuracy:  0.765625 ; Precision:  0.0 ; Recall:  0.0 ; F1:  0.0\n",
            "Epoch [27] Loss: 0.6373\n",
            "Start VALIDATION STEP\n"
          ]
        },
        {
          "output_type": "stream",
          "name": "stderr",
          "text": [
            "/usr/local/lib/python3.10/dist-packages/sklearn/metrics/_classification.py:1344: UndefinedMetricWarning: Precision is ill-defined and being set to 0.0 due to no predicted samples. Use `zero_division` parameter to control this behavior.\n",
            "  _warn_prf(average, modifier, msg_start, len(result))\n"
          ]
        },
        {
          "output_type": "stream",
          "name": "stdout",
          "text": [
            "Accuracy:  0.765625 ; Precision:  0.0 ; Recall:  0.0 ; F1:  0.0\n",
            "Epoch [28] Loss: 0.5733\n",
            "Start VALIDATION STEP\n"
          ]
        },
        {
          "output_type": "stream",
          "name": "stderr",
          "text": [
            "/usr/local/lib/python3.10/dist-packages/sklearn/metrics/_classification.py:1344: UndefinedMetricWarning: Precision is ill-defined and being set to 0.0 due to no predicted samples. Use `zero_division` parameter to control this behavior.\n",
            "  _warn_prf(average, modifier, msg_start, len(result))\n"
          ]
        },
        {
          "output_type": "stream",
          "name": "stdout",
          "text": [
            "Accuracy:  0.765625 ; Precision:  0.0 ; Recall:  0.0 ; F1:  0.0\n",
            "Epoch [29] Loss: 0.6743\n",
            "Start VALIDATION STEP\n"
          ]
        },
        {
          "output_type": "stream",
          "name": "stderr",
          "text": [
            "/usr/local/lib/python3.10/dist-packages/sklearn/metrics/_classification.py:1344: UndefinedMetricWarning: Precision is ill-defined and being set to 0.0 due to no predicted samples. Use `zero_division` parameter to control this behavior.\n",
            "  _warn_prf(average, modifier, msg_start, len(result))\n"
          ]
        },
        {
          "output_type": "stream",
          "name": "stdout",
          "text": [
            "Accuracy:  0.765625 ; Precision:  0.0 ; Recall:  0.0 ; F1:  0.0\n",
            "Epoch [30] Loss: 0.6464\n",
            "Start VALIDATION STEP\n"
          ]
        },
        {
          "output_type": "stream",
          "name": "stderr",
          "text": [
            "/usr/local/lib/python3.10/dist-packages/sklearn/metrics/_classification.py:1344: UndefinedMetricWarning: Precision is ill-defined and being set to 0.0 due to no predicted samples. Use `zero_division` parameter to control this behavior.\n",
            "  _warn_prf(average, modifier, msg_start, len(result))\n"
          ]
        },
        {
          "output_type": "stream",
          "name": "stdout",
          "text": [
            "Accuracy:  0.765625 ; Precision:  0.0 ; Recall:  0.0 ; F1:  0.0\n",
            "Epoch [31] Loss: 0.6305\n",
            "Start VALIDATION STEP\n"
          ]
        },
        {
          "output_type": "stream",
          "name": "stderr",
          "text": [
            "/usr/local/lib/python3.10/dist-packages/sklearn/metrics/_classification.py:1344: UndefinedMetricWarning: Precision is ill-defined and being set to 0.0 due to no predicted samples. Use `zero_division` parameter to control this behavior.\n",
            "  _warn_prf(average, modifier, msg_start, len(result))\n"
          ]
        },
        {
          "output_type": "stream",
          "name": "stdout",
          "text": [
            "Accuracy:  0.765625 ; Precision:  0.0 ; Recall:  0.0 ; F1:  0.0\n",
            "Epoch [32] Loss: 0.6385\n",
            "Start VALIDATION STEP\n"
          ]
        },
        {
          "output_type": "stream",
          "name": "stderr",
          "text": [
            "/usr/local/lib/python3.10/dist-packages/sklearn/metrics/_classification.py:1344: UndefinedMetricWarning: Precision is ill-defined and being set to 0.0 due to no predicted samples. Use `zero_division` parameter to control this behavior.\n",
            "  _warn_prf(average, modifier, msg_start, len(result))\n"
          ]
        },
        {
          "output_type": "stream",
          "name": "stdout",
          "text": [
            "Accuracy:  0.765625 ; Precision:  0.0 ; Recall:  0.0 ; F1:  0.0\n",
            "Epoch [33] Loss: 0.6543\n",
            "Start VALIDATION STEP\n"
          ]
        },
        {
          "output_type": "stream",
          "name": "stderr",
          "text": [
            "/usr/local/lib/python3.10/dist-packages/sklearn/metrics/_classification.py:1344: UndefinedMetricWarning: Precision is ill-defined and being set to 0.0 due to no predicted samples. Use `zero_division` parameter to control this behavior.\n",
            "  _warn_prf(average, modifier, msg_start, len(result))\n"
          ]
        },
        {
          "output_type": "stream",
          "name": "stdout",
          "text": [
            "Accuracy:  0.765625 ; Precision:  0.0 ; Recall:  0.0 ; F1:  0.0\n",
            "Train step stopped at epoch  34  because the model doesn't improve!\n",
            "The best model and optimizer configuration was achieved at the  1  epoch\n",
            "The best accuracy:  0.765625  best recall:  0 best loss:  0.6581230759620667\n",
            "Finished Training!\n"
          ]
        },
        {
          "output_type": "stream",
          "name": "stderr",
          "text": [
            "/usr/local/lib/python3.10/dist-packages/sklearn/metrics/_classification.py:1344: UndefinedMetricWarning: Precision is ill-defined and being set to 0.0 due to no predicted samples. Use `zero_division` parameter to control this behavior.\n",
            "  _warn_prf(average, modifier, msg_start, len(result))\n"
          ]
        },
        {
          "output_type": "stream",
          "name": "stdout",
          "text": [
            "Evaluation metrics in TEST set:\n",
            "Accuracy:  0.81640625 ; Precision:  0.0 ; Recall:  0.0 ; F1:  0.0\n",
            "Device prima addestrare il modello:  cuda\n",
            "Il modello si trova sulla GPU.\n",
            "Ottimizzatore NO in GPU\n",
            "START TRAINING STEP\n",
            "Start VALIDATION STEP\n"
          ]
        },
        {
          "output_type": "stream",
          "name": "stderr",
          "text": [
            "/usr/local/lib/python3.10/dist-packages/sklearn/metrics/_classification.py:1344: UndefinedMetricWarning: Precision is ill-defined and being set to 0.0 due to no predicted samples. Use `zero_division` parameter to control this behavior.\n",
            "  _warn_prf(average, modifier, msg_start, len(result))\n"
          ]
        },
        {
          "output_type": "stream",
          "name": "stdout",
          "text": [
            "Accuracy:  0.765625 ; Precision:  0.0 ; Recall:  0.0 ; F1:  0.0\n",
            "Epoch [1] Loss: 0.6049\n",
            "Start VALIDATION STEP\n"
          ]
        },
        {
          "output_type": "stream",
          "name": "stderr",
          "text": [
            "/usr/local/lib/python3.10/dist-packages/sklearn/metrics/_classification.py:1344: UndefinedMetricWarning: Precision is ill-defined and being set to 0.0 due to no predicted samples. Use `zero_division` parameter to control this behavior.\n",
            "  _warn_prf(average, modifier, msg_start, len(result))\n"
          ]
        },
        {
          "output_type": "stream",
          "name": "stdout",
          "text": [
            "Accuracy:  0.765625 ; Precision:  0.0 ; Recall:  0.0 ; F1:  0.0\n",
            "Epoch [2] Loss: 0.3373\n",
            "Start VALIDATION STEP\n"
          ]
        },
        {
          "output_type": "stream",
          "name": "stderr",
          "text": [
            "/usr/local/lib/python3.10/dist-packages/sklearn/metrics/_classification.py:1344: UndefinedMetricWarning: Precision is ill-defined and being set to 0.0 due to no predicted samples. Use `zero_division` parameter to control this behavior.\n",
            "  _warn_prf(average, modifier, msg_start, len(result))\n"
          ]
        },
        {
          "output_type": "stream",
          "name": "stdout",
          "text": [
            "Accuracy:  0.765625 ; Precision:  0.0 ; Recall:  0.0 ; F1:  0.0\n",
            "Epoch [3] Loss: 0.5645\n",
            "Start VALIDATION STEP\n"
          ]
        },
        {
          "output_type": "stream",
          "name": "stderr",
          "text": [
            "/usr/local/lib/python3.10/dist-packages/sklearn/metrics/_classification.py:1344: UndefinedMetricWarning: Precision is ill-defined and being set to 0.0 due to no predicted samples. Use `zero_division` parameter to control this behavior.\n",
            "  _warn_prf(average, modifier, msg_start, len(result))\n"
          ]
        },
        {
          "output_type": "stream",
          "name": "stdout",
          "text": [
            "Accuracy:  0.765625 ; Precision:  0.0 ; Recall:  0.0 ; F1:  0.0\n",
            "Epoch [4] Loss: 0.5238\n",
            "Start VALIDATION STEP\n"
          ]
        },
        {
          "output_type": "stream",
          "name": "stderr",
          "text": [
            "/usr/local/lib/python3.10/dist-packages/sklearn/metrics/_classification.py:1344: UndefinedMetricWarning: Precision is ill-defined and being set to 0.0 due to no predicted samples. Use `zero_division` parameter to control this behavior.\n",
            "  _warn_prf(average, modifier, msg_start, len(result))\n"
          ]
        },
        {
          "output_type": "stream",
          "name": "stdout",
          "text": [
            "Accuracy:  0.765625 ; Precision:  0.0 ; Recall:  0.0 ; F1:  0.0\n",
            "Epoch [5] Loss: 0.5310\n",
            "Start VALIDATION STEP\n"
          ]
        },
        {
          "output_type": "stream",
          "name": "stderr",
          "text": [
            "/usr/local/lib/python3.10/dist-packages/sklearn/metrics/_classification.py:1344: UndefinedMetricWarning: Precision is ill-defined and being set to 0.0 due to no predicted samples. Use `zero_division` parameter to control this behavior.\n",
            "  _warn_prf(average, modifier, msg_start, len(result))\n"
          ]
        },
        {
          "output_type": "stream",
          "name": "stdout",
          "text": [
            "Accuracy:  0.765625 ; Precision:  0.0 ; Recall:  0.0 ; F1:  0.0\n",
            "Epoch [6] Loss: 0.5219\n",
            "Start VALIDATION STEP\n"
          ]
        },
        {
          "output_type": "stream",
          "name": "stderr",
          "text": [
            "/usr/local/lib/python3.10/dist-packages/sklearn/metrics/_classification.py:1344: UndefinedMetricWarning: Precision is ill-defined and being set to 0.0 due to no predicted samples. Use `zero_division` parameter to control this behavior.\n",
            "  _warn_prf(average, modifier, msg_start, len(result))\n"
          ]
        },
        {
          "output_type": "stream",
          "name": "stdout",
          "text": [
            "Accuracy:  0.765625 ; Precision:  0.0 ; Recall:  0.0 ; F1:  0.0\n",
            "Epoch [7] Loss: 0.4534\n",
            "Start VALIDATION STEP\n"
          ]
        },
        {
          "output_type": "stream",
          "name": "stderr",
          "text": [
            "/usr/local/lib/python3.10/dist-packages/sklearn/metrics/_classification.py:1344: UndefinedMetricWarning: Precision is ill-defined and being set to 0.0 due to no predicted samples. Use `zero_division` parameter to control this behavior.\n",
            "  _warn_prf(average, modifier, msg_start, len(result))\n"
          ]
        },
        {
          "output_type": "stream",
          "name": "stdout",
          "text": [
            "Accuracy:  0.765625 ; Precision:  0.0 ; Recall:  0.0 ; F1:  0.0\n",
            "Epoch [8] Loss: 0.5662\n",
            "Start VALIDATION STEP\n"
          ]
        },
        {
          "output_type": "stream",
          "name": "stderr",
          "text": [
            "/usr/local/lib/python3.10/dist-packages/sklearn/metrics/_classification.py:1344: UndefinedMetricWarning: Precision is ill-defined and being set to 0.0 due to no predicted samples. Use `zero_division` parameter to control this behavior.\n",
            "  _warn_prf(average, modifier, msg_start, len(result))\n"
          ]
        },
        {
          "output_type": "stream",
          "name": "stdout",
          "text": [
            "Accuracy:  0.765625 ; Precision:  0.0 ; Recall:  0.0 ; F1:  0.0\n",
            "Epoch [9] Loss: 0.5654\n",
            "Start VALIDATION STEP\n"
          ]
        },
        {
          "output_type": "stream",
          "name": "stderr",
          "text": [
            "/usr/local/lib/python3.10/dist-packages/sklearn/metrics/_classification.py:1344: UndefinedMetricWarning: Precision is ill-defined and being set to 0.0 due to no predicted samples. Use `zero_division` parameter to control this behavior.\n",
            "  _warn_prf(average, modifier, msg_start, len(result))\n"
          ]
        },
        {
          "output_type": "stream",
          "name": "stdout",
          "text": [
            "Accuracy:  0.765625 ; Precision:  0.0 ; Recall:  0.0 ; F1:  0.0\n",
            "Epoch [10] Loss: 0.4917\n",
            "Start VALIDATION STEP\n"
          ]
        },
        {
          "output_type": "stream",
          "name": "stderr",
          "text": [
            "/usr/local/lib/python3.10/dist-packages/sklearn/metrics/_classification.py:1344: UndefinedMetricWarning: Precision is ill-defined and being set to 0.0 due to no predicted samples. Use `zero_division` parameter to control this behavior.\n",
            "  _warn_prf(average, modifier, msg_start, len(result))\n"
          ]
        },
        {
          "output_type": "stream",
          "name": "stdout",
          "text": [
            "Accuracy:  0.765625 ; Precision:  0.0 ; Recall:  0.0 ; F1:  0.0\n",
            "Epoch [11] Loss: 0.5306\n",
            "Start VALIDATION STEP\n"
          ]
        },
        {
          "output_type": "stream",
          "name": "stderr",
          "text": [
            "/usr/local/lib/python3.10/dist-packages/sklearn/metrics/_classification.py:1344: UndefinedMetricWarning: Precision is ill-defined and being set to 0.0 due to no predicted samples. Use `zero_division` parameter to control this behavior.\n",
            "  _warn_prf(average, modifier, msg_start, len(result))\n"
          ]
        },
        {
          "output_type": "stream",
          "name": "stdout",
          "text": [
            "Accuracy:  0.765625 ; Precision:  0.0 ; Recall:  0.0 ; F1:  0.0\n",
            "Epoch [12] Loss: 0.6485\n",
            "Start VALIDATION STEP\n"
          ]
        },
        {
          "output_type": "stream",
          "name": "stderr",
          "text": [
            "/usr/local/lib/python3.10/dist-packages/sklearn/metrics/_classification.py:1344: UndefinedMetricWarning: Precision is ill-defined and being set to 0.0 due to no predicted samples. Use `zero_division` parameter to control this behavior.\n",
            "  _warn_prf(average, modifier, msg_start, len(result))\n"
          ]
        },
        {
          "output_type": "stream",
          "name": "stdout",
          "text": [
            "Accuracy:  0.765625 ; Precision:  0.0 ; Recall:  0.0 ; F1:  0.0\n",
            "Epoch [13] Loss: 0.6001\n",
            "Start VALIDATION STEP\n"
          ]
        },
        {
          "output_type": "stream",
          "name": "stderr",
          "text": [
            "/usr/local/lib/python3.10/dist-packages/sklearn/metrics/_classification.py:1344: UndefinedMetricWarning: Precision is ill-defined and being set to 0.0 due to no predicted samples. Use `zero_division` parameter to control this behavior.\n",
            "  _warn_prf(average, modifier, msg_start, len(result))\n"
          ]
        },
        {
          "output_type": "stream",
          "name": "stdout",
          "text": [
            "Accuracy:  0.765625 ; Precision:  0.0 ; Recall:  0.0 ; F1:  0.0\n",
            "Epoch [14] Loss: 0.4794\n",
            "Start VALIDATION STEP\n"
          ]
        },
        {
          "output_type": "stream",
          "name": "stderr",
          "text": [
            "/usr/local/lib/python3.10/dist-packages/sklearn/metrics/_classification.py:1344: UndefinedMetricWarning: Precision is ill-defined and being set to 0.0 due to no predicted samples. Use `zero_division` parameter to control this behavior.\n",
            "  _warn_prf(average, modifier, msg_start, len(result))\n"
          ]
        },
        {
          "output_type": "stream",
          "name": "stdout",
          "text": [
            "Accuracy:  0.765625 ; Precision:  0.0 ; Recall:  0.0 ; F1:  0.0\n",
            "Epoch [15] Loss: 0.5507\n",
            "Start VALIDATION STEP\n"
          ]
        },
        {
          "output_type": "stream",
          "name": "stderr",
          "text": [
            "/usr/local/lib/python3.10/dist-packages/sklearn/metrics/_classification.py:1344: UndefinedMetricWarning: Precision is ill-defined and being set to 0.0 due to no predicted samples. Use `zero_division` parameter to control this behavior.\n",
            "  _warn_prf(average, modifier, msg_start, len(result))\n"
          ]
        },
        {
          "output_type": "stream",
          "name": "stdout",
          "text": [
            "Accuracy:  0.765625 ; Precision:  0.0 ; Recall:  0.0 ; F1:  0.0\n",
            "Epoch [16] Loss: 0.5085\n",
            "Start VALIDATION STEP\n"
          ]
        },
        {
          "output_type": "stream",
          "name": "stderr",
          "text": [
            "/usr/local/lib/python3.10/dist-packages/sklearn/metrics/_classification.py:1344: UndefinedMetricWarning: Precision is ill-defined and being set to 0.0 due to no predicted samples. Use `zero_division` parameter to control this behavior.\n",
            "  _warn_prf(average, modifier, msg_start, len(result))\n"
          ]
        },
        {
          "output_type": "stream",
          "name": "stdout",
          "text": [
            "Accuracy:  0.765625 ; Precision:  0.0 ; Recall:  0.0 ; F1:  0.0\n",
            "Epoch [17] Loss: 0.7050\n",
            "Start VALIDATION STEP\n"
          ]
        },
        {
          "output_type": "stream",
          "name": "stderr",
          "text": [
            "/usr/local/lib/python3.10/dist-packages/sklearn/metrics/_classification.py:1344: UndefinedMetricWarning: Precision is ill-defined and being set to 0.0 due to no predicted samples. Use `zero_division` parameter to control this behavior.\n",
            "  _warn_prf(average, modifier, msg_start, len(result))\n"
          ]
        },
        {
          "output_type": "stream",
          "name": "stdout",
          "text": [
            "Accuracy:  0.765625 ; Precision:  0.0 ; Recall:  0.0 ; F1:  0.0\n",
            "Epoch [18] Loss: 0.6135\n",
            "Start VALIDATION STEP\n"
          ]
        },
        {
          "output_type": "stream",
          "name": "stderr",
          "text": [
            "/usr/local/lib/python3.10/dist-packages/sklearn/metrics/_classification.py:1344: UndefinedMetricWarning: Precision is ill-defined and being set to 0.0 due to no predicted samples. Use `zero_division` parameter to control this behavior.\n",
            "  _warn_prf(average, modifier, msg_start, len(result))\n"
          ]
        },
        {
          "output_type": "stream",
          "name": "stdout",
          "text": [
            "Accuracy:  0.765625 ; Precision:  0.0 ; Recall:  0.0 ; F1:  0.0\n",
            "Epoch [19] Loss: 0.5023\n",
            "Start VALIDATION STEP\n"
          ]
        },
        {
          "output_type": "stream",
          "name": "stderr",
          "text": [
            "/usr/local/lib/python3.10/dist-packages/sklearn/metrics/_classification.py:1344: UndefinedMetricWarning: Precision is ill-defined and being set to 0.0 due to no predicted samples. Use `zero_division` parameter to control this behavior.\n",
            "  _warn_prf(average, modifier, msg_start, len(result))\n"
          ]
        },
        {
          "output_type": "stream",
          "name": "stdout",
          "text": [
            "Accuracy:  0.765625 ; Precision:  0.0 ; Recall:  0.0 ; F1:  0.0\n",
            "Epoch [20] Loss: 0.5495\n",
            "Start VALIDATION STEP\n"
          ]
        },
        {
          "output_type": "stream",
          "name": "stderr",
          "text": [
            "/usr/local/lib/python3.10/dist-packages/sklearn/metrics/_classification.py:1344: UndefinedMetricWarning: Precision is ill-defined and being set to 0.0 due to no predicted samples. Use `zero_division` parameter to control this behavior.\n",
            "  _warn_prf(average, modifier, msg_start, len(result))\n"
          ]
        },
        {
          "output_type": "stream",
          "name": "stdout",
          "text": [
            "Accuracy:  0.765625 ; Precision:  0.0 ; Recall:  0.0 ; F1:  0.0\n",
            "Epoch [21] Loss: 0.5220\n",
            "Start VALIDATION STEP\n"
          ]
        },
        {
          "output_type": "stream",
          "name": "stderr",
          "text": [
            "/usr/local/lib/python3.10/dist-packages/sklearn/metrics/_classification.py:1344: UndefinedMetricWarning: Precision is ill-defined and being set to 0.0 due to no predicted samples. Use `zero_division` parameter to control this behavior.\n",
            "  _warn_prf(average, modifier, msg_start, len(result))\n"
          ]
        },
        {
          "output_type": "stream",
          "name": "stdout",
          "text": [
            "Accuracy:  0.765625 ; Precision:  0.0 ; Recall:  0.0 ; F1:  0.0\n",
            "Epoch [22] Loss: 0.4636\n",
            "Start VALIDATION STEP\n"
          ]
        },
        {
          "output_type": "stream",
          "name": "stderr",
          "text": [
            "/usr/local/lib/python3.10/dist-packages/sklearn/metrics/_classification.py:1344: UndefinedMetricWarning: Precision is ill-defined and being set to 0.0 due to no predicted samples. Use `zero_division` parameter to control this behavior.\n",
            "  _warn_prf(average, modifier, msg_start, len(result))\n"
          ]
        },
        {
          "output_type": "stream",
          "name": "stdout",
          "text": [
            "Accuracy:  0.765625 ; Precision:  0.0 ; Recall:  0.0 ; F1:  0.0\n",
            "Epoch [23] Loss: 0.5457\n",
            "Start VALIDATION STEP\n"
          ]
        },
        {
          "output_type": "stream",
          "name": "stderr",
          "text": [
            "/usr/local/lib/python3.10/dist-packages/sklearn/metrics/_classification.py:1344: UndefinedMetricWarning: Precision is ill-defined and being set to 0.0 due to no predicted samples. Use `zero_division` parameter to control this behavior.\n",
            "  _warn_prf(average, modifier, msg_start, len(result))\n"
          ]
        },
        {
          "output_type": "stream",
          "name": "stdout",
          "text": [
            "Accuracy:  0.765625 ; Precision:  0.0 ; Recall:  0.0 ; F1:  0.0\n",
            "Epoch [24] Loss: 0.7228\n",
            "Start VALIDATION STEP\n"
          ]
        },
        {
          "output_type": "stream",
          "name": "stderr",
          "text": [
            "/usr/local/lib/python3.10/dist-packages/sklearn/metrics/_classification.py:1344: UndefinedMetricWarning: Precision is ill-defined and being set to 0.0 due to no predicted samples. Use `zero_division` parameter to control this behavior.\n",
            "  _warn_prf(average, modifier, msg_start, len(result))\n"
          ]
        },
        {
          "output_type": "stream",
          "name": "stdout",
          "text": [
            "Accuracy:  0.765625 ; Precision:  0.0 ; Recall:  0.0 ; F1:  0.0\n",
            "Epoch [25] Loss: 0.4756\n",
            "Start VALIDATION STEP\n"
          ]
        },
        {
          "output_type": "stream",
          "name": "stderr",
          "text": [
            "/usr/local/lib/python3.10/dist-packages/sklearn/metrics/_classification.py:1344: UndefinedMetricWarning: Precision is ill-defined and being set to 0.0 due to no predicted samples. Use `zero_division` parameter to control this behavior.\n",
            "  _warn_prf(average, modifier, msg_start, len(result))\n"
          ]
        },
        {
          "output_type": "stream",
          "name": "stdout",
          "text": [
            "Accuracy:  0.765625 ; Precision:  0.0 ; Recall:  0.0 ; F1:  0.0\n",
            "Epoch [26] Loss: 0.5183\n",
            "Start VALIDATION STEP\n"
          ]
        },
        {
          "output_type": "stream",
          "name": "stderr",
          "text": [
            "/usr/local/lib/python3.10/dist-packages/sklearn/metrics/_classification.py:1344: UndefinedMetricWarning: Precision is ill-defined and being set to 0.0 due to no predicted samples. Use `zero_division` parameter to control this behavior.\n",
            "  _warn_prf(average, modifier, msg_start, len(result))\n"
          ]
        },
        {
          "output_type": "stream",
          "name": "stdout",
          "text": [
            "Accuracy:  0.765625 ; Precision:  0.0 ; Recall:  0.0 ; F1:  0.0\n",
            "Epoch [27] Loss: 0.7039\n",
            "Start VALIDATION STEP\n"
          ]
        },
        {
          "output_type": "stream",
          "name": "stderr",
          "text": [
            "/usr/local/lib/python3.10/dist-packages/sklearn/metrics/_classification.py:1344: UndefinedMetricWarning: Precision is ill-defined and being set to 0.0 due to no predicted samples. Use `zero_division` parameter to control this behavior.\n",
            "  _warn_prf(average, modifier, msg_start, len(result))\n"
          ]
        },
        {
          "output_type": "stream",
          "name": "stdout",
          "text": [
            "Accuracy:  0.765625 ; Precision:  0.0 ; Recall:  0.0 ; F1:  0.0\n",
            "Epoch [28] Loss: 0.4829\n",
            "Start VALIDATION STEP\n"
          ]
        },
        {
          "output_type": "stream",
          "name": "stderr",
          "text": [
            "/usr/local/lib/python3.10/dist-packages/sklearn/metrics/_classification.py:1344: UndefinedMetricWarning: Precision is ill-defined and being set to 0.0 due to no predicted samples. Use `zero_division` parameter to control this behavior.\n",
            "  _warn_prf(average, modifier, msg_start, len(result))\n"
          ]
        },
        {
          "output_type": "stream",
          "name": "stdout",
          "text": [
            "Accuracy:  0.765625 ; Precision:  0.0 ; Recall:  0.0 ; F1:  0.0\n",
            "Epoch [29] Loss: 0.4803\n",
            "Start VALIDATION STEP\n"
          ]
        },
        {
          "output_type": "stream",
          "name": "stderr",
          "text": [
            "/usr/local/lib/python3.10/dist-packages/sklearn/metrics/_classification.py:1344: UndefinedMetricWarning: Precision is ill-defined and being set to 0.0 due to no predicted samples. Use `zero_division` parameter to control this behavior.\n",
            "  _warn_prf(average, modifier, msg_start, len(result))\n"
          ]
        },
        {
          "output_type": "stream",
          "name": "stdout",
          "text": [
            "Accuracy:  0.765625 ; Precision:  0.0 ; Recall:  0.0 ; F1:  0.0\n",
            "Epoch [30] Loss: 0.5822\n",
            "Start VALIDATION STEP\n"
          ]
        },
        {
          "output_type": "stream",
          "name": "stderr",
          "text": [
            "/usr/local/lib/python3.10/dist-packages/sklearn/metrics/_classification.py:1344: UndefinedMetricWarning: Precision is ill-defined and being set to 0.0 due to no predicted samples. Use `zero_division` parameter to control this behavior.\n",
            "  _warn_prf(average, modifier, msg_start, len(result))\n"
          ]
        },
        {
          "output_type": "stream",
          "name": "stdout",
          "text": [
            "Accuracy:  0.765625 ; Precision:  0.0 ; Recall:  0.0 ; F1:  0.0\n",
            "Epoch [31] Loss: 0.5491\n",
            "Start VALIDATION STEP\n"
          ]
        },
        {
          "output_type": "stream",
          "name": "stderr",
          "text": [
            "/usr/local/lib/python3.10/dist-packages/sklearn/metrics/_classification.py:1344: UndefinedMetricWarning: Precision is ill-defined and being set to 0.0 due to no predicted samples. Use `zero_division` parameter to control this behavior.\n",
            "  _warn_prf(average, modifier, msg_start, len(result))\n"
          ]
        },
        {
          "output_type": "stream",
          "name": "stdout",
          "text": [
            "Accuracy:  0.765625 ; Precision:  0.0 ; Recall:  0.0 ; F1:  0.0\n",
            "Epoch [32] Loss: 0.6204\n",
            "Start VALIDATION STEP\n"
          ]
        },
        {
          "output_type": "stream",
          "name": "stderr",
          "text": [
            "/usr/local/lib/python3.10/dist-packages/sklearn/metrics/_classification.py:1344: UndefinedMetricWarning: Precision is ill-defined and being set to 0.0 due to no predicted samples. Use `zero_division` parameter to control this behavior.\n",
            "  _warn_prf(average, modifier, msg_start, len(result))\n"
          ]
        },
        {
          "output_type": "stream",
          "name": "stdout",
          "text": [
            "Accuracy:  0.765625 ; Precision:  0.0 ; Recall:  0.0 ; F1:  0.0\n",
            "Epoch [33] Loss: 0.5165\n",
            "Start VALIDATION STEP\n"
          ]
        },
        {
          "output_type": "stream",
          "name": "stderr",
          "text": [
            "/usr/local/lib/python3.10/dist-packages/sklearn/metrics/_classification.py:1344: UndefinedMetricWarning: Precision is ill-defined and being set to 0.0 due to no predicted samples. Use `zero_division` parameter to control this behavior.\n",
            "  _warn_prf(average, modifier, msg_start, len(result))\n"
          ]
        },
        {
          "output_type": "stream",
          "name": "stdout",
          "text": [
            "Accuracy:  0.765625 ; Precision:  0.0 ; Recall:  0.0 ; F1:  0.0\n",
            "Epoch [34] Loss: 0.5230\n",
            "Start VALIDATION STEP\n"
          ]
        },
        {
          "output_type": "stream",
          "name": "stderr",
          "text": [
            "/usr/local/lib/python3.10/dist-packages/sklearn/metrics/_classification.py:1344: UndefinedMetricWarning: Precision is ill-defined and being set to 0.0 due to no predicted samples. Use `zero_division` parameter to control this behavior.\n",
            "  _warn_prf(average, modifier, msg_start, len(result))\n"
          ]
        },
        {
          "output_type": "stream",
          "name": "stdout",
          "text": [
            "Accuracy:  0.765625 ; Precision:  0.0 ; Recall:  0.0 ; F1:  0.0\n",
            "Epoch [35] Loss: 0.5526\n",
            "Start VALIDATION STEP\n"
          ]
        },
        {
          "output_type": "stream",
          "name": "stderr",
          "text": [
            "/usr/local/lib/python3.10/dist-packages/sklearn/metrics/_classification.py:1344: UndefinedMetricWarning: Precision is ill-defined and being set to 0.0 due to no predicted samples. Use `zero_division` parameter to control this behavior.\n",
            "  _warn_prf(average, modifier, msg_start, len(result))\n"
          ]
        },
        {
          "output_type": "stream",
          "name": "stdout",
          "text": [
            "Accuracy:  0.765625 ; Precision:  0.0 ; Recall:  0.0 ; F1:  0.0\n",
            "Epoch [36] Loss: 0.4987\n",
            "Start VALIDATION STEP\n"
          ]
        },
        {
          "output_type": "stream",
          "name": "stderr",
          "text": [
            "/usr/local/lib/python3.10/dist-packages/sklearn/metrics/_classification.py:1344: UndefinedMetricWarning: Precision is ill-defined and being set to 0.0 due to no predicted samples. Use `zero_division` parameter to control this behavior.\n",
            "  _warn_prf(average, modifier, msg_start, len(result))\n"
          ]
        },
        {
          "output_type": "stream",
          "name": "stdout",
          "text": [
            "Accuracy:  0.765625 ; Precision:  0.0 ; Recall:  0.0 ; F1:  0.0\n",
            "Epoch [37] Loss: 0.4806\n",
            "Start VALIDATION STEP\n"
          ]
        },
        {
          "output_type": "stream",
          "name": "stderr",
          "text": [
            "/usr/local/lib/python3.10/dist-packages/sklearn/metrics/_classification.py:1344: UndefinedMetricWarning: Precision is ill-defined and being set to 0.0 due to no predicted samples. Use `zero_division` parameter to control this behavior.\n",
            "  _warn_prf(average, modifier, msg_start, len(result))\n"
          ]
        },
        {
          "output_type": "stream",
          "name": "stdout",
          "text": [
            "Accuracy:  0.765625 ; Precision:  0.0 ; Recall:  0.0 ; F1:  0.0\n",
            "Epoch [38] Loss: 0.5844\n",
            "Start VALIDATION STEP\n"
          ]
        },
        {
          "output_type": "stream",
          "name": "stderr",
          "text": [
            "/usr/local/lib/python3.10/dist-packages/sklearn/metrics/_classification.py:1344: UndefinedMetricWarning: Precision is ill-defined and being set to 0.0 due to no predicted samples. Use `zero_division` parameter to control this behavior.\n",
            "  _warn_prf(average, modifier, msg_start, len(result))\n"
          ]
        },
        {
          "output_type": "stream",
          "name": "stdout",
          "text": [
            "Accuracy:  0.765625 ; Precision:  0.0 ; Recall:  0.0 ; F1:  0.0\n",
            "Epoch [39] Loss: 0.5033\n",
            "Start VALIDATION STEP\n"
          ]
        },
        {
          "output_type": "stream",
          "name": "stderr",
          "text": [
            "/usr/local/lib/python3.10/dist-packages/sklearn/metrics/_classification.py:1344: UndefinedMetricWarning: Precision is ill-defined and being set to 0.0 due to no predicted samples. Use `zero_division` parameter to control this behavior.\n",
            "  _warn_prf(average, modifier, msg_start, len(result))\n"
          ]
        },
        {
          "output_type": "stream",
          "name": "stdout",
          "text": [
            "Accuracy:  0.765625 ; Precision:  0.0 ; Recall:  0.0 ; F1:  0.0\n",
            "Epoch [40] Loss: 0.4843\n",
            "Start VALIDATION STEP\n"
          ]
        },
        {
          "output_type": "stream",
          "name": "stderr",
          "text": [
            "/usr/local/lib/python3.10/dist-packages/sklearn/metrics/_classification.py:1344: UndefinedMetricWarning: Precision is ill-defined and being set to 0.0 due to no predicted samples. Use `zero_division` parameter to control this behavior.\n",
            "  _warn_prf(average, modifier, msg_start, len(result))\n"
          ]
        },
        {
          "output_type": "stream",
          "name": "stdout",
          "text": [
            "Accuracy:  0.765625 ; Precision:  0.0 ; Recall:  0.0 ; F1:  0.0\n",
            "Epoch [41] Loss: 0.5212\n",
            "Start VALIDATION STEP\n"
          ]
        },
        {
          "output_type": "stream",
          "name": "stderr",
          "text": [
            "/usr/local/lib/python3.10/dist-packages/sklearn/metrics/_classification.py:1344: UndefinedMetricWarning: Precision is ill-defined and being set to 0.0 due to no predicted samples. Use `zero_division` parameter to control this behavior.\n",
            "  _warn_prf(average, modifier, msg_start, len(result))\n"
          ]
        },
        {
          "output_type": "stream",
          "name": "stdout",
          "text": [
            "Accuracy:  0.765625 ; Precision:  0.0 ; Recall:  0.0 ; F1:  0.0\n",
            "Epoch [42] Loss: 0.6467\n",
            "Start VALIDATION STEP\n"
          ]
        },
        {
          "output_type": "stream",
          "name": "stderr",
          "text": [
            "/usr/local/lib/python3.10/dist-packages/sklearn/metrics/_classification.py:1344: UndefinedMetricWarning: Precision is ill-defined and being set to 0.0 due to no predicted samples. Use `zero_division` parameter to control this behavior.\n",
            "  _warn_prf(average, modifier, msg_start, len(result))\n"
          ]
        },
        {
          "output_type": "stream",
          "name": "stdout",
          "text": [
            "Accuracy:  0.765625 ; Precision:  0.0 ; Recall:  0.0 ; F1:  0.0\n",
            "Epoch [43] Loss: 0.4914\n",
            "Start VALIDATION STEP\n"
          ]
        },
        {
          "output_type": "stream",
          "name": "stderr",
          "text": [
            "/usr/local/lib/python3.10/dist-packages/sklearn/metrics/_classification.py:1344: UndefinedMetricWarning: Precision is ill-defined and being set to 0.0 due to no predicted samples. Use `zero_division` parameter to control this behavior.\n",
            "  _warn_prf(average, modifier, msg_start, len(result))\n"
          ]
        },
        {
          "output_type": "stream",
          "name": "stdout",
          "text": [
            "Accuracy:  0.765625 ; Precision:  0.0 ; Recall:  0.0 ; F1:  0.0\n",
            "Epoch [44] Loss: 0.5789\n",
            "Start VALIDATION STEP\n"
          ]
        },
        {
          "output_type": "stream",
          "name": "stderr",
          "text": [
            "/usr/local/lib/python3.10/dist-packages/sklearn/metrics/_classification.py:1344: UndefinedMetricWarning: Precision is ill-defined and being set to 0.0 due to no predicted samples. Use `zero_division` parameter to control this behavior.\n",
            "  _warn_prf(average, modifier, msg_start, len(result))\n"
          ]
        },
        {
          "output_type": "stream",
          "name": "stdout",
          "text": [
            "Accuracy:  0.765625 ; Precision:  0.0 ; Recall:  0.0 ; F1:  0.0\n",
            "Epoch [45] Loss: 0.6515\n",
            "Start VALIDATION STEP\n"
          ]
        },
        {
          "output_type": "stream",
          "name": "stderr",
          "text": [
            "/usr/local/lib/python3.10/dist-packages/sklearn/metrics/_classification.py:1344: UndefinedMetricWarning: Precision is ill-defined and being set to 0.0 due to no predicted samples. Use `zero_division` parameter to control this behavior.\n",
            "  _warn_prf(average, modifier, msg_start, len(result))\n"
          ]
        },
        {
          "output_type": "stream",
          "name": "stdout",
          "text": [
            "Accuracy:  0.765625 ; Precision:  0.0 ; Recall:  0.0 ; F1:  0.0\n",
            "Epoch [46] Loss: 0.4940\n",
            "Start VALIDATION STEP\n"
          ]
        },
        {
          "output_type": "stream",
          "name": "stderr",
          "text": [
            "/usr/local/lib/python3.10/dist-packages/sklearn/metrics/_classification.py:1344: UndefinedMetricWarning: Precision is ill-defined and being set to 0.0 due to no predicted samples. Use `zero_division` parameter to control this behavior.\n",
            "  _warn_prf(average, modifier, msg_start, len(result))\n"
          ]
        },
        {
          "output_type": "stream",
          "name": "stdout",
          "text": [
            "Accuracy:  0.765625 ; Precision:  0.0 ; Recall:  0.0 ; F1:  0.0\n",
            "Epoch [47] Loss: 0.5567\n",
            "Start VALIDATION STEP\n"
          ]
        },
        {
          "output_type": "stream",
          "name": "stderr",
          "text": [
            "/usr/local/lib/python3.10/dist-packages/sklearn/metrics/_classification.py:1344: UndefinedMetricWarning: Precision is ill-defined and being set to 0.0 due to no predicted samples. Use `zero_division` parameter to control this behavior.\n",
            "  _warn_prf(average, modifier, msg_start, len(result))\n"
          ]
        },
        {
          "output_type": "stream",
          "name": "stdout",
          "text": [
            "Accuracy:  0.765625 ; Precision:  0.0 ; Recall:  0.0 ; F1:  0.0\n",
            "Epoch [48] Loss: 0.6852\n",
            "Start VALIDATION STEP\n"
          ]
        },
        {
          "output_type": "stream",
          "name": "stderr",
          "text": [
            "/usr/local/lib/python3.10/dist-packages/sklearn/metrics/_classification.py:1344: UndefinedMetricWarning: Precision is ill-defined and being set to 0.0 due to no predicted samples. Use `zero_division` parameter to control this behavior.\n",
            "  _warn_prf(average, modifier, msg_start, len(result))\n"
          ]
        },
        {
          "output_type": "stream",
          "name": "stdout",
          "text": [
            "Accuracy:  0.765625 ; Precision:  0.0 ; Recall:  0.0 ; F1:  0.0\n",
            "Epoch [49] Loss: 0.4818\n",
            "Start VALIDATION STEP\n"
          ]
        },
        {
          "output_type": "stream",
          "name": "stderr",
          "text": [
            "/usr/local/lib/python3.10/dist-packages/sklearn/metrics/_classification.py:1344: UndefinedMetricWarning: Precision is ill-defined and being set to 0.0 due to no predicted samples. Use `zero_division` parameter to control this behavior.\n",
            "  _warn_prf(average, modifier, msg_start, len(result))\n"
          ]
        },
        {
          "output_type": "stream",
          "name": "stdout",
          "text": [
            "Accuracy:  0.765625 ; Precision:  0.0 ; Recall:  0.0 ; F1:  0.0\n",
            "Train step stopped at epoch  50  because the model doesn't improve!\n",
            "The best model and optimizer configuration was achieved at the  1  epoch\n",
            "The best accuracy:  0.765625  best recall:  0 best loss:  0.6048671007156372\n",
            "Finished Training!\n"
          ]
        },
        {
          "output_type": "stream",
          "name": "stderr",
          "text": [
            "/usr/local/lib/python3.10/dist-packages/sklearn/metrics/_classification.py:1344: UndefinedMetricWarning: Precision is ill-defined and being set to 0.0 due to no predicted samples. Use `zero_division` parameter to control this behavior.\n",
            "  _warn_prf(average, modifier, msg_start, len(result))\n"
          ]
        },
        {
          "output_type": "stream",
          "name": "stdout",
          "text": [
            "Evaluation metrics in TEST set:\n",
            "Accuracy:  0.81640625 ; Precision:  0.0 ; Recall:  0.0 ; F1:  0.0\n"
          ]
        },
        {
          "output_type": "stream",
          "name": "stderr",
          "text": [
            "invalid literal for int() with base 10: '1.0'\n",
            "Traceback (most recent call last):\n",
            "  File \"/usr/local/lib/python3.10/dist-packages/pygad/pygad.py\", line 1669, in cal_pop_fitness\n",
            "    fitness = self.fitness_func(self, sol, sol_idx)\n",
            "  File \"<ipython-input-3-d9164465bdad>\", line 23, in fitness_function_calculator\n",
            "    row_app = [float(row[0]),int(row[1]),int(row[2]),int(row[3]),float(row[4])] #Convert the values in the correct format\n",
            "ValueError: invalid literal for int() with base 10: '1.0'\n",
            "ERROR:pygad.pygad:invalid literal for int() with base 10: '1.0'\n",
            "Traceback (most recent call last):\n",
            "  File \"/usr/local/lib/python3.10/dist-packages/pygad/pygad.py\", line 1669, in cal_pop_fitness\n",
            "    fitness = self.fitness_func(self, sol, sol_idx)\n",
            "  File \"<ipython-input-3-d9164465bdad>\", line 23, in fitness_function_calculator\n",
            "    row_app = [float(row[0]),int(row[1]),int(row[2]),int(row[3]),float(row[4])] #Convert the values in the correct format\n",
            "ValueError: invalid literal for int() with base 10: '1.0'\n",
            "ERROR:root:Internal Python error in the inspect module.\n",
            "Below is the traceback from this internal error.\n",
            "\n"
          ]
        },
        {
          "output_type": "stream",
          "name": "stdout",
          "text": [
            "Traceback (most recent call last):\n",
            "  File \"/usr/local/lib/python3.10/dist-packages/pygad/pygad.py\", line 1669, in cal_pop_fitness\n",
            "    fitness = self.fitness_func(self, sol, sol_idx)\n",
            "  File \"<ipython-input-3-d9164465bdad>\", line 23, in fitness_function_calculator\n",
            "    row_app = [float(row[0]),int(row[1]),int(row[2]),int(row[3]),float(row[4])] #Convert the values in the correct format\n",
            "ValueError: invalid literal for int() with base 10: '1.0'\n",
            "\n",
            "During handling of the above exception, another exception occurred:\n",
            "\n",
            "Traceback (most recent call last):\n",
            "  File \"/usr/local/lib/python3.10/dist-packages/IPython/core/interactiveshell.py\", line 3553, in run_code\n",
            "    exec(code_obj, self.user_global_ns, self.user_ns)\n",
            "  File \"<ipython-input-7-1020420dc18a>\", line 37, in <cell line: 37>\n",
            "    ga_instance.run()\n",
            "  File \"/usr/local/lib/python3.10/dist-packages/pygad/pygad.py\", line 2073, in run\n",
            "    self.last_generation_fitness = self.cal_pop_fitness()\n",
            "  File \"/usr/local/lib/python3.10/dist-packages/pygad/pygad.py\", line 1805, in cal_pop_fitness\n",
            "    sys.exit(-1)\n",
            "SystemExit: -1\n",
            "\n",
            "During handling of the above exception, another exception occurred:\n",
            "\n",
            "Traceback (most recent call last):\n",
            "  File \"/usr/local/lib/python3.10/dist-packages/IPython/core/ultratb.py\", line 1101, in get_records\n",
            "    return _fixed_getinnerframes(etb, number_of_lines_of_context, tb_offset)\n",
            "  File \"/usr/local/lib/python3.10/dist-packages/IPython/core/ultratb.py\", line 248, in wrapped\n",
            "    return f(*args, **kwargs)\n",
            "  File \"/usr/local/lib/python3.10/dist-packages/IPython/core/ultratb.py\", line 281, in _fixed_getinnerframes\n",
            "    records = fix_frame_records_filenames(inspect.getinnerframes(etb, context))\n",
            "  File \"/usr/lib/python3.10/inspect.py\", line 1662, in getinnerframes\n",
            "    frameinfo = (tb.tb_frame,) + getframeinfo(tb, context)\n",
            "AttributeError: 'tuple' object has no attribute 'tb_frame'\n"
          ]
        },
        {
          "output_type": "error",
          "ename": "TypeError",
          "evalue": "ignored",
          "traceback": [
            "\u001b[0;31m---------------------------------------------------------------------------\u001b[0m",
            "\u001b[0;31mValueError\u001b[0m                                Traceback (most recent call last)",
            "\u001b[0;32m/usr/local/lib/python3.10/dist-packages/pygad/pygad.py\u001b[0m in \u001b[0;36mcal_pop_fitness\u001b[0;34m(self)\u001b[0m\n\u001b[1;32m   1668\u001b[0m                         \u001b[0;32mif\u001b[0m \u001b[0mself\u001b[0m\u001b[0;34m.\u001b[0m\u001b[0mfitness_batch_size\u001b[0m \u001b[0;32min\u001b[0m \u001b[0;34m[\u001b[0m\u001b[0;36m1\u001b[0m\u001b[0;34m,\u001b[0m \u001b[0;32mNone\u001b[0m\u001b[0;34m]\u001b[0m\u001b[0;34m:\u001b[0m\u001b[0;34m\u001b[0m\u001b[0;34m\u001b[0m\u001b[0m\n\u001b[0;32m-> 1669\u001b[0;31m                             \u001b[0mfitness\u001b[0m \u001b[0;34m=\u001b[0m \u001b[0mself\u001b[0m\u001b[0;34m.\u001b[0m\u001b[0mfitness_func\u001b[0m\u001b[0;34m(\u001b[0m\u001b[0mself\u001b[0m\u001b[0;34m,\u001b[0m \u001b[0msol\u001b[0m\u001b[0;34m,\u001b[0m \u001b[0msol_idx\u001b[0m\u001b[0;34m)\u001b[0m\u001b[0;34m\u001b[0m\u001b[0;34m\u001b[0m\u001b[0m\n\u001b[0m\u001b[1;32m   1670\u001b[0m                             \u001b[0;32mif\u001b[0m \u001b[0mtype\u001b[0m\u001b[0;34m(\u001b[0m\u001b[0mfitness\u001b[0m\u001b[0;34m)\u001b[0m \u001b[0;32min\u001b[0m \u001b[0mGA\u001b[0m\u001b[0;34m.\u001b[0m\u001b[0msupported_int_float_types\u001b[0m\u001b[0;34m:\u001b[0m\u001b[0;34m\u001b[0m\u001b[0;34m\u001b[0m\u001b[0m\n",
            "\u001b[0;32m<ipython-input-3-d9164465bdad>\u001b[0m in \u001b[0;36mfitness_function_calculator\u001b[0;34m(ga_instance, solution, solution_idx)\u001b[0m\n\u001b[1;32m     22\u001b[0m     \u001b[0;32mfor\u001b[0m \u001b[0mrow\u001b[0m \u001b[0;32min\u001b[0m \u001b[0mreader\u001b[0m\u001b[0;34m:\u001b[0m\u001b[0;34m\u001b[0m\u001b[0;34m\u001b[0m\u001b[0m\n\u001b[0;32m---> 23\u001b[0;31m       \u001b[0mrow_app\u001b[0m \u001b[0;34m=\u001b[0m \u001b[0;34m[\u001b[0m\u001b[0mfloat\u001b[0m\u001b[0;34m(\u001b[0m\u001b[0mrow\u001b[0m\u001b[0;34m[\u001b[0m\u001b[0;36m0\u001b[0m\u001b[0;34m]\u001b[0m\u001b[0;34m)\u001b[0m\u001b[0;34m,\u001b[0m\u001b[0mint\u001b[0m\u001b[0;34m(\u001b[0m\u001b[0mrow\u001b[0m\u001b[0;34m[\u001b[0m\u001b[0;36m1\u001b[0m\u001b[0;34m]\u001b[0m\u001b[0;34m)\u001b[0m\u001b[0;34m,\u001b[0m\u001b[0mint\u001b[0m\u001b[0;34m(\u001b[0m\u001b[0mrow\u001b[0m\u001b[0;34m[\u001b[0m\u001b[0;36m2\u001b[0m\u001b[0;34m]\u001b[0m\u001b[0;34m)\u001b[0m\u001b[0;34m,\u001b[0m\u001b[0mint\u001b[0m\u001b[0;34m(\u001b[0m\u001b[0mrow\u001b[0m\u001b[0;34m[\u001b[0m\u001b[0;36m3\u001b[0m\u001b[0;34m]\u001b[0m\u001b[0;34m)\u001b[0m\u001b[0;34m,\u001b[0m\u001b[0mfloat\u001b[0m\u001b[0;34m(\u001b[0m\u001b[0mrow\u001b[0m\u001b[0;34m[\u001b[0m\u001b[0;36m4\u001b[0m\u001b[0;34m]\u001b[0m\u001b[0;34m)\u001b[0m\u001b[0;34m]\u001b[0m \u001b[0;31m#Convert the values in the correct format\u001b[0m\u001b[0;34m\u001b[0m\u001b[0;34m\u001b[0m\u001b[0m\n\u001b[0m\u001b[1;32m     24\u001b[0m \u001b[0;34m\u001b[0m\u001b[0m\n",
            "\u001b[0;31mValueError\u001b[0m: invalid literal for int() with base 10: '1.0'",
            "\nDuring handling of the above exception, another exception occurred:\n",
            "\u001b[0;31mSystemExit\u001b[0m                                Traceback (most recent call last)",
            "    \u001b[0;31m[... skipping hidden 1 frame]\u001b[0m\n",
            "\u001b[0;32m<ipython-input-7-1020420dc18a>\u001b[0m in \u001b[0;36m<cell line: 37>\u001b[0;34m()\u001b[0m\n\u001b[1;32m     36\u001b[0m                        )\n\u001b[0;32m---> 37\u001b[0;31m \u001b[0mga_instance\u001b[0m\u001b[0;34m.\u001b[0m\u001b[0mrun\u001b[0m\u001b[0;34m(\u001b[0m\u001b[0;34m)\u001b[0m\u001b[0;34m\u001b[0m\u001b[0;34m\u001b[0m\u001b[0m\n\u001b[0m\u001b[1;32m     38\u001b[0m \u001b[0;34m\u001b[0m\u001b[0m\n",
            "\u001b[0;32m/usr/local/lib/python3.10/dist-packages/pygad/pygad.py\u001b[0m in \u001b[0;36mrun\u001b[0;34m(self)\u001b[0m\n\u001b[1;32m   2072\u001b[0m                 \u001b[0;31m# Measuring the fitness of each chromosome in the population. Save the fitness in the last_generation_fitness attribute.\u001b[0m\u001b[0;34m\u001b[0m\u001b[0;34m\u001b[0m\u001b[0m\n\u001b[0;32m-> 2073\u001b[0;31m                 \u001b[0mself\u001b[0m\u001b[0;34m.\u001b[0m\u001b[0mlast_generation_fitness\u001b[0m \u001b[0;34m=\u001b[0m \u001b[0mself\u001b[0m\u001b[0;34m.\u001b[0m\u001b[0mcal_pop_fitness\u001b[0m\u001b[0;34m(\u001b[0m\u001b[0;34m)\u001b[0m\u001b[0;34m\u001b[0m\u001b[0;34m\u001b[0m\u001b[0m\n\u001b[0m\u001b[1;32m   2074\u001b[0m \u001b[0;34m\u001b[0m\u001b[0m\n",
            "\u001b[0;32m/usr/local/lib/python3.10/dist-packages/pygad/pygad.py\u001b[0m in \u001b[0;36mcal_pop_fitness\u001b[0;34m(self)\u001b[0m\n\u001b[1;32m   1804\u001b[0m             \u001b[0mself\u001b[0m\u001b[0;34m.\u001b[0m\u001b[0mlogger\u001b[0m\u001b[0;34m.\u001b[0m\u001b[0mexception\u001b[0m\u001b[0;34m(\u001b[0m\u001b[0mex\u001b[0m\u001b[0;34m)\u001b[0m\u001b[0;34m\u001b[0m\u001b[0;34m\u001b[0m\u001b[0m\n\u001b[0;32m-> 1805\u001b[0;31m             \u001b[0msys\u001b[0m\u001b[0;34m.\u001b[0m\u001b[0mexit\u001b[0m\u001b[0;34m(\u001b[0m\u001b[0;34m-\u001b[0m\u001b[0;36m1\u001b[0m\u001b[0;34m)\u001b[0m\u001b[0;34m\u001b[0m\u001b[0;34m\u001b[0m\u001b[0m\n\u001b[0m\u001b[1;32m   1806\u001b[0m         \u001b[0;32mreturn\u001b[0m \u001b[0mpop_fitness\u001b[0m\u001b[0;34m\u001b[0m\u001b[0;34m\u001b[0m\u001b[0m\n",
            "\u001b[0;31mSystemExit\u001b[0m: -1",
            "\nDuring handling of the above exception, another exception occurred:\n",
            "\u001b[0;31mTypeError\u001b[0m                                 Traceback (most recent call last)",
            "    \u001b[0;31m[... skipping hidden 1 frame]\u001b[0m\n",
            "\u001b[0;32m/usr/local/lib/python3.10/dist-packages/IPython/core/interactiveshell.py\u001b[0m in \u001b[0;36mshowtraceback\u001b[0;34m(self, exc_tuple, filename, tb_offset, exception_only, running_compiled_code)\u001b[0m\n\u001b[1;32m   2090\u001b[0m                     stb = ['An exception has occurred, use %tb to see '\n\u001b[1;32m   2091\u001b[0m                            'the full traceback.\\n']\n\u001b[0;32m-> 2092\u001b[0;31m                     stb.extend(self.InteractiveTB.get_exception_only(etype,\n\u001b[0m\u001b[1;32m   2093\u001b[0m                                                                      value))\n\u001b[1;32m   2094\u001b[0m                 \u001b[0;32melse\u001b[0m\u001b[0;34m:\u001b[0m\u001b[0;34m\u001b[0m\u001b[0;34m\u001b[0m\u001b[0m\n",
            "\u001b[0;32m/usr/local/lib/python3.10/dist-packages/IPython/core/ultratb.py\u001b[0m in \u001b[0;36mget_exception_only\u001b[0;34m(self, etype, value)\u001b[0m\n\u001b[1;32m    752\u001b[0m         \u001b[0mvalue\u001b[0m \u001b[0;34m:\u001b[0m \u001b[0mexception\u001b[0m \u001b[0mvalue\u001b[0m\u001b[0;34m\u001b[0m\u001b[0;34m\u001b[0m\u001b[0m\n\u001b[1;32m    753\u001b[0m         \"\"\"\n\u001b[0;32m--> 754\u001b[0;31m         \u001b[0;32mreturn\u001b[0m \u001b[0mListTB\u001b[0m\u001b[0;34m.\u001b[0m\u001b[0mstructured_traceback\u001b[0m\u001b[0;34m(\u001b[0m\u001b[0mself\u001b[0m\u001b[0;34m,\u001b[0m \u001b[0metype\u001b[0m\u001b[0;34m,\u001b[0m \u001b[0mvalue\u001b[0m\u001b[0;34m)\u001b[0m\u001b[0;34m\u001b[0m\u001b[0;34m\u001b[0m\u001b[0m\n\u001b[0m\u001b[1;32m    755\u001b[0m \u001b[0;34m\u001b[0m\u001b[0m\n\u001b[1;32m    756\u001b[0m     \u001b[0;32mdef\u001b[0m \u001b[0mshow_exception_only\u001b[0m\u001b[0;34m(\u001b[0m\u001b[0mself\u001b[0m\u001b[0;34m,\u001b[0m \u001b[0metype\u001b[0m\u001b[0;34m,\u001b[0m \u001b[0mevalue\u001b[0m\u001b[0;34m)\u001b[0m\u001b[0;34m:\u001b[0m\u001b[0;34m\u001b[0m\u001b[0;34m\u001b[0m\u001b[0m\n",
            "\u001b[0;32m/usr/local/lib/python3.10/dist-packages/IPython/core/ultratb.py\u001b[0m in \u001b[0;36mstructured_traceback\u001b[0;34m(self, etype, evalue, etb, tb_offset, context)\u001b[0m\n\u001b[1;32m    627\u001b[0m             \u001b[0mchained_exceptions_tb_offset\u001b[0m \u001b[0;34m=\u001b[0m \u001b[0;36m0\u001b[0m\u001b[0;34m\u001b[0m\u001b[0;34m\u001b[0m\u001b[0m\n\u001b[1;32m    628\u001b[0m             out_list = (\n\u001b[0;32m--> 629\u001b[0;31m                 self.structured_traceback(\n\u001b[0m\u001b[1;32m    630\u001b[0m                     \u001b[0metype\u001b[0m\u001b[0;34m,\u001b[0m \u001b[0mevalue\u001b[0m\u001b[0;34m,\u001b[0m \u001b[0;34m(\u001b[0m\u001b[0metb\u001b[0m\u001b[0;34m,\u001b[0m \u001b[0mchained_exc_ids\u001b[0m\u001b[0;34m)\u001b[0m\u001b[0;34m,\u001b[0m\u001b[0;34m\u001b[0m\u001b[0;34m\u001b[0m\u001b[0m\n\u001b[1;32m    631\u001b[0m                     chained_exceptions_tb_offset, context)\n",
            "\u001b[0;32m/usr/local/lib/python3.10/dist-packages/IPython/core/ultratb.py\u001b[0m in \u001b[0;36mstructured_traceback\u001b[0;34m(self, etype, value, tb, tb_offset, number_of_lines_of_context)\u001b[0m\n\u001b[1;32m   1365\u001b[0m         \u001b[0;32melse\u001b[0m\u001b[0;34m:\u001b[0m\u001b[0;34m\u001b[0m\u001b[0;34m\u001b[0m\u001b[0m\n\u001b[1;32m   1366\u001b[0m             \u001b[0mself\u001b[0m\u001b[0;34m.\u001b[0m\u001b[0mtb\u001b[0m \u001b[0;34m=\u001b[0m \u001b[0mtb\u001b[0m\u001b[0;34m\u001b[0m\u001b[0;34m\u001b[0m\u001b[0m\n\u001b[0;32m-> 1367\u001b[0;31m         return FormattedTB.structured_traceback(\n\u001b[0m\u001b[1;32m   1368\u001b[0m             self, etype, value, tb, tb_offset, number_of_lines_of_context)\n\u001b[1;32m   1369\u001b[0m \u001b[0;34m\u001b[0m\u001b[0m\n",
            "\u001b[0;32m/usr/local/lib/python3.10/dist-packages/IPython/core/ultratb.py\u001b[0m in \u001b[0;36mstructured_traceback\u001b[0;34m(self, etype, value, tb, tb_offset, number_of_lines_of_context)\u001b[0m\n\u001b[1;32m   1265\u001b[0m         \u001b[0;32mif\u001b[0m \u001b[0mmode\u001b[0m \u001b[0;32min\u001b[0m \u001b[0mself\u001b[0m\u001b[0;34m.\u001b[0m\u001b[0mverbose_modes\u001b[0m\u001b[0;34m:\u001b[0m\u001b[0;34m\u001b[0m\u001b[0;34m\u001b[0m\u001b[0m\n\u001b[1;32m   1266\u001b[0m             \u001b[0;31m# Verbose modes need a full traceback\u001b[0m\u001b[0;34m\u001b[0m\u001b[0;34m\u001b[0m\u001b[0m\n\u001b[0;32m-> 1267\u001b[0;31m             return VerboseTB.structured_traceback(\n\u001b[0m\u001b[1;32m   1268\u001b[0m                 \u001b[0mself\u001b[0m\u001b[0;34m,\u001b[0m \u001b[0metype\u001b[0m\u001b[0;34m,\u001b[0m \u001b[0mvalue\u001b[0m\u001b[0;34m,\u001b[0m \u001b[0mtb\u001b[0m\u001b[0;34m,\u001b[0m \u001b[0mtb_offset\u001b[0m\u001b[0;34m,\u001b[0m \u001b[0mnumber_of_lines_of_context\u001b[0m\u001b[0;34m\u001b[0m\u001b[0;34m\u001b[0m\u001b[0m\n\u001b[1;32m   1269\u001b[0m             )\n",
            "\u001b[0;32m/usr/local/lib/python3.10/dist-packages/IPython/core/ultratb.py\u001b[0m in \u001b[0;36mstructured_traceback\u001b[0;34m(self, etype, evalue, etb, tb_offset, number_of_lines_of_context)\u001b[0m\n\u001b[1;32m   1122\u001b[0m         \u001b[0;34m\"\"\"Return a nice text document describing the traceback.\"\"\"\u001b[0m\u001b[0;34m\u001b[0m\u001b[0;34m\u001b[0m\u001b[0m\n\u001b[1;32m   1123\u001b[0m \u001b[0;34m\u001b[0m\u001b[0m\n\u001b[0;32m-> 1124\u001b[0;31m         formatted_exception = self.format_exception_as_a_whole(etype, evalue, etb, number_of_lines_of_context,\n\u001b[0m\u001b[1;32m   1125\u001b[0m                                                                tb_offset)\n\u001b[1;32m   1126\u001b[0m \u001b[0;34m\u001b[0m\u001b[0m\n",
            "\u001b[0;32m/usr/local/lib/python3.10/dist-packages/IPython/core/ultratb.py\u001b[0m in \u001b[0;36mformat_exception_as_a_whole\u001b[0;34m(self, etype, evalue, etb, number_of_lines_of_context, tb_offset)\u001b[0m\n\u001b[1;32m   1080\u001b[0m \u001b[0;34m\u001b[0m\u001b[0m\n\u001b[1;32m   1081\u001b[0m \u001b[0;34m\u001b[0m\u001b[0m\n\u001b[0;32m-> 1082\u001b[0;31m         \u001b[0mlast_unique\u001b[0m\u001b[0;34m,\u001b[0m \u001b[0mrecursion_repeat\u001b[0m \u001b[0;34m=\u001b[0m \u001b[0mfind_recursion\u001b[0m\u001b[0;34m(\u001b[0m\u001b[0morig_etype\u001b[0m\u001b[0;34m,\u001b[0m \u001b[0mevalue\u001b[0m\u001b[0;34m,\u001b[0m \u001b[0mrecords\u001b[0m\u001b[0;34m)\u001b[0m\u001b[0;34m\u001b[0m\u001b[0;34m\u001b[0m\u001b[0m\n\u001b[0m\u001b[1;32m   1083\u001b[0m \u001b[0;34m\u001b[0m\u001b[0m\n\u001b[1;32m   1084\u001b[0m         \u001b[0mframes\u001b[0m \u001b[0;34m=\u001b[0m \u001b[0mself\u001b[0m\u001b[0;34m.\u001b[0m\u001b[0mformat_records\u001b[0m\u001b[0;34m(\u001b[0m\u001b[0mrecords\u001b[0m\u001b[0;34m,\u001b[0m \u001b[0mlast_unique\u001b[0m\u001b[0;34m,\u001b[0m \u001b[0mrecursion_repeat\u001b[0m\u001b[0;34m)\u001b[0m\u001b[0;34m\u001b[0m\u001b[0;34m\u001b[0m\u001b[0m\n",
            "\u001b[0;32m/usr/local/lib/python3.10/dist-packages/IPython/core/ultratb.py\u001b[0m in \u001b[0;36mfind_recursion\u001b[0;34m(etype, value, records)\u001b[0m\n\u001b[1;32m    380\u001b[0m     \u001b[0;31m# first frame (from in to out) that looks different.\u001b[0m\u001b[0;34m\u001b[0m\u001b[0;34m\u001b[0m\u001b[0m\n\u001b[1;32m    381\u001b[0m     \u001b[0;32mif\u001b[0m \u001b[0;32mnot\u001b[0m \u001b[0mis_recursion_error\u001b[0m\u001b[0;34m(\u001b[0m\u001b[0metype\u001b[0m\u001b[0;34m,\u001b[0m \u001b[0mvalue\u001b[0m\u001b[0;34m,\u001b[0m \u001b[0mrecords\u001b[0m\u001b[0;34m)\u001b[0m\u001b[0;34m:\u001b[0m\u001b[0;34m\u001b[0m\u001b[0;34m\u001b[0m\u001b[0m\n\u001b[0;32m--> 382\u001b[0;31m         \u001b[0;32mreturn\u001b[0m \u001b[0mlen\u001b[0m\u001b[0;34m(\u001b[0m\u001b[0mrecords\u001b[0m\u001b[0;34m)\u001b[0m\u001b[0;34m,\u001b[0m \u001b[0;36m0\u001b[0m\u001b[0;34m\u001b[0m\u001b[0;34m\u001b[0m\u001b[0m\n\u001b[0m\u001b[1;32m    383\u001b[0m \u001b[0;34m\u001b[0m\u001b[0m\n\u001b[1;32m    384\u001b[0m     \u001b[0;31m# Select filename, lineno, func_name to track frames with\u001b[0m\u001b[0;34m\u001b[0m\u001b[0;34m\u001b[0m\u001b[0m\n",
            "\u001b[0;31mTypeError\u001b[0m: object of type 'NoneType' has no len()"
          ]
        }
      ]
    }
  ]
}