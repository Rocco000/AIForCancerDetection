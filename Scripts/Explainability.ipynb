{
  "nbformat": 4,
  "nbformat_minor": 0,
  "metadata": {
    "colab": {
      "provenance": [],
      "gpuType": "T4",
      "authorship_tag": "ABX9TyPHz8de0gP4rZGP+82J5Q31",
      "include_colab_link": true
    },
    "kernelspec": {
      "name": "python3",
      "display_name": "Python 3"
    },
    "language_info": {
      "name": "python"
    },
    "accelerator": "GPU"
  },
  "cells": [
    {
      "cell_type": "markdown",
      "metadata": {
        "id": "view-in-github",
        "colab_type": "text"
      },
      "source": [
        "<a href=\"https://colab.research.google.com/github/Rocco000/OncoVision/blob/main/Scripts/Explainability.ipynb\" target=\"_parent\"><img src=\"https://colab.research.google.com/assets/colab-badge.svg\" alt=\"Open In Colab\"/></a>"
      ]
    },
    {
      "cell_type": "code",
      "execution_count": null,
      "metadata": {
        "id": "GWHCkChL43AS"
      },
      "outputs": [],
      "source": [
        "import torch\n",
        "device = torch.device(\"cuda\" if torch.cuda.is_available() else \"cpu\")\n",
        "print(\"Device: \",device)"
      ]
    },
    {
      "cell_type": "code",
      "source": [
        "from google.colab import drive\n",
        "drive.mount('/content/drive') #Connect to Google Drive"
      ],
      "metadata": {
        "id": "d69DKAII5Cal"
      },
      "execution_count": null,
      "outputs": []
    },
    {
      "cell_type": "code",
      "source": [
        "from google.colab import auth\n",
        "from googleapiclient.discovery import build\n",
        "\n",
        "#To authenticate the user that run the script in order to use the correct path\n",
        "auth.authenticate_user()\n",
        "drive_service = build('drive', 'v3')\n",
        "\n",
        "#Get user information\n",
        "about = drive_service.about().get(fields='user').execute()\n",
        "user_email = about['user']['emailAddress']\n",
        "script_owner = False\n",
        "\n",
        "if user_email ==\"rocco.iul2000@gmail.com\":\n",
        "  script_owner = True\n",
        "  #Run the .ipynb file\n",
        "  %run '/content/drive/MyDrive/Colab Notebooks/DatasetLoader.ipynb'\n",
        "  %run '/content/drive/MyDrive/Colab Notebooks/ModelArchitecture1.ipynb'\n",
        "  %run '/content/drive/MyDrive/Colab Notebooks/TrainModel.ipynb'\n",
        "else:\n",
        "  %run '/content/drive/MyDrive/LinkToOncoVision/DatasetLoader.ipynb'\n",
        "  %run '/content/drive/MyDrive/LinkToOncoVision/ModelArchitecture1.ipynb'\n",
        "  %run '/content/drive/MyDrive/LinkToOncoVision/TrainModel.ipynb'"
      ],
      "metadata": {
        "id": "WtnvBJIz9SrR"
      },
      "execution_count": null,
      "outputs": []
    },
    {
      "cell_type": "code",
      "source": [
        "#Train model\n",
        "model_configuration,acc,pre,rec,f1=start_process(False,0.001,64,64,1)"
      ],
      "metadata": {
        "id": "QsYSBmSGBWij"
      },
      "execution_count": null,
      "outputs": []
    },
    {
      "cell_type": "code",
      "source": [
        "!pip install grad-cam\n",
        "from pytorch_grad_cam import GradCAM, HiResCAM, ScoreCAM, GradCAMPlusPlus, AblationCAM, XGradCAM, EigenCAM, FullGrad\n",
        "from pytorch_grad_cam.utils.model_targets import ClassifierOutputTarget\n",
        "from pytorch_grad_cam.utils.image import show_cam_on_image\n",
        "import numpy as np\n",
        "import matplotlib.pyplot as plt\n",
        "import torch\n",
        "import torch.nn.functional as F\n",
        "\n",
        "\n",
        "model = ConvModel1()\n",
        "model.load_state_dict(model_configuration) #Load the best model configuration\n",
        "model.to(device)\n",
        "#Set the model in evaluation mode\n",
        "model.eval()\n",
        "target_layers=[model.layer4]\n",
        "for images, labels in test_loader:\n",
        "  for image in images:\n",
        "    input_tensor =image\n",
        "    break\n",
        "  for label in labels:\n",
        "    input_label=label\n",
        "    break\n",
        "  break\n",
        "\n",
        "#Construct the CAM object\n",
        "cam = GradCAM(model=model, target_layers=target_layers, use_cuda=True if device==\"cuda\" else False)\n",
        "\n",
        "input_tensor = input_tensor.type(torch.cuda.FloatTensor)\n",
        "input_tensor=torch.unsqueeze(input_tensor,0)\n",
        "input_tensor.to(device)\n",
        "predicted_label=model(input_tensor)\n",
        "#Apply the Softmax activation function. Dim=1 because the output size is [64,2] where the model prediction is in the second column\n",
        "prediction = F.softmax(predicted_label, dim=1)\n",
        "\n",
        "#To extract the predicted class with the highest probability for each input sample. 1 to indicate on which dimension apply the max\n",
        "_, prediction = torch.max(prediction, 1)\n",
        "\n",
        "\n",
        "targets = [ClassifierOutputTarget(1)]\n",
        "\n",
        "\n",
        "grayscale_cam = cam(input_tensor=input_tensor, targets=targets)\n",
        "grayscale_cam = grayscale_cam[0, :]\n",
        "#Cooy the tensor in CPU\n",
        "cpu_tensor=input_tensor.cpu()\n",
        "#Convert the tensor in the original image\n",
        "rgb_img= cpu_tensor.numpy()[0]\n",
        "visualization = show_cam_on_image(rgb_img.transpose(1,2,0), grayscale_cam, use_rgb=False)\n",
        "print(\"Effective label:\",input_label.numpy())\n",
        "print(\"Predicted label:\", prediction.cpu().numpy())\n",
        "plt.imshow(visualization)\n",
        "plt.axis('off')  # Rimuovi gli assi\n",
        "plt.show()\n"
      ],
      "metadata": {
        "id": "02UeAIgRB1aS"
      },
      "execution_count": null,
      "outputs": []
    }
  ]
}